{
 "cells": [
  {
   "cell_type": "code",
   "execution_count": null,
   "metadata": {},
   "outputs": [],
   "source": [
    "# silhoutte score\n",
    "# Here X_train_scaled is the training dataset with scaled or standardization\n",
    "\n",
    "from sklearn.metrics import silhouette_score\n",
    "\n",
    "silhouette_coeff = []\n",
    "for k in range(2, 11):\n",
    "    kmeans = KMeans(n_clusters=k, init='k-means++')\n",
    "    kmeans.fit(X_train_scaled)\n",
    "    score = silhouette_score(X_train_scaled, kmeans.labels_)\n",
    "    silhouette_coeff.append(score)\n",
    "    \n",
    "    \n",
    "silhouette_coeff"
   ]
  },
  {
   "cell_type": "code",
   "execution_count": null,
   "metadata": {},
   "outputs": [],
   "source": [
    "# plot the silhoutte curve\n",
    "plt.plot(range(2, 11), silhouette_coeff)\n",
    "plt.xticks(range(2, 11))\n",
    "plt.xlabel(\"Number of cluster\")\n",
    "plt.ylabel(\"WCSS\")\n",
    "plt.show()"
   ]
  }
 ],
 "metadata": {
  "kernelspec": {
   "display_name": "venv",
   "language": "python",
   "name": "python3"
  },
  "language_info": {
   "name": "python",
   "version": "3.10.0"
  }
 },
 "nbformat": 4,
 "nbformat_minor": 2
}
