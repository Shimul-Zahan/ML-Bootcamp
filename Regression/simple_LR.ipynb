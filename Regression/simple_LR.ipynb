{
 "cells": [
  {
   "cell_type": "markdown",
   "metadata": {},
   "source": [
    "# Simple Linear Regression\n",
    "1. input/features\n",
    "2. output\n",
    "3. error (RMS)"
   ]
  },
  {
   "cell_type": "code",
   "execution_count": null,
   "metadata": {},
   "outputs": [],
   "source": [
    "# Here is the equ: for the LR:\n",
    "# y(x) = w^i(x^i) + b\n",
    "# here y(x) -> is the output or predict value\n",
    "# x^i -> x is the features of the ith example\n",
    "# w -> is the weight or slope of best fit line\n",
    "# b -> intercept for the best fit line"
   ]
  },
  {
   "cell_type": "code",
   "execution_count": null,
   "metadata": {},
   "outputs": [],
   "source": [
    "# Here is the equ for the RMS\n",
    "# j(w,b) = 1/2m sum( y^i(actual) - (w^i * x^i))^2\n",
    "# y^i -> actual value\n",
    "# j(w,b) -> cost function\n",
    "# (w^i * x^i) -> predict value"
   ]
  },
  {
   "cell_type": "code",
   "execution_count": 4,
   "metadata": {},
   "outputs": [],
   "source": [
    "import numpy as np\n",
    "import pandas as pd\n",
    "import matplotlib.pyplot as plt\n",
    "import seaborn  as sns\n",
    "import plotly.express as px\n"
   ]
  },
  {
   "cell_type": "code",
   "execution_count": 29,
   "metadata": {},
   "outputs": [],
   "source": [
    "x = np.array([1,2,3])  # features\n",
    "y_actual = np.array([1,2,3])  # output\n",
    "w = 0.5\n",
    "b = 0"
   ]
  },
  {
   "cell_type": "code",
   "execution_count": 37,
   "metadata": {},
   "outputs": [],
   "source": [
    "def MSE(x, y_actual, w, b=0):\n",
    "    error = 0\n",
    "    m = len(x)\n",
    "    for i in range(len(x)):\n",
    "        y_predict_i = w * x[i] + b\n",
    "        error += (y_actual[i] - y_predict_i) ** 2\n",
    "        # error_list.append(error)\n",
    "        print(f\"Actual Output {y_actual[i]}\")\n",
    "        print(f\"Predict Output {y_predict_i}\")\n",
    "    mse = error / (2 * m)\n",
    "    return mse\n",
    "\n",
    "        "
   ]
  },
  {
   "cell_type": "code",
   "execution_count": 38,
   "metadata": {},
   "outputs": [
    {
     "name": "stdout",
     "output_type": "stream",
     "text": [
      "Actual Output 1\n",
      "Predict Output 1\n",
      "Actual Output 2\n",
      "Predict Output 2\n",
      "Actual Output 3\n",
      "Predict Output 3\n",
      "MSE for 1: 0.0\n",
      "------------------------\n",
      "Actual Output 1\n",
      "Predict Output 0.5\n",
      "Actual Output 2\n",
      "Predict Output 1.0\n",
      "Actual Output 3\n",
      "Predict Output 1.5\n",
      "MSE for 0.5: 0.58\n",
      "------------------------\n",
      "Actual Output 1\n",
      "Predict Output 0.8\n",
      "Actual Output 2\n",
      "Predict Output 1.6\n",
      "Actual Output 3\n",
      "Predict Output 2.4000000000000004\n",
      "MSE for 0.8: 0.09\n",
      "------------------------\n",
      "Actual Output 1\n",
      "Predict Output 0.2\n",
      "Actual Output 2\n",
      "Predict Output 0.4\n",
      "Actual Output 3\n",
      "Predict Output 0.6000000000000001\n",
      "MSE for 0.2: 1.49\n",
      "------------------------\n"
     ]
    }
   ],
   "source": [
    "w=[1, 0.5, 0.8, 0.2]\n",
    "for weight in w:\n",
    "    print(f\"MSE for {weight}: {round(MSE(x, y_actual, w=weight), 2)}\")\n",
    "    print(\"------------------------\")"
   ]
  }
 ],
 "metadata": {
  "kernelspec": {
   "display_name": "venv",
   "language": "python",
   "name": "python3"
  },
  "language_info": {
   "codemirror_mode": {
    "name": "ipython",
    "version": 3
   },
   "file_extension": ".py",
   "mimetype": "text/x-python",
   "name": "python",
   "nbconvert_exporter": "python",
   "pygments_lexer": "ipython3",
   "version": "3.10.0"
  }
 },
 "nbformat": 4,
 "nbformat_minor": 2
}
