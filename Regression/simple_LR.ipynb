{
 "cells": [
  {
   "cell_type": "markdown",
   "metadata": {},
   "source": [
    "# Simple Linear Regression\n",
    "1. input/features\n",
    "2. output\n",
    "3. error (RMS)"
   ]
  },
  {
   "cell_type": "code",
   "execution_count": 1,
   "metadata": {},
   "outputs": [],
   "source": [
    "# Here is the equ: for the LR:\n",
    "# y(x) = w^i(x^i) + b\n",
    "# here y(x) -> is the output or predict value\n",
    "# x^i -> x is the features of the ith example\n",
    "# w -> is the weight or slope of best fit line\n",
    "# b -> intercept for the best fit line"
   ]
  },
  {
   "cell_type": "code",
   "execution_count": 2,
   "metadata": {},
   "outputs": [],
   "source": [
    "# Here is the equ for the RMS\n",
    "# j(w,b) = 1/2m sum( y^i(actual) - (w^i * x^i))^2\n",
    "# y^i -> actual value\n",
    "# j(w,b) -> cost function\n",
    "# (w^i * x^i) -> predict value"
   ]
  },
  {
   "cell_type": "code",
   "execution_count": 3,
   "metadata": {},
   "outputs": [],
   "source": [
    "import numpy as np\n",
    "import pandas as pd\n",
    "import matplotlib.pyplot as plt\n",
    "import seaborn  as sns\n",
    "import plotly.express as px\n"
   ]
  },
  {
   "cell_type": "code",
   "execution_count": 4,
   "metadata": {},
   "outputs": [],
   "source": [
    "x = np.array([1,2,3])  # features\n",
    "y_actual = np.array([1,2,3])  # output\n",
    "w = 0.5\n",
    "b = 0"
   ]
  },
  {
   "cell_type": "code",
   "execution_count": 5,
   "metadata": {},
   "outputs": [],
   "source": [
    "def MSE(x, y_actual, w, b=0):\n",
    "    error = 0\n",
    "    m = len(x)\n",
    "    for i in range(len(x)):\n",
    "        y_predict_i = w * x[i] + b\n",
    "        error += (y_actual[i] - y_predict_i) ** 2\n",
    "        # error_list.append(error)\n",
    "        print(f\"Actual Output {y_actual[i]}\")\n",
    "        print(f\"Predict Output {y_predict_i}\")\n",
    "    mse = error / (2 * m)\n",
    "    return mse\n",
    "\n",
    "        "
   ]
  },
  {
   "cell_type": "code",
   "execution_count": 6,
   "metadata": {},
   "outputs": [
    {
     "name": "stdout",
     "output_type": "stream",
     "text": [
      "Actual Output 1\n",
      "Predict Output 1\n",
      "Actual Output 2\n",
      "Predict Output 2\n",
      "Actual Output 3\n",
      "Predict Output 3\n",
      "MSE for 1: 0.0\n",
      "------------------------\n",
      "Actual Output 1\n",
      "Predict Output 0.5\n",
      "Actual Output 2\n",
      "Predict Output 1.0\n",
      "Actual Output 3\n",
      "Predict Output 1.5\n",
      "MSE for 0.5: 0.58\n",
      "------------------------\n",
      "Actual Output 1\n",
      "Predict Output 0.8\n",
      "Actual Output 2\n",
      "Predict Output 1.6\n",
      "Actual Output 3\n",
      "Predict Output 2.4000000000000004\n",
      "MSE for 0.8: 0.09\n",
      "------------------------\n",
      "Actual Output 1\n",
      "Predict Output 0.2\n",
      "Actual Output 2\n",
      "Predict Output 0.4\n",
      "Actual Output 3\n",
      "Predict Output 0.6000000000000001\n",
      "MSE for 0.2: 1.49\n",
      "------------------------\n"
     ]
    }
   ],
   "source": [
    "w=[1, 0.5, 0.8, 0.2]\n",
    "for weight in w:\n",
    "    print(f\"MSE for {weight}: {round(MSE(x, y_actual, w=weight), 2)}\")\n",
    "    print(\"------------------------\")"
   ]
  },
  {
   "cell_type": "code",
   "execution_count": 7,
   "metadata": {},
   "outputs": [
    {
     "name": "stdout",
     "output_type": "stream",
     "text": [
      "Epoch 0, Loss: 15.3740, w: 0.2544, b: 0.0748\n",
      "Epoch 100, Loss: 0.3925, w: 0.9843, b: 0.6441\n",
      "Epoch 200, Loss: 0.3280, w: 0.9170, b: 0.8871\n",
      "Epoch 300, Loss: 0.2952, w: 0.8690, b: 1.0603\n",
      "Epoch 400, Loss: 0.2786, w: 0.8348, b: 1.1838\n",
      "Epoch 500, Loss: 0.2701, w: 0.8105, b: 1.2717\n",
      "Epoch 600, Loss: 0.2658, w: 0.7931, b: 1.3344\n",
      "Epoch 700, Loss: 0.2637, w: 0.7807, b: 1.3791\n",
      "Epoch 800, Loss: 0.2625, w: 0.7719, b: 1.4110\n",
      "Epoch 900, Loss: 0.2620, w: 0.7656, b: 1.4337\n",
      "Final w: 0.7612, Final b: 1.4497\n"
     ]
    },
    {
     "data": {
      "image/png": "[encoded data removed]",
      "text/plain": [
       "<Figure size 800x500 with 1 Axes>"
      ]
     },
     "metadata": {},
     "output_type": "display_data"
    }
   ],
   "source": [
    "# Example data\n",
    "X = np.array([1, 2, 3, 4, 5])  # Input features\n",
    "y = np.array([2.2, 2.8, 4.5, 3.7, 5.5])  # Target values\n",
    "\n",
    "# Initialize weights and bias\n",
    "w, b = 0.0, 0.0\n",
    "\n",
    "# Hyperparameters\n",
    "learning_rate = 0.01\n",
    "epochs = 1000\n",
    "n = len(X)\n",
    "\n",
    "# Store loss values for visualization\n",
    "loss_values = []\n",
    "\n",
    "# Gradient Descent\n",
    "for epoch in range(epochs):\n",
    "    # Predicted values\n",
    "    y_pred = w * X + b\n",
    "    \n",
    "    # Gradients\n",
    "    dw = (-2 / n) * np.sum(X * (y - y_pred))\n",
    "    db = (-2 / n) * np.sum(y - y_pred)\n",
    "    \n",
    "    # Update weights and bias\n",
    "    w -= learning_rate * dw\n",
    "    b -= learning_rate * db\n",
    "    \n",
    "    # Calculate loss (MSE)\n",
    "    loss = np.mean((y - y_pred) ** 2)\n",
    "    loss_values.append(loss)\n",
    "    \n",
    "    if epoch % 100 == 0:\n",
    "        print(f\"Epoch {epoch}, Loss: {loss:.4f}, w: {w:.4f}, b: {b:.4f}\")\n",
    "\n",
    "# Final weights and bias\n",
    "print(f\"Final w: {w:.4f}, Final b: {b:.4f}\")\n",
    "\n",
    "# Plot loss convergence\n",
    "plt.figure(figsize=(8, 5))\n",
    "plt.plot(range(epochs), loss_values, label='Loss over epochs', color='blue')\n",
    "plt.xlabel('Epochs')\n",
    "plt.ylabel('Mean Squared Error (MSE)')\n",
    "plt.title('Convergence of Gradient Descent')\n",
    "plt.legend()\n",
    "plt.grid()\n",
    "plt.show()"
   ]
  },
  {
   "cell_type": "code",
   "execution_count": null,
   "metadata": {},
   "outputs": [],
   "source": [
    "\n",
    "# Example data\n",
    "X = np.array([1, 2, 3, 4, 5])  # Input features\n",
    "y = np.array([2.2, 2.8, 4.5, 3.7, 5.5])  # Target values\n",
    "\n",
    "# Initialize weights and bias\n",
    "w, b = 0.0, 0.0\n",
    "\n",
    "# Hyperparameters\n",
    "learning_rate = 0.01\n",
    "epochs = 1000\n",
    "n = len(X)\n",
    "\n",
    "# Store loss for visualization\n",
    "loss_history = []\n",
    "\n",
    "# Gradient Descent\n",
    "for epoch in range(epochs):\n",
    "    # Predicted values\n",
    "    y_pred = w * X + b\n",
    "    \n",
    "    # Compute gradients\n",
    "    dw = (-2 / n) * np.sum(X * (y - y_pred))\n",
    "    db = (-2 / n) * np.sum(y - y_pred)\n",
    "    \n",
    "    # Update weights and bias\n",
    "    w -= learning_rate * dw\n",
    "    b -= learning_rate * db\n",
    "    \n",
    "    # Calculate loss (MSE)\n",
    "    loss = np.mean((y - y_pred) ** 2)\n",
    "    loss_history.append(loss)\n",
    "    \n",
    "    # Plot regression line updates at intervals\n",
    "    if epoch % 250 == 0:\n",
    "        plt.scatter(X, y, color=\"blue\", label=\"Actual Data\")\n",
    "        plt.plot(X, w * X + b, color=\"red\", label=f\"Epoch {epoch}\")\n",
    "        plt.xlabel(\"X\")\n",
    "        plt.ylabel(\"y\")\n",
    "        plt.title(f\"Regression Line Update at Epoch {epoch}\")\n",
    "        plt.legend()\n",
    "        plt.show()\n",
    "\n",
    "# Final weight and bias\n",
    "print(f\"Final w: {w:.4f}, Final b: {b:.4f}\")\n",
    "\n",
    "# Plot loss vs epochs\n",
    "plt.plot(range(epochs), loss_history, color=\"green\")\n",
    "plt.xlabel(\"Epochs\")\n",
    "plt.ylabel(\"Loss (MSE)\")\n",
    "plt.title(\"Loss Convergence Over Epochs\")\n",
    "plt.show()\n"
   ]
  },
  {
   "cell_type": "code",
   "execution_count": 12,
   "metadata": {},
   "outputs": [
    {
     "name": "stdout",
     "output_type": "stream",
     "text": [
      "[2.21087936 2.97203534 3.73319131 4.49434729 5.25550327]\n"
     ]
    },
    {
     "data": {
      "image/png": "[encoded data removed]",
      "text/plain": [
       "<Figure size 640x480 with 1 Axes>"
      ]
     },
     "metadata": {},
     "output_type": "display_data"
    }
   ],
   "source": [
    "# Example data\n",
    "X = np.array([1, 2, 3, 4, 5])  # Input features\n",
    "y = np.array([2.2, 2.8, 4.5, 3.7, 5.5])  # Target values\n",
    "\n",
    "print(w * X + b)\n",
    "\n",
    "plt.scatter(X, y, color='blue', label='actual data')\n",
    "plt.plot(X, w * X + b, color=\"red\", label=f\"Epoch {epoch}\")\n",
    "plt.xlabel(\"X\")\n",
    "plt.ylabel(\"y\")\n",
    "plt.title(f\"Regression Line Update at Epoch {epoch}\")\n",
    "plt.legend()\n",
    "plt.show()"
   ]
  },
  {
   "cell_type": "code",
   "execution_count": null,
   "metadata": {},
   "outputs": [],
   "source": []
  },
  {
   "cell_type": "code",
   "execution_count": null,
   "metadata": {},
   "outputs": [],
   "source": []
  },
  {
   "cell_type": "code",
   "execution_count": null,
   "metadata": {},
   "outputs": [],
   "source": []
  }
 ],
 "metadata": {
  "kernelspec": {
   "display_name": "venv",
   "language": "python",
   "name": "python3"
  },
  "language_info": {
   "codemirror_mode": {
    "name": "ipython",
    "version": 3
   },
   "file_extension": ".py",
   "mimetype": "text/x-python",
   "name": "python",
   "nbconvert_exporter": "python",
   "pygments_lexer": "ipython3",
   "version": "3.10.0"
  }
 },
 "nbformat": 4,
 "nbformat_minor": 2
}
