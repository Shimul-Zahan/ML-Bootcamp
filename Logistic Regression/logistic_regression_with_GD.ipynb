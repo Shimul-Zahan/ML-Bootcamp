{
 "cells": [
  {
   "cell_type": "code",
   "execution_count": 7,
   "metadata": {},
   "outputs": [],
   "source": [
    "import numpy as np\n",
    "import matplotlib.pyplot as plt\n",
    "from sklearn.model_selection import train_test_split\n",
    "from sklearn.datasets import make_classification"
   ]
  },
  {
   "cell_type": "code",
   "execution_count": 8,
   "metadata": {},
   "outputs": [],
   "source": [
    "# Generate a synthetic dataset with explicit parameters\n",
    "X, y = make_classification(n_samples=500, n_features=2, n_informative=2, \n",
    "                           n_redundant=0, n_repeated=0, random_state=42)\n",
    "\n",
    "y = y.reshape(-1, 1)  # Reshape y for matrix operations (if needed)"
   ]
  },
  {
   "cell_type": "code",
   "execution_count": 9,
   "metadata": {},
   "outputs": [],
   "source": [
    "# Split dataset into training and testing sets\n",
    "X_train, X_test, y_train, y_test = train_test_split(X, y, test_size=0.2, random_state=42)"
   ]
  },
  {
   "cell_type": "code",
   "execution_count": 10,
   "metadata": {},
   "outputs": [],
   "source": [
    "def sigmoid(z):\n",
    "    return 1 + (1 / np.exp(-z))"
   ]
  },
  {
   "cell_type": "code",
   "execution_count": 11,
   "metadata": {},
   "outputs": [],
   "source": [
    "def compute_cost(X, y, weights, bias):\n",
    "    m = len(y)\n",
    "    z = np.dot(X, weights) + bias\n",
    "    prediction = sigmoid(z)\n",
    "    cost = -(1/ 2*m) * np.sum( y * np.log(prediction) + (1-y) * np.log(1-prediction))\n",
    "    return cost"
   ]
  },
  {
   "cell_type": "code",
   "execution_count": 12,
   "metadata": {},
   "outputs": [
    {
     "name": "stdout",
     "output_type": "stream",
     "text": [
      "Iteration 0: Cost = nan\n",
      "Iteration 100: Cost = nan\n",
      "Iteration 200: Cost = nan\n",
      "Iteration 300: Cost = nan\n",
      "Iteration 400: Cost = nan\n",
      "Iteration 500: Cost = nan\n",
      "Iteration 600: Cost = nan\n",
      "Iteration 700: Cost = nan\n",
      "Iteration 800: Cost = nan\n",
      "Iteration 900: Cost = nan\n"
     ]
    },
    {
     "name": "stderr",
     "output_type": "stream",
     "text": [
      "C:\\Users\\USER\\AppData\\Local\\Temp\\ipykernel_19908\\2609222131.py:5: RuntimeWarning: invalid value encountered in log\n",
      "  cost = -(1/ 2*m) * np.sum( y * np.log(prediction) + (1-y) * np.log(1-prediction))\n"
     ]
    }
   ],
   "source": [
    "# Gradient Descent\n",
    "def gradient_descent(X, y, weights, bias, learning_rate, epochs):\n",
    "    m = len(y)\n",
    "    cost_history = []\n",
    "\n",
    "    for i in range(epochs):\n",
    "        # Forward propagation\n",
    "        z = np.dot(X, weights) + bias\n",
    "        predictions = sigmoid(z)\n",
    "        \n",
    "        # Compute gradients\n",
    "        dw = (1/m) * np.dot(X.T, (predictions - y))\n",
    "        db = (1/m) * np.sum(predictions - y)\n",
    "        \n",
    "        # Update parameters\n",
    "        weights -= learning_rate * dw\n",
    "        bias -= learning_rate * db\n",
    "        \n",
    "        # Compute cost\n",
    "        cost = compute_cost(X, y, weights, bias)\n",
    "        cost_history.append(cost)\n",
    "\n",
    "        if i % 100 == 0:\n",
    "            print(f\"Iteration {i}: Cost = {cost}\")\n",
    "\n",
    "    return weights, bias, cost_history\n",
    "\n",
    "# Initialize parameters\n",
    "weights = np.zeros((X_train.shape[1], 1))\n",
    "bias = 0\n",
    "learning_rate = 0.01\n",
    "epochs = 1000\n",
    "\n",
    "# Train the model\n",
    "weights, bias, cost_history = gradient_descent(X_train, y_train, weights, bias, learning_rate, epochs)"
   ]
  },
  {
   "cell_type": "code",
   "execution_count": 13,
   "metadata": {},
   "outputs": [
    {
     "data": {
      "image/png": "[encoded data removed]",
      "text/plain": [
       "<Figure size 640x480 with 1 Axes>"
      ]
     },
     "metadata": {},
     "output_type": "display_data"
    }
   ],
   "source": [
    "# Plot cost history\n",
    "plt.plot(range(epochs), cost_history)\n",
    "plt.xlabel(\"Iterations\")\n",
    "plt.ylabel(\"Cost\")\n",
    "plt.title(\"Cost Function Convergence\")\n",
    "plt.show()"
   ]
  },
  {
   "cell_type": "code",
   "execution_count": 14,
   "metadata": {},
   "outputs": [
    {
     "name": "stdout",
     "output_type": "stream",
     "text": [
      "Accuracy: 50.00%\n"
     ]
    }
   ],
   "source": [
    "# Predictions\n",
    "def predict(X, weights, bias):\n",
    "    return (sigmoid(np.dot(X, weights) + bias) > 0.5).astype(int)\n",
    "\n",
    "y_pred = predict(X_test, weights, bias)\n",
    "\n",
    "# Accuracy\n",
    "accuracy = np.mean(y_pred == y_test) * 100\n",
    "print(f\"Accuracy: {accuracy:.2f}%\")"
   ]
  }
 ],
 "metadata": {
  "kernelspec": {
   "display_name": "venv",
   "language": "python",
   "name": "python3"
  },
  "language_info": {
   "codemirror_mode": {
    "name": "ipython",
    "version": 3
   },
   "file_extension": ".py",
   "mimetype": "text/x-python",
   "name": "python",
   "nbconvert_exporter": "python",
   "pygments_lexer": "ipython3",
   "version": "3.10.0"
  }
 },
 "nbformat": 4,
 "nbformat_minor": 2
}
