{
 "cells": [
  {
   "cell_type": "code",
   "execution_count": null,
   "metadata": {},
   "outputs": [],
   "source": [
    "import numpy as np\n",
    "import matplotlib.pyplot as plt\n",
    "\n",
    "# Probability values (sigmoid outputs)\n",
    "p = np.linspace(0.01, 0.99, 100)\n",
    "\n",
    "# Log loss for y=1 and y=0\n",
    "loss_1 = -np.log(p)   # When y=1\n",
    "print(loss_1)\n",
    "loss_0 = -np.log(1 - p)  # When y=0\n",
    "print(loss_0)\n",
    "\n",
    "plt.plot(p, loss_1, label=\"Log Loss when y=1\", color=\"blue\")\n",
    "plt.plot(p, loss_0, label=\"Log Loss when y=0\", color=\"red\")\n",
    "plt.xlabel(\"Predicted Probability\")\n",
    "plt.ylabel(\"Log Loss\")\n",
    "plt.title(\"Convexity of Log Loss Function\")\n",
    "plt.legend()\n",
    "plt.grid()\n",
    "plt.show()\n"
   ]
  }
 ],
 "metadata": {
  "kernelspec": {
   "display_name": "venv",
   "language": "python",
   "name": "python3"
  },
  "language_info": {
   "codemirror_mode": {
    "name": "ipython",
    "version": 3
   },
   "file_extension": ".py",
   "mimetype": "text/x-python",
   "name": "python",
   "nbconvert_exporter": "python",
   "pygments_lexer": "ipython3",
   "version": "3.10.0"
  }
 },
 "nbformat": 4,
 "nbformat_minor": 2
}
