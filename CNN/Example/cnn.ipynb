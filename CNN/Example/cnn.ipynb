{
 "cells": [
  {
   "cell_type": "markdown",
   "metadata": {},
   "source": [
    "# We'll manually implement the following steps:\n",
    "\n",
    "- Convolution Operation\n",
    "- ReLU Activation\n",
    "- Pooling\n",
    "- Flattening\n",
    "- Fully Connected Layer\n",
    "- Softmax Output"
   ]
  },
  {
   "cell_type": "code",
   "execution_count": 2,
   "metadata": {},
   "outputs": [],
   "source": [
    "import numpy as np\n",
    "import matplotlib.pyplot as plt"
   ]
  },
  {
   "cell_type": "markdown",
   "metadata": {},
   "source": [
    "# Convolution"
   ]
  },
  {
   "cell_type": "code",
   "execution_count": 20,
   "metadata": {},
   "outputs": [],
   "source": [
    "def convolve2d(image, kernel, stride=1, padding=0):\n",
    "    image_h, image_w = image.shape\n",
    "    kernel_h, kernel_w = kernel.shape\n",
    "    \n",
    "    output_h = int((image_h - kernel_h + 2 * padding) / stride) + 1\n",
    "    output_w = int((image_w - kernel_w + 2 * padding) / stride) + 1\n",
    "    output = np.zeros((output_h, output_w))\n",
    "    \n",
    "    # Apply padding if necessary\n",
    "    if padding > 0:\n",
    "        image = np.pad(image, [(padding, padding), (padding, padding)], mode='constant')\n",
    "    \n",
    "    for y in range(0, output_h):\n",
    "        for x in range(0, output_w):\n",
    "            region = image[y*stride:y*stride+kernel_h, x*stride:x*stride+kernel_w]\n",
    "            output[y, x] = np.sum(region * kernel)\n",
    "    \n",
    "    return output\n"
   ]
  },
  {
   "cell_type": "markdown",
   "metadata": {},
   "source": [
    "# ReLu"
   ]
  },
  {
   "cell_type": "code",
   "execution_count": 5,
   "metadata": {},
   "outputs": [],
   "source": [
    "def relu(feature_map):\n",
    "    return np.maximum(0, feature_map)\n"
   ]
  },
  {
   "cell_type": "code",
   "execution_count": 6,
   "metadata": {},
   "outputs": [],
   "source": [
    "def max_pooling(feature_map, size=2, stride=2):\n",
    "    output_h = int((feature_map.shape[0] - size) / stride) + 1\n",
    "    output_w = int((feature_map.shape[1] - size) / stride) + 1\n",
    "    output = np.zeros((output_h, output_w))\n",
    "    \n",
    "    for y in range(0, output_h):\n",
    "        for x in range(0, output_w):\n",
    "            region = feature_map[y*stride:y*stride+size, x*stride:x*stride+size]\n",
    "            output[y, x] = np.max(region)\n",
    "    \n",
    "    return output\n"
   ]
  },
  {
   "cell_type": "code",
   "execution_count": 7,
   "metadata": {},
   "outputs": [],
   "source": [
    "def softmax(x):\n",
    "    exp_x = np.exp(x - np.max(x))\n",
    "    return exp_x / exp_x.sum(axis=0)\n",
    "\n",
    "def fully_connected(flattened_input, weights, bias):\n",
    "    return np.dot(flattened_input, weights) + bias\n"
   ]
  },
  {
   "cell_type": "code",
   "execution_count": 8,
   "metadata": {},
   "outputs": [
    {
     "name": "stdout",
     "output_type": "stream",
     "text": [
      "Output Probabilities: [0.45696457 0.1817933  0.36124213]\n"
     ]
    }
   ],
   "source": [
    "# Input Image (7x7) and Kernel (3x3)\n",
    "image = np.random.rand(7, 7)\n",
    "kernel = np.array([[1, 0, -1], [1, 0, -1], [1, 0, -1]])\n",
    "\n",
    "# Forward Pass\n",
    "conv_output = convolve2d(image, kernel)\n",
    "relu_output = relu(conv_output)\n",
    "pooled_output = max_pooling(relu_output)\n",
    "\n",
    "# Flattening\n",
    "flattened = pooled_output.flatten()\n",
    "\n",
    "# Fully Connected Layer\n",
    "weights = np.random.rand(flattened.shape[0], 3)  # For 3 classes\n",
    "bias = np.random.rand(3)\n",
    "fc_output = fully_connected(flattened, weights, bias)\n",
    "\n",
    "# Softmax for Output\n",
    "output = softmax(fc_output)\n",
    "print(\"Output Probabilities:\", output)\n"
   ]
  },
  {
   "cell_type": "markdown",
   "metadata": {},
   "source": [
    "# Using Tensorflow"
   ]
  },
  {
   "cell_type": "code",
   "execution_count": 21,
   "metadata": {},
   "outputs": [],
   "source": [
    "# import tensorflow as tf\n",
    "# from tensorflow import keras\n",
    "# from tensorflow.keras import layers\n",
    "\n",
    "# # Define CNN Architecture\n",
    "# model = keras.Sequential([\n",
    "#     layers.Conv2D(32, (3, 3), activation='relu', input_shape=(64, 64, 3)),\n",
    "#     layers.MaxPooling2D((2, 2)),\n",
    "#     layers.Conv2D(64, (3, 3), activation='relu'),\n",
    "#     layers.MaxPooling2D((2, 2)),\n",
    "#     layers.Flatten(),\n",
    "#     layers.Dense(64, activation='relu'),\n",
    "#     layers.Dense(3, activation='softmax')  # For 3 classes\n",
    "# ])\n",
    "\n",
    "# # Compile the Model\n",
    "# model.compile(optimizer='adam',\n",
    "#               loss='categorical_crossentropy',\n",
    "#               metrics=['accuracy'])\n",
    "\n",
    "# # Print Model Summary\n",
    "# model.summary()\n",
    "\n",
    "# # Example Training (Assuming X_train and y_train are prepared)\n",
    "# # model.fit(X_train, y_train, epochs=10, batch_size=32)\n"
   ]
  },
  {
   "cell_type": "code",
   "execution_count": 27,
   "metadata": {},
   "outputs": [
    {
     "name": "stdout",
     "output_type": "stream",
     "text": [
      "[[[252 245 235 ... 251 243 239]\n",
      "  [255 245 238 ... 255 243 234]\n",
      "  [235 245 252 ... 232 246 253]\n",
      "  ...\n",
      "  [253 244 242 ... 255 243 238]\n",
      "  [252 245 235 ... 249 247 237]\n",
      "  [247 242 251 ... 249 241 254]]]\n"
     ]
    },
    {
     "data": {
      "image/png": "[encoded data removed]",
      "text/plain": [
       "<Figure size 640x480 with 1 Axes>"
      ]
     },
     "metadata": {},
     "output_type": "display_data"
    }
   ],
   "source": [
    "import cv2\n",
    "image = cv2.imread('./images.jpg')\n",
    "image = cv2.cvtColor(image, cv2.COLOR_BGR2GRAY)\n",
    "image = cv2.resize(image, (64, 64))  \n",
    "\n",
    "input_image = np.expand_dims(image, axis=0)\n",
    "\n",
    "print(input_image)\n",
    "plt.imshow(image)\n",
    "plt.show()"
   ]
  },
  {
   "cell_type": "code",
   "execution_count": null,
   "metadata": {},
   "outputs": [],
   "source": []
  },
  {
   "cell_type": "code",
   "execution_count": null,
   "metadata": {},
   "outputs": [],
   "source": []
  }
 ],
 "metadata": {
  "kernelspec": {
   "display_name": "Python 3",
   "language": "python",
   "name": "python3"
  },
  "language_info": {
   "codemirror_mode": {
    "name": "ipython",
    "version": 3
   },
   "file_extension": ".py",
   "mimetype": "text/x-python",
   "name": "python",
   "nbconvert_exporter": "python",
   "pygments_lexer": "ipython3",
   "version": "3.10.0"
  }
 },
 "nbformat": 4,
 "nbformat_minor": 2
}
