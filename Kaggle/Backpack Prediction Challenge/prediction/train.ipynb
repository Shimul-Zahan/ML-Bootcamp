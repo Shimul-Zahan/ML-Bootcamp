{
 "cells": [
  {
   "cell_type": "markdown",
   "metadata": {},
   "source": [
    "# Backpack Prediction Challenge"
   ]
  },
  {
   "cell_type": "code",
   "execution_count": 55,
   "metadata": {},
   "outputs": [],
   "source": [
    "import numpy as np\n",
    "import pandas as pd\n",
    "import matplotlib.pyplot as plt\n",
    "import seaborn as sns\n",
    "import plotly.express as plt\n",
    "%matplotlib inline"
   ]
  },
  {
   "cell_type": "code",
   "execution_count": 56,
   "metadata": {},
   "outputs": [],
   "source": [
    "train_datasets = pd.read_csv(\"../Data/train.csv\")\n",
    "test_datasets = pd.read_csv(\"../Data/test.csv\")\n"
   ]
  },
  {
   "cell_type": "code",
   "execution_count": null,
   "metadata": {},
   "outputs": [
    {
     "data": {
      "text/plain": [
       "array(['Medium', 'Small', 'Large', nan], dtype=object)"
      ]
     },
     "execution_count": 57,
     "metadata": {},
     "output_type": "execute_result"
    }
   ],
   "source": [
    "# train_datasets.info()\n",
    "# train_datasets.isnull()\n",
    "\n",
    "# test_datasets.isnull().sum()\n",
    "# train_datasets['Brand'].unique()\n",
    "# train_datasets['Material'].unique()\n",
    "# train_datasets['Size'].unique()\n",
    "# train_datasets['Laptop Compartment'].unique()\n",
    "# train_datasets['Waterproof'].unique()\n",
    "# train_datasets['Style'].unique()\n",
    "# train_datasets['Color'].unique()\n",
    "# train_datasets['Weight Capacity (kg)'].unique()\n",
    "\n",
    "# train_datasets['Color'].mode()[0]\n",
    "# train_datasets['Weight Capacity (kg)'].mean()\n"
   ]
  },
  {
   "cell_type": "code",
   "execution_count": 58,
   "metadata": {},
   "outputs": [],
   "source": [
    "# dealing with numerical columns, it might be better to use median (for robustness against outliers) instead of mean.\n",
    "\n",
    "def fill_na(columns, type):\n",
    "    if type == 'categorical':\n",
    "        for col in columns:\n",
    "            train_datasets[col] = train_datasets[col].fillna(train_datasets[col].mode()[0])\n",
    "            test_datasets[col] = test_datasets[col].fillna(test_datasets[col].mode()[0])\n",
    "    else:\n",
    "        for col in columns:\n",
    "            if col != 'Price':\n",
    "                train_datasets[col] = train_datasets[col].fillna(train_datasets[col].median())\n",
    "                test_datasets[col] = test_datasets[col].fillna(test_datasets[col].median())"
   ]
  },
  {
   "cell_type": "code",
   "execution_count": 59,
   "metadata": {},
   "outputs": [],
   "source": [
    "# fill_na()\n",
    "\n",
    "cat_cols = [col for col in train_datasets.columns if train_datasets[col].dtype == 'object']\n",
    "num_cols = [col for col in train_datasets.columns if train_datasets[col].dtype != 'object']\n",
    "\n",
    "fill_na(columns=cat_cols, type='categorical')\n",
    "fill_na(columns=num_cols, type='numerical')"
   ]
  },
  {
   "cell_type": "code",
   "execution_count": 61,
   "metadata": {},
   "outputs": [],
   "source": [
    "train_datasets['Laptop Compartment'] = train_datasets['Laptop Compartment'].map({'Yes': 1, 'No': 0})\n",
    "train_datasets['Waterproof'] = train_datasets['Waterproof'].map({'Yes': 1, 'No': 0})\n",
    "test_datasets['Laptop Compartment'] = test_datasets['Laptop Compartment'].map({'Yes': 1, 'No': 0})\n",
    "test_datasets['Waterproof'] = test_datasets['Waterproof'].map({'Yes': 1, 'No': 0})"
   ]
  },
  {
   "cell_type": "code",
   "execution_count": 62,
   "metadata": {},
   "outputs": [
    {
     "data": {
      "text/html": [
       "<div>\n",
       "<style scoped>\n",
       "    .dataframe tbody tr th:only-of-type {\n",
       "        vertical-align: middle;\n",
       "    }\n",
       "\n",
       "    .dataframe tbody tr th {\n",
       "        vertical-align: top;\n",
       "    }\n",
       "\n",
       "    .dataframe thead th {\n",
       "        text-align: right;\n",
       "    }\n",
       "</style>\n",
       "<table border=\"1\" class=\"dataframe\">\n",
       "  <thead>\n",
       "    <tr style=\"text-align: right;\">\n",
       "      <th></th>\n",
       "      <th>id</th>\n",
       "      <th>Brand</th>\n",
       "      <th>Material</th>\n",
       "      <th>Size</th>\n",
       "      <th>Compartments</th>\n",
       "      <th>Laptop Compartment</th>\n",
       "      <th>Waterproof</th>\n",
       "      <th>Style</th>\n",
       "      <th>Color</th>\n",
       "      <th>Weight Capacity (kg)</th>\n",
       "      <th>Price</th>\n",
       "    </tr>\n",
       "  </thead>\n",
       "  <tbody>\n",
       "    <tr>\n",
       "      <th>0</th>\n",
       "      <td>0</td>\n",
       "      <td>Jansport</td>\n",
       "      <td>Leather</td>\n",
       "      <td>Medium</td>\n",
       "      <td>7.0</td>\n",
       "      <td>1</td>\n",
       "      <td>0</td>\n",
       "      <td>Tote</td>\n",
       "      <td>Black</td>\n",
       "      <td>11.611723</td>\n",
       "      <td>112.15875</td>\n",
       "    </tr>\n",
       "    <tr>\n",
       "      <th>1</th>\n",
       "      <td>1</td>\n",
       "      <td>Jansport</td>\n",
       "      <td>Canvas</td>\n",
       "      <td>Small</td>\n",
       "      <td>10.0</td>\n",
       "      <td>1</td>\n",
       "      <td>1</td>\n",
       "      <td>Messenger</td>\n",
       "      <td>Green</td>\n",
       "      <td>27.078537</td>\n",
       "      <td>68.88056</td>\n",
       "    </tr>\n",
       "    <tr>\n",
       "      <th>2</th>\n",
       "      <td>2</td>\n",
       "      <td>Under Armour</td>\n",
       "      <td>Leather</td>\n",
       "      <td>Small</td>\n",
       "      <td>2.0</td>\n",
       "      <td>1</td>\n",
       "      <td>0</td>\n",
       "      <td>Messenger</td>\n",
       "      <td>Red</td>\n",
       "      <td>16.643760</td>\n",
       "      <td>39.17320</td>\n",
       "    </tr>\n",
       "    <tr>\n",
       "      <th>3</th>\n",
       "      <td>3</td>\n",
       "      <td>Nike</td>\n",
       "      <td>Nylon</td>\n",
       "      <td>Small</td>\n",
       "      <td>8.0</td>\n",
       "      <td>1</td>\n",
       "      <td>0</td>\n",
       "      <td>Messenger</td>\n",
       "      <td>Green</td>\n",
       "      <td>12.937220</td>\n",
       "      <td>80.60793</td>\n",
       "    </tr>\n",
       "    <tr>\n",
       "      <th>4</th>\n",
       "      <td>4</td>\n",
       "      <td>Adidas</td>\n",
       "      <td>Canvas</td>\n",
       "      <td>Medium</td>\n",
       "      <td>1.0</td>\n",
       "      <td>1</td>\n",
       "      <td>1</td>\n",
       "      <td>Messenger</td>\n",
       "      <td>Green</td>\n",
       "      <td>17.749338</td>\n",
       "      <td>86.02312</td>\n",
       "    </tr>\n",
       "  </tbody>\n",
       "</table>\n",
       "</div>"
      ],
      "text/plain": [
       "   id         Brand Material    Size  Compartments  Laptop Compartment  \\\n",
       "0   0      Jansport  Leather  Medium           7.0                   1   \n",
       "1   1      Jansport   Canvas   Small          10.0                   1   \n",
       "2   2  Under Armour  Leather   Small           2.0                   1   \n",
       "3   3          Nike    Nylon   Small           8.0                   1   \n",
       "4   4        Adidas   Canvas  Medium           1.0                   1   \n",
       "\n",
       "   Waterproof      Style  Color  Weight Capacity (kg)      Price  \n",
       "0           0       Tote  Black             11.611723  112.15875  \n",
       "1           1  Messenger  Green             27.078537   68.88056  \n",
       "2           0  Messenger    Red             16.643760   39.17320  \n",
       "3           0  Messenger  Green             12.937220   80.60793  \n",
       "4           1  Messenger  Green             17.749338   86.02312  "
      ]
     },
     "execution_count": 62,
     "metadata": {},
     "output_type": "execute_result"
    }
   ],
   "source": [
    "train_datasets.head()"
   ]
  },
  {
   "cell_type": "code",
   "execution_count": 68,
   "metadata": {},
   "outputs": [],
   "source": [
    "# train_datasets.to_csv('../Data/cleaned_train_data.csv', index=False)\n",
    "test_datasets.to_csv('../Data/cleaned_test_data.csv', index=False)"
   ]
  },
  {
   "cell_type": "code",
   "execution_count": 65,
   "metadata": {},
   "outputs": [
    {
     "name": "stdout",
     "output_type": "stream",
     "text": [
      "['Jansport' 'Under Armour' 'Nike' 'Adidas' 'Puma']\n",
      "['Leather' 'Canvas' 'Nylon' 'Polyester']\n",
      "['Medium' 'Small' 'Large']\n",
      "['Tote' 'Messenger' 'Backpack']\n",
      "['Black' 'Green' 'Red' 'Blue' 'Gray' 'Pink']\n"
     ]
    }
   ],
   "source": [
    "print(train_datasets['Brand'].unique())\n",
    "print(train_datasets['Material'].unique())\n",
    "print(train_datasets['Size'].unique())\n",
    "print(train_datasets['Style'].unique())\n",
    "print(train_datasets['Color'].unique())"
   ]
  },
  {
   "cell_type": "code",
   "execution_count": 70,
   "metadata": {},
   "outputs": [],
   "source": [
    "# create pipeline for encoding the data\n",
    "from sklearn.preprocessing import OneHotEncoder, OrdinalEncoder\n",
    "from sklearn.pipeline import Pipeline\n",
    "from sklearn.impute import SimpleImputer\n",
    "from sklearn.compose import ColumnTransformer\n",
    "\n",
    "categorical_cols_nominal = ['Brand', 'Material', 'Style', 'Color']  # Nominal categorical features\n",
    "categorical_cols_ordinal = ['Size']  # Ordinal categorical features\n",
    "\n",
    "\n",
    "# encoding the cat cols\n",
    "transformer = ColumnTransformer(\n",
    "    [\n",
    "        ('nominal_cols_encoding', OneHotEncoder(), categorical_cols_nominal),\n",
    "        ('ordinal_cols_encoding', Pipeline(steps=[\n",
    "            ('imputer', SimpleImputer(strategy='most_frequent')),\n",
    "            ('encoder', OrdinalEncoder(categories=[['Small', 'Medium', 'Large']])),\n",
    "        ]), categorical_cols_ordinal)\n",
    "    ]\n",
    ")\n",
    "\n",
    "# Create a pipeline to preprocess the data\n",
    "pipeline = Pipeline(\n",
    "    steps=[\n",
    "        ('preprocessor', transformer)\n",
    "    ]\n",
    ")\n",
    "\n",
    "# Fit and transform the training data and test data\n",
    "train_datasets_transformed = pipeline.fit_transform(train_datasets)\n",
    "test_datasets_transformed = pipeline.transform(test_datasets)\n"
   ]
  },
  {
   "cell_type": "code",
   "execution_count": null,
   "metadata": {},
   "outputs": [
    {
     "data": {
      "text/plain": [
       "<Compressed Sparse Row sparse matrix of dtype 'float64'\n",
       "\twith 1407144 stored elements and shape (300000, 19)>"
      ]
     },
     "execution_count": 71,
     "metadata": {},
     "output_type": "execute_result"
    }
   ],
   "source": [
    "train_datasets_transformed"
   ]
  },
  {
   "cell_type": "code",
   "execution_count": null,
   "metadata": {},
   "outputs": [],
   "source": []
  },
  {
   "cell_type": "code",
   "execution_count": null,
   "metadata": {},
   "outputs": [],
   "source": []
  }
 ],
 "metadata": {
  "kernelspec": {
   "display_name": "Python 3",
   "language": "python",
   "name": "python3"
  },
  "language_info": {
   "codemirror_mode": {
    "name": "ipython",
    "version": 3
   },
   "file_extension": ".py",
   "mimetype": "text/x-python",
   "name": "python",
   "nbconvert_exporter": "python",
   "pygments_lexer": "ipython3",
   "version": "3.10.0"
  }
 },
 "nbformat": 4,
 "nbformat_minor": 2
}
