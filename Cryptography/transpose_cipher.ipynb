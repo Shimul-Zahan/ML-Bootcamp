{
 "cells": [
  {
   "cell_type": "code",
   "execution_count": null,
   "metadata": {},
   "outputs": [
    {
     "name": "stdout",
     "output_type": "stream",
     "text": [
      "['', '', '', '']\n",
      "0\n",
      "['H', '', '', '']\n",
      "['HO', '', '', '']\n",
      "['HOL', '', '', '']\n",
      "1\n",
      "['HOL', 'E', '', '']\n",
      "['HOL', 'EW', '', '']\n",
      "['HOL', 'EWD', '', '']\n",
      "2\n",
      "['HOL', 'EWD', 'L', '']\n",
      "['HOL', 'EWD', 'LO', '']\n",
      "3\n",
      "['HOL', 'EWD', 'LO', 'L']\n",
      "['HOL', 'EWD', 'LO', 'LR']\n",
      "Encrypted Text: HOLEWDLOLR\n"
     ]
    }
   ],
   "source": [
    "def encrypt_transposition_cipher(text, key):\n",
    "    text = text.replace(\" \", \"\")\n",
    "    cipher_text = [''] * key\n",
    "    \n",
    "    print(cipher_text)\n",
    "\n",
    "    for col in range(key):\n",
    "        pointer = col\n",
    "        print(pointer)\n",
    "        while pointer < len(text):\n",
    "            cipher_text[col] += text[pointer]\n",
    "            pointer += key\n",
    "            print(cipher_text)\n",
    "\n",
    "    return ''.join(cipher_text)\n",
    "\n",
    "plaintext = \"HELLO WORLD\"\n",
    "key = 4\n",
    "cipher_text = encrypt_transposition_cipher(plaintext, key)\n",
    "print(\"Encrypted Text:\", cipher_text)\n"
   ]
  },
  {
   "cell_type": "code",
   "execution_count": null,
   "metadata": {},
   "outputs": [
    {
     "name": "stdout",
     "output_type": "stream",
     "text": [
      "3\n",
      "2\n",
      "Decrypted Text: HELLOWORLD\n"
     ]
    }
   ],
   "source": [
    "import math\n",
    "\n",
    "def decrypt_transposition_cipher(cipher_text, key):\n",
    "    num_rows = math.ceil(len(cipher_text) / key)\n",
    "    print(num_rows)\n",
    "    num_cols = key\n",
    "    num_shaded_boxes = (num_rows * num_cols) - len(cipher_text)\n",
    "    \n",
    "    print(num_shaded_boxes)\n",
    "\n",
    "    plaintext = [''] * num_rows\n",
    "    col, row = 0, 0\n",
    "\n",
    "    for symbol in cipher_text:\n",
    "        plaintext[row] += symbol\n",
    "        row += 1\n",
    "        if row == num_rows or (row == num_rows - 1 and col >= num_cols - num_shaded_boxes):\n",
    "            row = 0\n",
    "            col += 1\n",
    "\n",
    "    return ''.join(plaintext)\n",
    "\n",
    "decrypted_text = decrypt_transposition_cipher(cipher_text, key)\n",
    "print(\"Decrypted Text:\", decrypted_text)\n"
   ]
  },
  {
   "cell_type": "code",
   "execution_count": null,
   "metadata": {},
   "outputs": [
    {
     "name": "stdout",
     "output_type": "stream",
     "text": [
      "Original Message: WELCOME FRIEND\n",
      "Scrambled Output: WMEEENLFDCROI\n",
      "Unscrambled Output: WELCOMEFRIEND\n"
     ]
    }
   ],
   "source": [
    "import math\n",
    "\n",
    "def text_encrypt(message, columns):\n",
    "    message = message.replace(\" \", \"\")\n",
    "    mixed_text = [''] * columns\n",
    "\n",
    "    for idx in range(columns):\n",
    "        pos = idx\n",
    "        while pos < len(message):\n",
    "            mixed_text[idx] += message[pos]\n",
    "            pos += columns\n",
    "\n",
    "    return ''.join(mixed_text)\n",
    "\n",
    "\n",
    "def text_decrypt(scrambled_text, columns):\n",
    "    rows = math.ceil(len(scrambled_text) / columns)\n",
    "    empty_slots = (rows * columns) - len(scrambled_text)\n",
    "\n",
    "    plain_text = [''] * rows\n",
    "    col_index, row_index = 0, 0\n",
    "\n",
    "    for char in scrambled_text:\n",
    "        plain_text[row_index] += char\n",
    "        row_index += 1\n",
    "        if row_index == rows or (row_index == rows - 1 and col_index >= columns - empty_slots):\n",
    "            row_index = 0\n",
    "            col_index += 1\n",
    "\n",
    "    return ''.join(plain_text)\n",
    "\n",
    "original_msg = \"WELCOME FRIEND\"\n",
    "print(\"Original Message:\", original_msg)\n",
    "grid_size = 5\n",
    "coded_msg = text_encrypt(original_msg, grid_size)\n",
    "print(\"Scrambled Output:\", coded_msg)\n",
    "\n",
    "decoded_msg = text_decrypt(coded_msg, grid_size)\n",
    "print(\"Unscrambled Output:\", decoded_msg)\n"
   ]
  }
 ],
 "metadata": {
  "kernelspec": {
   "display_name": "Python 3",
   "language": "python",
   "name": "python3"
  },
  "language_info": {
   "codemirror_mode": {
    "name": "ipython",
    "version": 3
   },
   "file_extension": ".py",
   "mimetype": "text/x-python",
   "name": "python",
   "nbconvert_exporter": "python",
   "pygments_lexer": "ipython3",
   "version": "3.10.0"
  }
 },
 "nbformat": 4,
 "nbformat_minor": 2
}
