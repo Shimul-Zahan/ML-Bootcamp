{
 "cells": [
  {
   "cell_type": "code",
   "execution_count": 12,
   "metadata": {},
   "outputs": [
    {
     "name": "stdout",
     "output_type": "stream",
     "text": [
      "error\n"
     ]
    }
   ],
   "source": [
    "# Exception handling has two block try and except\n",
    "\n",
    "a = 1\n",
    "b = 0\n",
    "\n",
    "try:\n",
    "    a/b\n",
    "except:\n",
    "    print(\"error\")\n",
    "\n",
    " "
   ]
  },
  {
   "cell_type": "code",
   "execution_count": 13,
   "metadata": {},
   "outputs": [
    {
     "name": "stdout",
     "output_type": "stream",
     "text": [
      "division by zero\n"
     ]
    }
   ],
   "source": [
    "# Exception handling has two block try and except\n",
    "\n",
    "a = 1\n",
    "b = 0\n",
    "\n",
    "try:\n",
    "    a/b\n",
    "except Exception as e:\n",
    "    print(e)\n",
    "\n",
    "\n",
    "# for all the erro Exception keyword define\n",
    " "
   ]
  },
  {
   "cell_type": "code",
   "execution_count": 16,
   "metadata": {},
   "outputs": [
    {
     "name": "stdout",
     "output_type": "stream",
     "text": [
      "name 'd' is not defined\n"
     ]
    }
   ],
   "source": [
    "try:\n",
    "    c = d  # 'b' is not defined, this raises a NameError\n",
    "except Exception as e:\n",
    "    print(e)  # The exception is caught here and printed\n"
   ]
  },
  {
   "cell_type": "code",
   "execution_count": 22,
   "metadata": {},
   "outputs": [
    {
     "name": "stdout",
     "output_type": "stream",
     "text": [
      "error : division by zero\n"
     ]
    }
   ],
   "source": [
    "try:\n",
    "    divisor = int(input(\"Give a divisor\"))\n",
    "    result = 100 / divisor\n",
    "except Exception as error:\n",
    "    print(f\"error : {error}\")\n",
    "else:\n",
    "    print(result)"
   ]
  },
  {
   "cell_type": "code",
   "execution_count": 23,
   "metadata": {},
   "outputs": [
    {
     "name": "stdout",
     "output_type": "stream",
     "text": [
      "error : division by zero\n",
      "Always its be execute\n"
     ]
    }
   ],
   "source": [
    "try:\n",
    "    divisor = int(input(\"Give a divisor\"))\n",
    "    result = 100 / divisor\n",
    "except Exception as error:\n",
    "    print(f\"error : {error}\")\n",
    "else:\n",
    "    print(result)\n",
    "finally:\n",
    "    print(\"Always its be execute\")"
   ]
  }
 ],
 "metadata": {
  "kernelspec": {
   "display_name": "venv",
   "language": "python",
   "name": "python3"
  },
  "language_info": {
   "codemirror_mode": {
    "name": "ipython",
    "version": 3
   },
   "file_extension": ".py",
   "mimetype": "text/x-python",
   "name": "python",
   "nbconvert_exporter": "python",
   "pygments_lexer": "ipython3",
   "version": "3.10.0"
  }
 },
 "nbformat": 4,
 "nbformat_minor": 2
}
