{
 "cells": [
  {
   "cell_type": "code",
   "execution_count": 2,
   "metadata": {},
   "outputs": [
    {
     "name": "stdout",
     "output_type": "stream",
     "text": [
      "car name is:  lambargini\n"
     ]
    }
   ],
   "source": [
    "# here is class\n",
    "class Car:\n",
    "    pass \n",
    "    \n",
    "    def intro(self, car_name):\n",
    "        return car_name\n",
    "    \n",
    "    \n",
    "bmw = Car()\n",
    "print(\"car name is: \", bmw.intro(\"lambargini\"))\n"
   ]
  },
  {
   "cell_type": "code",
   "execution_count": 9,
   "metadata": {},
   "outputs": [
    {
     "name": "stdout",
     "output_type": "stream",
     "text": [
      "3\n"
     ]
    }
   ],
   "source": [
    "# constructor\n",
    "class Dog:\n",
    "    def __init__(self, name, age):\n",
    "        self.name = name\n",
    "        self.age = age\n",
    "    \n",
    "\n",
    "\n",
    "# create object here\n",
    "dog = Dog(\"Buddy\", 3)\n",
    "print(dog)"
   ]
  },
  {
   "cell_type": "code",
   "execution_count": 43,
   "metadata": {},
   "outputs": [],
   "source": [
    "# Banking ststus using oop in python\n",
    "import time\n",
    "\n",
    "class BankStatus:\n",
    "    def __init__(self, acc_holder_name, balance=0):\n",
    "        self.acc_holder_name = acc_holder_name\n",
    "        self.balance = balance\n",
    "    \n",
    "    def deposit(self, amount):\n",
    "        self.balance += amount\n",
    "    \n",
    "    def withdraw(self, amount):\n",
    "        if amount > self.balance:\n",
    "            print(\"Insufficient balance\")\n",
    "        else:\n",
    "            print(f\"{amount} withdraw from {self.acc_holder_name} account {time.ctime()}\")\n",
    "            self.balance -= amount\n",
    "    \n",
    "    def get_balance(self):\n",
    "        return self.balance\n",
    "    \n",
    "# creating object here\n",
    "status = BankStatus(\"Shimul\")\n",
    "    "
   ]
  },
  {
   "cell_type": "code",
   "execution_count": 44,
   "metadata": {},
   "outputs": [
    {
     "name": "stdout",
     "output_type": "stream",
     "text": [
      "Shimul 1000\n"
     ]
    }
   ],
   "source": [
    "status.deposit(1000)\n",
    "\n",
    "print(status.acc_holder_name, status.balance)"
   ]
  },
  {
   "cell_type": "code",
   "execution_count": 45,
   "metadata": {},
   "outputs": [
    {
     "name": "stdout",
     "output_type": "stream",
     "text": [
      "850 withdraw from Shimul account Tue Jan 14 14:46:37 2025\n"
     ]
    }
   ],
   "source": [
    "status.withdraw(850)"
   ]
  },
  {
   "cell_type": "code",
   "execution_count": 46,
   "metadata": {},
   "outputs": [
    {
     "name": "stdout",
     "output_type": "stream",
     "text": [
      "150\n"
     ]
    }
   ],
   "source": [
    "print(status.get_balance())"
   ]
  }
 ],
 "metadata": {
  "kernelspec": {
   "display_name": "venv",
   "language": "python",
   "name": "python3"
  },
  "language_info": {
   "codemirror_mode": {
    "name": "ipython",
    "version": 3
   },
   "file_extension": ".py",
   "mimetype": "text/x-python",
   "name": "python",
   "nbconvert_exporter": "python",
   "pygments_lexer": "ipython3",
   "version": "3.10.0"
  }
 },
 "nbformat": 4,
 "nbformat_minor": 2
}
