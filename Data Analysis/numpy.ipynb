{
 "cells": [
  {
   "cell_type": "code",
   "execution_count": null,
   "metadata": {},
   "outputs": [],
   "source": [
    "# to install or excute any command simply ou need to add ! mark in the first in the command line\n",
    "# !pip install numpy\n",
    "import numpy as np"
   ]
  },
  {
   "cell_type": "code",
   "execution_count": 9,
   "metadata": {},
   "outputs": [
    {
     "data": {
      "text/plain": [
       "array([7, 6, 7, 7, 8, 7, 7, 3, 5, 3], dtype=int32)"
      ]
     },
     "execution_count": 9,
     "metadata": {},
     "output_type": "execute_result"
    }
   ],
   "source": [
    "array = np.random.randint(1, 10, size=10)\n",
    "array"
   ]
  },
  {
   "cell_type": "code",
   "execution_count": 26,
   "metadata": {},
   "outputs": [],
   "source": [
    "# 1D array\n",
    "# we can create array using np.array() or np.arange() methods\n",
    "# np.arrange(start, end, skip value)\n",
    "\n",
    "array = np.array([1 , 2, 3, 4])\n",
    "array = np.arange(1, 5)\n"
   ]
  },
  {
   "cell_type": "code",
   "execution_count": 31,
   "metadata": {},
   "outputs": [
    {
     "name": "stdout",
     "output_type": "stream",
     "text": [
      "[1 2 3 4]\n"
     ]
    }
   ],
   "source": [
    "# Shape of an numpy array R*C\n",
    "# (4,) means 1D array\n",
    "array.shape\n",
    "new_array = array.reshape(1, 4)\n",
    "new_array.shape"
   ]
  },
  {
   "cell_type": "code",
   "execution_count": 40,
   "metadata": {},
   "outputs": [
    {
     "data": {
      "text/plain": [
       "(array([[1, 2, 3],\n",
       "        [4, 5, 6],\n",
       "        [7, 8, 9]]),\n",
       " array([[0],\n",
       "        [2],\n",
       "        [4],\n",
       "        [6],\n",
       "        [8]]))"
      ]
     },
     "execution_count": 40,
     "metadata": {},
     "output_type": "execute_result"
    }
   ],
   "source": [
    "# Heres the 2D array\n",
    "arr = np.arange(1, 10).reshape(3, 3)\n",
    "arr1 = np.arange(0, 10, 2).reshape(5, 1)\n",
    "arr,  arr1\n",
    "# for row in arr:\n",
    "#     print(row)"
   ]
  },
  {
   "cell_type": "code",
   "execution_count": 46,
   "metadata": {},
   "outputs": [
    {
     "data": {
      "text/plain": [
       "array([[0., 0., 0., 0.],\n",
       "       [0., 0., 0., 0.],\n",
       "       [0., 0., 0., 0.]])"
      ]
     },
     "execution_count": 46,
     "metadata": {},
     "output_type": "execute_result"
    }
   ],
   "source": [
    "np.ones((3, 4))\n",
    "np.zeros((3, 4))"
   ]
  },
  {
   "cell_type": "code",
   "execution_count": null,
   "metadata": {},
   "outputs": [],
   "source": [
    "# identify matrix\n",
    "identity_matrix = np.eye(5)"
   ]
  },
  {
   "cell_type": "code",
   "execution_count": 62,
   "metadata": {},
   "outputs": [
    {
     "data": {
      "text/plain": [
       "25"
      ]
     },
     "execution_count": 62,
     "metadata": {},
     "output_type": "execute_result"
    }
   ],
   "source": [
    "identity_matrix.shape\n",
    "\n",
    "identity_matrix.size\n",
    "# identity_matrix.itemset"
   ]
  },
  {
   "cell_type": "code",
   "execution_count": 72,
   "metadata": {},
   "outputs": [
    {
     "data": {
      "text/plain": [
       "np.int64(550)"
      ]
     },
     "execution_count": 72,
     "metadata": {},
     "output_type": "execute_result"
    }
   ],
   "source": [
    "# vectorization here\n",
    "arr1 = np.array([1, 2, 3, 4, 5])  # 1D array with sequential integers\n",
    "arr2 = np.array([10, 20, 30, 40, 50])  # 1D array with multiples of 10\n",
    "arr3 = np.array([3.5, 4.2, 5.8, 6.1])  # 1D array with float values\n",
    "arr4 = np.array([0, -1, -2, -3, -4])  # 1D array with negative integers\n",
    "arr5 = np.array([2, 4, 6, 8, 10, 12, 14])  # 1D array with even numbers\n",
    "\n",
    "\n",
    "arr1 + arr2\n",
    "arr2 - arr1\n",
    "arr1.dot(arr2)"
   ]
  },
  {
   "cell_type": "code",
   "execution_count": 76,
   "metadata": {},
   "outputs": [
    {
     "data": {
      "text/plain": [
       "array([[0.        , 0.69314718, 1.09861229],\n",
       "       [1.38629436, 1.60943791, 1.79175947],\n",
       "       [1.94591015, 2.07944154, 2.19722458]])"
      ]
     },
     "execution_count": 76,
     "metadata": {},
     "output_type": "execute_result"
    }
   ],
   "source": [
    "np.sqrt(arr1)\n",
    "np.exp(arr1)\n",
    "np.sin(arr1)\n",
    "np.log(arr)"
   ]
  },
  {
   "cell_type": "code",
   "execution_count": 81,
   "metadata": {},
   "outputs": [
    {
     "data": {
      "text/plain": [
       "array([-1.46385011, -0.87831007, -0.29277002,  0.29277002,  0.87831007,\n",
       "        1.46385011])"
      ]
     },
     "execution_count": 81,
     "metadata": {},
     "output_type": "execute_result"
    }
   ],
   "source": [
    "# Normalization or standard normal distribution\n",
    "data  = np.array([1, 2, 3, 4, 5, 6])\n",
    "\n",
    "# calculate the sum\n",
    "mean = np.mean(data)\n",
    "\n",
    "# standar deviation\n",
    "std_dev = np.std(data)\n",
    "\n",
    "normalized_data = (data - mean) / std_dev\n",
    "normalized_data"
   ]
  },
  {
   "cell_type": "code",
   "execution_count": 89,
   "metadata": {},
   "outputs": [
    {
     "data": {
      "text/plain": [
       "(np.float64(3.5),\n",
       " np.float64(3.5),\n",
       " np.float64(1.707825127659933),\n",
       " np.float64(2.9166666666666665))"
      ]
     },
     "execution_count": 89,
     "metadata": {},
     "output_type": "execute_result"
    }
   ],
   "source": [
    "# Statistical methods\n",
    "data  = np.array([1, 2, 3, 4, 5, 6])\n",
    "me = np.mean(data)\n",
    "mid = np.median(data)\n",
    "# mo = np.mod(data, 2)\n",
    "sd = np.std(data)\n",
    "va = np.var(data)\n",
    "\n",
    "\n",
    "me, mid, sd, va"
   ]
  },
  {
   "cell_type": "code",
   "execution_count": 95,
   "metadata": {},
   "outputs": [
    {
     "data": {
      "text/plain": [
       "array([6])"
      ]
     },
     "execution_count": 95,
     "metadata": {},
     "output_type": "execute_result"
    }
   ],
   "source": [
    "# logical operations\n",
    "data > 4\n",
    "# data[data > 4 and data%2==0]\n",
    "\n",
    "data[(data > 4) & (data % 2 == 0)]\n",
    "# print(result)"
   ]
  }
 ],
 "metadata": {
  "kernelspec": {
   "display_name": "venv",
   "language": "python",
   "name": "python3"
  },
  "language_info": {
   "codemirror_mode": {
    "name": "ipython",
    "version": 3
   },
   "file_extension": ".py",
   "mimetype": "text/x-python",
   "name": "python",
   "nbconvert_exporter": "python",
   "pygments_lexer": "ipython3",
   "version": "3.10.0"
  }
 },
 "nbformat": 4,
 "nbformat_minor": 2
}
