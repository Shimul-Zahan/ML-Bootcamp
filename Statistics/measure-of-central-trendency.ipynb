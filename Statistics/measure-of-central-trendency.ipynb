{
 "cells": [
  {
   "cell_type": "markdown",
   "metadata": {},
   "source": [
    "# Measures of Central Tendency\n",
    "\n",
    "The measures of central tendency are statistical metrics that describe the center point or typical value of a dataset. The three primary measures are:\n",
    "\n",
    "1. **Mean**: The average of all values.\n",
    "2. **Median**: The middle value when data is sorted.\n",
    "3. **Mode**: The most frequently occurring value.\n",
    "\n",
    "\n"
   ]
  },
  {
   "cell_type": "code",
   "execution_count": null,
   "metadata": {},
   "outputs": [],
   "source": [
    "# mean\n",
    "\n",
    "import numpy as np\n",
    "\n",
    "# Example data\n",
    "data = [10, 15, 20, 25, 30]\n",
    "mean = np.mean(data)\n",
    "print(f\"Mean: {mean}\")"
   ]
  },
  {
   "cell_type": "markdown",
   "metadata": {},
   "source": [
    "### 2. Median\n",
    "#### Rule for Median\n",
    "- If the number of observations (n) is odd, the median is the middle value.\n",
    "- If n is even, the median is the average of the two middle values.\n"
   ]
  },
  {
   "cell_type": "code",
   "execution_count": null,
   "metadata": {},
   "outputs": [],
   "source": [
    "#### Code Example\n",
    "median = np.median(data)\n",
    "print(f\"Median: {median}\")"
   ]
  },
  {
   "cell_type": "markdown",
   "metadata": {},
   "source": [
    "### 3. Mode\n",
    "#### Rule for Mode\n",
    "Mode is the value that appears most frequently in the data."
   ]
  },
  {
   "cell_type": "code",
   "execution_count": null,
   "metadata": {},
   "outputs": [],
   "source": [
    "#### Code Example\n",
    "from scipy import stats\n",
    "\n",
    "mode = stats.mode(data)\n",
    "print(f\"Mode: {mode.mode[0]} (Count: {mode.count[0]})\")"
   ]
  },
  {
   "cell_type": "markdown",
   "metadata": {},
   "source": [
    "\n",
    "### Additional Notes\n",
    "- **Mean** is sensitive to extreme values (outliers), while **median** is more robust.\n",
    "- **Mode** is best for categorical data but can be applied to numerical data.\n",
    "\n",
    "### Summary Table\n",
    "| Measure | Description                                | Formula / Method |\n",
    "|---------|--------------------------------------------|-----------------|\n",
    "| Mean    | Sum of all values divided by the number    | `np.mean(data)` |\n",
    "| Median  | Middle value of sorted data                | `np.median(data)` |\n",
    "| Mode    | Most frequently occurring value            | `stats.mode(data)` |\n"
   ]
  }
 ],
 "metadata": {
  "kernelspec": {
   "display_name": "venv",
   "language": "python",
   "name": "python3"
  },
  "language_info": {
   "name": "python",
   "version": "3.10.0"
  }
 },
 "nbformat": 4,
 "nbformat_minor": 2
}
