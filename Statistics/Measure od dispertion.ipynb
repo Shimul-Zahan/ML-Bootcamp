{
 "cells": [
  {
   "cell_type": "markdown",
   "metadata": {},
   "source": [
    "## Dispersion\n",
    "- dispersion means the distance to the data from the mean value"
   ]
  },
  {
   "cell_type": "code",
   "execution_count": null,
   "metadata": {},
   "outputs": [],
   "source": [
    "population_data = [2,2,4,4]\n",
    "samples_data = [1,1,5,5]\n",
    "\n",
    "# mean for this value both\n",
    "mean = 3\n",
    "\n",
    "# here we calculate variance of two data \n",
    "population_data = 1\n",
    "samples_data = 4\n",
    "\n",
    "# here two data varinace tell us the distance between mean and data\n",
    "# here here first data is less dipersion and second data is more diperson\n",
    "# for population data in variance we divide the ((xi-mean)^2 / N) here N is total number of population data \n",
    "# but for samples data we calculate it using this formula ((xi-mean)/ n-1) n is the total number of sample data\n",
    "\n",
    "### But Why???\n",
    "# answer in sample variance pdf"
   ]
  }
 ],
 "metadata": {
  "kernelspec": {
   "display_name": "venv",
   "language": "python",
   "name": "python3"
  },
  "language_info": {
   "name": "python",
   "version": "3.10.0"
  }
 },
 "nbformat": 4,
 "nbformat_minor": 2
}
