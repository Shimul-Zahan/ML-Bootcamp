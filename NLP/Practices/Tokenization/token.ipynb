{
 "cells": [
  {
   "cell_type": "markdown",
   "metadata": {},
   "source": [
    "# Tokenization\n",
    "- Corpus: Paragraph\n",
    "- Documents: Sentences\n",
    "- Vocabulary: Uniques Words\n",
    "- Words: All the words in a corpush"
   ]
  },
  {
   "cell_type": "code",
   "execution_count": null,
   "metadata": {},
   "outputs": [],
   "source": [
    "corpus = \"In the context of Natural Language Processing (NLP)! a corpus is a large and structured set of texts or speech. Used for training and evaluating machine learning models.\""
   ]
  },
  {
   "cell_type": "code",
   "execution_count": 89,
   "metadata": {},
   "outputs": [],
   "source": [
    "documents = [\n",
    "    \"In the context of Natural Language Processing (NLP) a corpus is a large and structured set of texts or speech.\",\n",
    "    \"Used for training and evaluating machine learning models.\"\n",
    "]"
   ]
  },
  {
   "cell_type": "code",
   "execution_count": 90,
   "metadata": {},
   "outputs": [],
   "source": [
    "vocabulary = \"All the unique words\"\n",
    "words = \"All the words in a corpus\""
   ]
  },
  {
   "cell_type": "code",
   "execution_count": 94,
   "metadata": {},
   "outputs": [
    {
     "name": "stdout",
     "output_type": "stream",
     "text": [
      "['In', 'the', 'context', 'of', 'Natural', 'Language', 'Processing', '(', 'NLP', ')', '!', 'a', 'corpus', 'is', 'a', 'large', 'and', 'structured', 'set', 'of', 'texts', 'or', 'speech', '.', 'Used', 'for', 'training', 'and', 'evaluating', 'machine', 'learning', 'models', '.']\n",
      "['In', 'the', 'context', 'of', 'Natural', 'Language', 'Processing', '(', 'NLP', ')', '!']\n",
      "['In', 'the', 'context', 'of', 'Natural', 'Language', 'Processing', '(', 'NLP', ')!']\n",
      "['a', 'corpus', 'is', 'a', 'large', 'and', 'structured', 'set', 'of', 'texts', 'or', 'speech', '.']\n",
      "['a', 'corpus', 'is', 'a', 'large', 'and', 'structured', 'set', 'of', 'texts', 'or', 'speech', '.']\n",
      "['Used', 'for', 'training', 'and', 'evaluating', 'machine', 'learning', 'models', '.']\n",
      "['Used', 'for', 'training', 'and', 'evaluating', 'machine', 'learning', 'models', '.']\n"
     ]
    }
   ],
   "source": [
    "from nltk.tokenize import sent_tokenize, word_tokenize, wordpunct_tokenize\n",
    "sentences_of_documents = sent_tokenize(corpus)\n",
    "words = word_tokenize(corpus)\n",
    "print(word_tokenize(corpus))\n",
    "for sentence in sentences_of_documents:\n",
    "    print(word_tokenize(sentence))\n",
    "    print(wordpunct_tokenize(sentence))"
   ]
  },
  {
   "cell_type": "code",
   "execution_count": 97,
   "metadata": {},
   "outputs": [
    {
     "name": "stdout",
     "output_type": "stream",
     "text": [
      "I n   t h e   c o n t e x t   o f   N a t u r a l   L a n g u a g e   P r o c e s s i n g   (N L P)!   a   c o r p u s   i s   a   l a r g e   a n d   s t r u c t u r e d   s e t   o f   t e x t s   o r   s p e e c h .   U s e d   f o r   t r a i n i n g   a n d   e v a l u a t i n g   m a c h i n e   l e a r n i n g   m o d e l s.\n"
     ]
    }
   ],
   "source": [
    "from nltk.tokenize import TreebankWordDetokenizer\n",
    "\n",
    "tokenizer = TreebankWordDetokenizer()\n",
    "print(tokenizer.tokenize(corpus))"
   ]
  },
  {
   "cell_type": "code",
   "execution_count": null,
   "metadata": {},
   "outputs": [],
   "source": []
  },
  {
   "cell_type": "code",
   "execution_count": null,
   "metadata": {},
   "outputs": [],
   "source": []
  },
  {
   "cell_type": "code",
   "execution_count": null,
   "metadata": {},
   "outputs": [],
   "source": []
  },
  {
   "cell_type": "code",
   "execution_count": null,
   "metadata": {},
   "outputs": [],
   "source": []
  },
  {
   "cell_type": "code",
   "execution_count": null,
   "metadata": {},
   "outputs": [],
   "source": []
  }
 ],
 "metadata": {
  "kernelspec": {
   "display_name": "Python 3",
   "language": "python",
   "name": "python3"
  },
  "language_info": {
   "codemirror_mode": {
    "name": "ipython",
    "version": 3
   },
   "file_extension": ".py",
   "mimetype": "text/x-python",
   "name": "python",
   "nbconvert_exporter": "python",
   "pygments_lexer": "ipython3",
   "version": "3.10.0"
  }
 },
 "nbformat": 4,
 "nbformat_minor": 2
}
