{
 "cells": [
  {
   "cell_type": "markdown",
   "metadata": {},
   "source": [
    "##### stemming is the process of reducing a word to its root form, often removing prefixes or suffixes\n",
    "\n",
    "- PorterStreamer\n",
    "- RegexStreamer\n",
    "- SnowballStreamer"
   ]
  },
  {
   "cell_type": "code",
   "execution_count": 5,
   "metadata": {},
   "outputs": [],
   "source": [
    "words = [\n",
    "    \"running\", \n",
    "    \"happily\", \n",
    "    \"studies\", \n",
    "    \"better\", \n",
    "    \"mangoes\", \n",
    "    \"cars\", \n",
    "    \"plays\", \n",
    "    \"happiness\", \n",
    "    \"children\", \n",
    "    \"flying\", \n",
    "    \"worked\", \n",
    "    \"was\", \n",
    "    \"jumping\", \n",
    "    \"quickly\", \n",
    "    \"friends\",\n",
    "    \"congratulations\"\n",
    "]\n"
   ]
  },
  {
   "cell_type": "markdown",
   "metadata": {},
   "source": [
    "# PorterStemmer"
   ]
  },
  {
   "cell_type": "code",
   "execution_count": 6,
   "metadata": {},
   "outputs": [
    {
     "data": {
      "text/plain": [
       "['run',\n",
       " 'happili',\n",
       " 'studi',\n",
       " 'better',\n",
       " 'mango',\n",
       " 'car',\n",
       " 'play',\n",
       " 'happi',\n",
       " 'children',\n",
       " 'fli',\n",
       " 'work',\n",
       " 'wa',\n",
       " 'jump',\n",
       " 'quickli',\n",
       " 'friend',\n",
       " 'congratul']"
      ]
     },
     "execution_count": 6,
     "metadata": {},
     "output_type": "execute_result"
    }
   ],
   "source": [
    "from nltk.stem import PorterStemmer\n",
    "\n",
    "ps = PorterStemmer()\n",
    "[ps.stem(word) for word in words]"
   ]
  },
  {
   "cell_type": "markdown",
   "metadata": {},
   "source": [
    "# RegexpStemmer"
   ]
  },
  {
   "cell_type": "code",
   "execution_count": null,
   "metadata": {},
   "outputs": [
    {
     "data": {
      "text/plain": [
       "['runn',\n",
       " 'happily',\n",
       " 'studie',\n",
       " 'better',\n",
       " 'mangoe',\n",
       " 'car',\n",
       " 'play',\n",
       " 'happines',\n",
       " 'children',\n",
       " 'fly',\n",
       " 'worked',\n",
       " 'was',\n",
       " 'jump',\n",
       " 'quickly',\n",
       " 'friend',\n",
       " 'congratulation']"
      ]
     },
     "execution_count": 8,
     "metadata": {},
     "output_type": "execute_result"
    }
   ],
   "source": [
    "from nltk.stem import RegexpStemmer\n",
    "\n",
    "\"\"\"\n",
    "    ing$ -> only match last\n",
    "    $ing -> only match first\n",
    "    ing -> match both sides\n",
    "\"\"\"\n",
    "\n",
    "rs = RegexpStemmer('ing$|s$|e$|able$', min=4)\n",
    "[rs.stem(word) for word in words]"
   ]
  },
  {
   "cell_type": "markdown",
   "metadata": {},
   "source": [
    "# SnowballStreamer"
   ]
  },
  {
   "cell_type": "code",
   "execution_count": 9,
   "metadata": {},
   "outputs": [
    {
     "data": {
      "text/plain": [
       "['run',\n",
       " 'happili',\n",
       " 'studi',\n",
       " 'better',\n",
       " 'mango',\n",
       " 'car',\n",
       " 'play',\n",
       " 'happi',\n",
       " 'children',\n",
       " 'fli',\n",
       " 'work',\n",
       " 'was',\n",
       " 'jump',\n",
       " 'quick',\n",
       " 'friend',\n",
       " 'congratul']"
      ]
     },
     "execution_count": 9,
     "metadata": {},
     "output_type": "execute_result"
    }
   ],
   "source": [
    "from nltk.stem import SnowballStemmer\n",
    "\n",
    "swr = SnowballStemmer(language='english')\n",
    "[swr.stem(word) for word in words]"
   ]
  },
  {
   "cell_type": "code",
   "execution_count": null,
   "metadata": {},
   "outputs": [],
   "source": []
  },
  {
   "cell_type": "code",
   "execution_count": null,
   "metadata": {},
   "outputs": [],
   "source": []
  },
  {
   "cell_type": "code",
   "execution_count": null,
   "metadata": {},
   "outputs": [],
   "source": []
  },
  {
   "cell_type": "code",
   "execution_count": null,
   "metadata": {},
   "outputs": [],
   "source": []
  },
  {
   "cell_type": "code",
   "execution_count": null,
   "metadata": {},
   "outputs": [],
   "source": []
  }
 ],
 "metadata": {
  "kernelspec": {
   "display_name": "Python 3",
   "language": "python",
   "name": "python3"
  },
  "language_info": {
   "codemirror_mode": {
    "name": "ipython",
    "version": 3
   },
   "file_extension": ".py",
   "mimetype": "text/x-python",
   "name": "python",
   "nbconvert_exporter": "python",
   "pygments_lexer": "ipython3",
   "version": "3.10.0"
  }
 },
 "nbformat": 4,
 "nbformat_minor": 2
}
