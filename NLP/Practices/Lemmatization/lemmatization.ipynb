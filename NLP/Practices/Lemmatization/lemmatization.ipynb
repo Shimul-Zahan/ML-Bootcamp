{
 "cells": [
  {
   "cell_type": "markdown",
   "metadata": {},
   "source": [
    "# Lemmatization\n",
    "\n",
    "Lemmatization is the process of converting a word to its base or root form, also known as the \"lemma,\" but it differs from stemming. While stemming simply chops off prefixes or suffixes to reduce a word to its root, lemmatization takes into account the context and the part of speech of the word to return the dictionary or base form of the word.\n",
    "\n",
    "For example:\n",
    "\n",
    "Running → Run (root form)\n",
    "\n",
    "Better → Good (since \"better\" is a comparative form of \"good\")"
   ]
  },
  {
   "cell_type": "code",
   "execution_count": 7,
   "metadata": {},
   "outputs": [],
   "source": [
    "words = [\n",
    "    \"running\", \n",
    "    \"happily\", \n",
    "    \"studies\", \n",
    "    \"better\", \n",
    "    \"mangoes\", \n",
    "    \"cars\", \n",
    "    \"plays\", \n",
    "    \"happiness\", \n",
    "    \"children\", \n",
    "    \"flying\", \n",
    "    \"worked\", \n",
    "    \"was\", \n",
    "    \"jumping\", \n",
    "    \"quickly\", \n",
    "    \"friends\",\n",
    "    \"congratulations\",\n",
    "    \"going\"\n",
    "]\n"
   ]
  },
  {
   "cell_type": "code",
   "execution_count": 5,
   "metadata": {},
   "outputs": [
    {
     "name": "stderr",
     "output_type": "stream",
     "text": [
      "[nltk_data] Downloading package wordnet to C:\\Users\\USER/nltk_data...\n"
     ]
    },
    {
     "data": {
      "text/plain": [
       "True"
      ]
     },
     "execution_count": 5,
     "metadata": {},
     "output_type": "execute_result"
    }
   ],
   "source": [
    "import nltk\n",
    "nltk.download('wordnet')"
   ]
  },
  {
   "cell_type": "code",
   "execution_count": 11,
   "metadata": {},
   "outputs": [
    {
     "data": {
      "text/plain": [
       "['run',\n",
       " 'happily',\n",
       " 'study',\n",
       " 'better',\n",
       " 'mangoes',\n",
       " 'cars',\n",
       " 'play',\n",
       " 'happiness',\n",
       " 'children',\n",
       " 'fly',\n",
       " 'work',\n",
       " 'be',\n",
       " 'jump',\n",
       " 'quickly',\n",
       " 'friends',\n",
       " 'congratulations',\n",
       " 'go']"
      ]
     },
     "execution_count": 11,
     "metadata": {},
     "output_type": "execute_result"
    }
   ],
   "source": [
    "from nltk.stem import WordNetLemmatizer\n",
    "\n",
    "lemma = WordNetLemmatizer()\n",
    "'''\n",
    "    def lemmatize(\n",
    "        word: str,\n",
    "        pos: str = \"n\"  # for noun it n, for verb its v, adj its a, adverb its r\n",
    "    ) -> str\n",
    "\n",
    "'''\n",
    "[lemma.lemmatize(word, pos='v') for word in words]"
   ]
  },
  {
   "cell_type": "code",
   "execution_count": 15,
   "metadata": {},
   "outputs": [
    {
     "data": {
      "text/plain": [
       "['run',\n",
       " 'happily',\n",
       " 'study',\n",
       " 'good',\n",
       " 'mango',\n",
       " 'car',\n",
       " 'play',\n",
       " 'happiness',\n",
       " 'child',\n",
       " 'fly',\n",
       " 'work',\n",
       " 'wa',\n",
       " 'jump',\n",
       " 'quickly',\n",
       " 'friend',\n",
       " 'congratulation',\n",
       " 'go']"
      ]
     },
     "execution_count": 15,
     "metadata": {},
     "output_type": "execute_result"
    }
   ],
   "source": [
    "pos= [\"n\",\"v\",\"a\",\"r\"]\n",
    "\n",
    "for ch in pos:\n",
    "    words = [lemma.lemmatize(word, pos=ch) for word in words]\n",
    "    \n",
    "words"
   ]
  },
  {
   "cell_type": "code",
   "execution_count": null,
   "metadata": {},
   "outputs": [],
   "source": []
  },
  {
   "cell_type": "code",
   "execution_count": null,
   "metadata": {},
   "outputs": [],
   "source": []
  },
  {
   "cell_type": "code",
   "execution_count": null,
   "metadata": {},
   "outputs": [],
   "source": []
  },
  {
   "cell_type": "code",
   "execution_count": null,
   "metadata": {},
   "outputs": [],
   "source": []
  }
 ],
 "metadata": {
  "kernelspec": {
   "display_name": "Python 3",
   "language": "python",
   "name": "python3"
  },
  "language_info": {
   "codemirror_mode": {
    "name": "ipython",
    "version": 3
   },
   "file_extension": ".py",
   "mimetype": "text/x-python",
   "name": "python",
   "nbconvert_exporter": "python",
   "pygments_lexer": "ipython3",
   "version": "3.10.0"
  }
 },
 "nbformat": 4,
 "nbformat_minor": 2
}
