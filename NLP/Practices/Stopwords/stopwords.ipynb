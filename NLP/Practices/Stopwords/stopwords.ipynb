{
 "cells": [
  {
   "cell_type": "markdown",
   "metadata": {},
   "source": [
    "# Stopwords\n",
    "\n",
    "Stopwords are common words that do not carry significant meaning by themselves but are essential for sentence structure and syntax. In text processing tasks, such as Natural Language Processing (NLP) or text mining, stopwords are often removed because they do not contribute much to the overall meaning or analysis of the content.\n",
    "\n",
    "Some examples of stopwords in English are:\n",
    "\n",
    "- I\n",
    "- you\n",
    "- and\n",
    "- that\n",
    "- is\n",
    "- not\n",
    "- it\n",
    "- to"
   ]
  },
  {
   "cell_type": "code",
   "execution_count": 49,
   "metadata": {},
   "outputs": [],
   "source": [
    "paragraph = \"Machine Learning (ML) is a subset of Artificial Intelligence (AI) that enables systems to learn from data and improve their performance over time without being explicitly programmed. It involves algorithms and statistical models that analyze patterns within data to make predictions or decisions. ML is used in various fields, such as healthcare for diagnosing diseases, finance for fraud detection, and e-commerce for personalized recommendations. With advancements in deep learning, a subset of ML, the capabilities of AI systems have grown significantly, allowing them to handle complex tasks like image recognition, natural language processing, and autonomous driving.\""
   ]
  },
  {
   "cell_type": "code",
   "execution_count": 43,
   "metadata": {},
   "outputs": [],
   "source": [
    "from nltk.stem import PorterStemmer, SnowballStemmer, RegexpStemmer, WordNetLemmatizer\n",
    "from nltk.corpus import stopwords\n",
    "from nltk.tokenize import sent_tokenize, word_tokenize\n"
   ]
  },
  {
   "cell_type": "code",
   "execution_count": 40,
   "metadata": {},
   "outputs": [],
   "source": [
    "# stopwords.words(\"english\")"
   ]
  },
  {
   "cell_type": "code",
   "execution_count": 41,
   "metadata": {},
   "outputs": [
    {
     "data": {
      "text/plain": [
       "['machin learn ( ml ) subset artifici intellig ( ai ) enabl system learn data improv perform time without explicitli program .',\n",
       " 'involv algorithm statist model analyz pattern within data make predict decis .',\n",
       " 'ml use variou field , healthcar diagnos diseas , financ fraud detect , e-commerc person recommend .',\n",
       " 'advanc deep learn , subset ml , capabl ai system grown significantli , allow handl complex task like imag recognit , natur languag process , autonom drive .']"
      ]
     },
     "execution_count": 41,
     "metadata": {},
     "output_type": "execute_result"
    }
   ],
   "source": [
    "# first tokenize\n",
    "# second remove stopwords\n",
    "# then we user steammer\n",
    "\n",
    "sentences = sent_tokenize(paragraph)\n",
    "stop_words = set(stopwords.words('english'))\n",
    "steammer = PorterStemmer()\n",
    "\n",
    "processed_sentences = []\n",
    "\n",
    "for sentence in sentences:\n",
    "    words = word_tokenize(sentence)\n",
    "    # print(words)\n",
    "    # check for stopword if it not then app it to words\n",
    "    words = [steammer.stem(word) for word in words if word.lower() not in stop_words]\n",
    "\n",
    "    sentence = ' '.join(words)\n",
    "    processed_sentences.append(sentence)\n",
    "    \n",
    "processed_sentences\n"
   ]
  },
  {
   "cell_type": "code",
   "execution_count": 45,
   "metadata": {},
   "outputs": [
    {
     "data": {
      "text/plain": [
       "['machin learn ( ml ) subset artifici intellig ( ai ) enabl system learn data improv perform time without explicit program .',\n",
       " 'involv algorithm statist model analyz pattern within data make predict decis .',\n",
       " 'ml use various field , healthcar diagnos diseas , financ fraud detect , e-commerc person recommend .',\n",
       " 'advanc deep learn , subset ml , capabl ai system grown signific , allow handl complex task like imag recognit , natur languag process , autonom drive .']"
      ]
     },
     "execution_count": 45,
     "metadata": {},
     "output_type": "execute_result"
    }
   ],
   "source": [
    "# first tokenize\n",
    "# second remove stopwords\n",
    "# then we user steammer\n",
    "\n",
    "sentences = sent_tokenize(paragraph)\n",
    "stop_words = set(stopwords.words('english'))\n",
    "steammer = SnowballStemmer(language='english')\n",
    "\n",
    "processed_sentences = []\n",
    "\n",
    "for sentence in sentences:\n",
    "    words = word_tokenize(sentence)\n",
    "    # print(words)\n",
    "    # check for stopword if it not then app it to words\n",
    "    words = [steammer.stem(word) for word in words if word.lower() not in stop_words]\n",
    "\n",
    "    sentence = ' '.join(words)\n",
    "    processed_sentences.append(sentence)\n",
    "    \n",
    "processed_sentences\n"
   ]
  },
  {
   "cell_type": "code",
   "execution_count": 59,
   "metadata": {},
   "outputs": [
    {
     "name": "stdout",
     "output_type": "stream",
     "text": [
      "['machine', 'learn', '(', 'ml', ')', 'subset', 'artificial', 'intelligence', '(', 'ai', ')', 'enable', 'systems', 'learn', 'data', 'improve', 'performance', 'time', 'without', 'explicitly', 'program', '.']\n",
      "['involve', 'use', 'algorithms', 'statistical', 'model', 'analyze', 'pattern', 'within', 'data', 'make', 'predictions', 'decisions', '.']\n",
      "['ml', 'use', 'various', 'field', ',', 'healthcare', 'diagnose', 'diseases', ',', 'finance', 'fraud', 'detection', ',', 'e-commerce', 'personalize', 'recommendations', '.']\n",
      "['advancements', 'deep', 'learn', ',', 'subset', 'ml', ',', 'capabilities', 'ai', 'systems', 'grow', 'significantly', ',', 'allow', 'handle', 'complex', 'task', 'like', 'image', 'recognition', ',', 'natural', 'language', 'process', ',', 'autonomous', 'drive', '.']\n"
     ]
    },
    {
     "data": {
      "text/plain": [
       "['machine learn ( ml ) subset artificial intelligence ( ai ) enable systems learn data improve performance time without explicitly program .',\n",
       " 'involve use algorithms statistical model analyze pattern within data make predictions decisions .',\n",
       " 'ml use various field , healthcare diagnose diseases , finance fraud detection , e-commerce personalize recommendations .',\n",
       " 'advancements deep learn , subset ml , capabilities ai systems grow significantly , allow handle complex task like image recognition , natural language process , autonomous drive .']"
      ]
     },
     "execution_count": 59,
     "metadata": {},
     "output_type": "execute_result"
    }
   ],
   "source": [
    "# first tokenize\n",
    "# second remove stopwords\n",
    "# then we user steammer\n",
    "\n",
    "sentences = sent_tokenize(paragraph)\n",
    "stop_words = set(stopwords.words('english'))\n",
    "lemma = WordNetLemmatizer()\n",
    "\n",
    "processed_sentences = []\n",
    "\n",
    "for sentence in sentences:\n",
    "    words = word_tokenize(sentence)\n",
    "    words = [word.lower() for word in words]\n",
    "    # print(words)\n",
    "    # check for stopword if it not then app it to words\n",
    "    words = [lemma.lemmatize(word, pos='v') for word in words if word.lower() not in stop_words]\n",
    "    print(words)\n",
    "    sentence = ' '.join(words)\n",
    "    processed_sentences.append(sentence)\n",
    "    \n",
    "processed_sentences\n"
   ]
  },
  {
   "cell_type": "code",
   "execution_count": null,
   "metadata": {},
   "outputs": [],
   "source": []
  },
  {
   "cell_type": "code",
   "execution_count": null,
   "metadata": {},
   "outputs": [],
   "source": []
  }
 ],
 "metadata": {
  "kernelspec": {
   "display_name": "Python 3",
   "language": "python",
   "name": "python3"
  },
  "language_info": {
   "codemirror_mode": {
    "name": "ipython",
    "version": 3
   },
   "file_extension": ".py",
   "mimetype": "text/x-python",
   "name": "python",
   "nbconvert_exporter": "python",
   "pygments_lexer": "ipython3",
   "version": "3.10.0"
  }
 },
 "nbformat": 4,
 "nbformat_minor": 2
}
