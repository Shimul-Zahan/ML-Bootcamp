{
 "cells": [
  {
   "cell_type": "code",
   "execution_count": 19,
   "metadata": {},
   "outputs": [],
   "source": [
    "import nltk\n",
    "from nltk.tokenize import word_tokenize, sent_tokenize\n",
    "from nltk import pos_tag, ne_chunk\n",
    "\n",
    "# Sample text\n",
    "text = \"Taj Mahal is in India. Elon Musk is the CEO of Tesla.\"\n",
    "\n",
    "# Step 1: Sentence Tokenization\n",
    "sentences = sent_tokenize(text)\n",
    "words = [word_tokenize(sentence) for sentence in sentences]\n",
    "tag_elements = [pos_tag(word) for word in words]\n",
    "name_entity = [ne_chunk(tag) for tag in tag_elements]\n",
    "\n",
    "for tree in name_entity:\n",
    "    # print(tree)\n",
    "    tree.draw()"
   ]
  }
 ],
 "metadata": {
  "kernelspec": {
   "display_name": "Python 3",
   "language": "python",
   "name": "python3"
  },
  "language_info": {
   "codemirror_mode": {
    "name": "ipython",
    "version": 3
   },
   "file_extension": ".py",
   "mimetype": "text/x-python",
   "name": "python",
   "nbconvert_exporter": "python",
   "pygments_lexer": "ipython3",
   "version": "3.10.0"
  }
 },
 "nbformat": 4,
 "nbformat_minor": 2
}
