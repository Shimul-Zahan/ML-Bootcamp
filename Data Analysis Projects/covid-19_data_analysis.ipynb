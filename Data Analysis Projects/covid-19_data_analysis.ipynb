{
 "cells": [
  {
   "cell_type": "markdown",
   "metadata": {},
   "source": [
    "### Here we analysis covid-19 data"
   ]
  },
  {
   "cell_type": "markdown",
   "metadata": {},
   "source": [
    "### Step: 01 -> Prepare data for analysis"
   ]
  },
  {
   "cell_type": "code",
   "execution_count": 75,
   "metadata": {},
   "outputs": [],
   "source": [
    "# imports libraries\n",
    "import numpy as np\n",
    "import pandas as pd\n",
    "import matplotlib.pyplot as plt\n",
    "import seaborn as sns\n",
    "import os\n",
    "import plotly.express as px"
   ]
  },
  {
   "cell_type": "code",
   "execution_count": 61,
   "metadata": {},
   "outputs": [],
   "source": [
    "# create a method for read the data\n",
    "def read_data(path, filename):\n",
    "    return pd.read_csv(path+'/'+filename)"
   ]
  },
  {
   "cell_type": "code",
   "execution_count": 62,
   "metadata": {},
   "outputs": [],
   "source": [
    "# path = \"E:\\ML-Bootcamp-Practical\\Data Analysis Projects\\data\\Covid-19\"\n",
    "# filename= \"worldometer_data.csv\"\n",
    "# covid_worldwide_data = read_data(path, filename)"
   ]
  },
  {
   "cell_type": "code",
   "execution_count": 63,
   "metadata": {},
   "outputs": [
    {
     "data": {
      "text/plain": [
       "['country_wise_latest.csv',\n",
       " 'covid_19_clean_complete.csv',\n",
       " 'day_wise.csv',\n",
       " 'full_grouped.csv',\n",
       " 'usa_country_wise.csv',\n",
       " 'worldometer_data.csv']"
      ]
     },
     "execution_count": 63,
     "metadata": {},
     "output_type": "execute_result"
    }
   ],
   "source": [
    "# imports all the dataset\n",
    "\n",
    "files = os.listdir(\"E:\\ML-Bootcamp-Practical\\Data Analysis Projects\\data\\Covid-19\")\n",
    "path = \"E:\\ML-Bootcamp-Practical\\Data Analysis Projects\\data\\Covid-19\"\n",
    "covid_worldwide_data = covid_worldwide_data = read_data(path, 'worldometer_data.csv')\n",
    "day_wise_data = covid_worldwide_data = read_data(path, files[2])\n",
    "usa_country_wise_data = covid_worldwide_data = read_data(path, files[4])\n",
    "country_wise_latest_data = covid_worldwide_data = read_data(path, files[0])\n",
    "full_grouped_data = covid_worldwide_data = read_data(path, files[3])\n",
    "files"
   ]
  },
  {
   "cell_type": "markdown",
   "metadata": {},
   "source": [
    "### Analyze the data\n",
    "1. Maximum Total Cases\n",
    "2. Deaths\n",
    "3. Recover\n",
    "4. Active cases\n",
    "5. trend(time series) of confirm death, recovered, active cases"
   ]
  },
  {
   "cell_type": "code",
   "execution_count": null,
   "metadata": {},
   "outputs": [],
   "source": [
    " "
   ]
  },
  {
   "cell_type": "code",
   "execution_count": 64,
   "metadata": {},
   "outputs": [],
   "source": [
    "world_data = pd.read_csv('./data/Covid-19/worldometer_data.csv')"
   ]
  },
  {
   "cell_type": "code",
   "execution_count": 65,
   "metadata": {},
   "outputs": [
    {
     "data": {
      "text/html": [
       "<div>\n",
       "<style scoped>\n",
       "    .dataframe tbody tr th:only-of-type {\n",
       "        vertical-align: middle;\n",
       "    }\n",
       "\n",
       "    .dataframe tbody tr th {\n",
       "        vertical-align: top;\n",
       "    }\n",
       "\n",
       "    .dataframe thead th {\n",
       "        text-align: right;\n",
       "    }\n",
       "</style>\n",
       "<table border=\"1\" class=\"dataframe\">\n",
       "  <thead>\n",
       "    <tr style=\"text-align: right;\">\n",
       "      <th></th>\n",
       "      <th>Country/Region</th>\n",
       "      <th>Continent</th>\n",
       "      <th>Population</th>\n",
       "      <th>TotalCases</th>\n",
       "      <th>NewCases</th>\n",
       "      <th>TotalDeaths</th>\n",
       "      <th>NewDeaths</th>\n",
       "      <th>TotalRecovered</th>\n",
       "      <th>NewRecovered</th>\n",
       "      <th>ActiveCases</th>\n",
       "      <th>Serious,Critical</th>\n",
       "      <th>Tot Cases/1M pop</th>\n",
       "      <th>Deaths/1M pop</th>\n",
       "      <th>TotalTests</th>\n",
       "      <th>Tests/1M pop</th>\n",
       "      <th>WHO Region</th>\n",
       "    </tr>\n",
       "  </thead>\n",
       "  <tbody>\n",
       "    <tr>\n",
       "      <th>0</th>\n",
       "      <td>USA</td>\n",
       "      <td>North America</td>\n",
       "      <td>3.311981e+08</td>\n",
       "      <td>5032179</td>\n",
       "      <td>NaN</td>\n",
       "      <td>162804.0</td>\n",
       "      <td>NaN</td>\n",
       "      <td>2576668.0</td>\n",
       "      <td>NaN</td>\n",
       "      <td>2292707.0</td>\n",
       "      <td>18296.0</td>\n",
       "      <td>15194.0</td>\n",
       "      <td>492.0</td>\n",
       "      <td>63139605.0</td>\n",
       "      <td>190640.0</td>\n",
       "      <td>Americas</td>\n",
       "    </tr>\n",
       "    <tr>\n",
       "      <th>1</th>\n",
       "      <td>Brazil</td>\n",
       "      <td>South America</td>\n",
       "      <td>2.127107e+08</td>\n",
       "      <td>2917562</td>\n",
       "      <td>NaN</td>\n",
       "      <td>98644.0</td>\n",
       "      <td>NaN</td>\n",
       "      <td>2047660.0</td>\n",
       "      <td>NaN</td>\n",
       "      <td>771258.0</td>\n",
       "      <td>8318.0</td>\n",
       "      <td>13716.0</td>\n",
       "      <td>464.0</td>\n",
       "      <td>13206188.0</td>\n",
       "      <td>62085.0</td>\n",
       "      <td>Americas</td>\n",
       "    </tr>\n",
       "    <tr>\n",
       "      <th>2</th>\n",
       "      <td>India</td>\n",
       "      <td>Asia</td>\n",
       "      <td>1.381345e+09</td>\n",
       "      <td>2025409</td>\n",
       "      <td>NaN</td>\n",
       "      <td>41638.0</td>\n",
       "      <td>NaN</td>\n",
       "      <td>1377384.0</td>\n",
       "      <td>NaN</td>\n",
       "      <td>606387.0</td>\n",
       "      <td>8944.0</td>\n",
       "      <td>1466.0</td>\n",
       "      <td>30.0</td>\n",
       "      <td>22149351.0</td>\n",
       "      <td>16035.0</td>\n",
       "      <td>South-EastAsia</td>\n",
       "    </tr>\n",
       "    <tr>\n",
       "      <th>3</th>\n",
       "      <td>Russia</td>\n",
       "      <td>Europe</td>\n",
       "      <td>1.459409e+08</td>\n",
       "      <td>871894</td>\n",
       "      <td>NaN</td>\n",
       "      <td>14606.0</td>\n",
       "      <td>NaN</td>\n",
       "      <td>676357.0</td>\n",
       "      <td>NaN</td>\n",
       "      <td>180931.0</td>\n",
       "      <td>2300.0</td>\n",
       "      <td>5974.0</td>\n",
       "      <td>100.0</td>\n",
       "      <td>29716907.0</td>\n",
       "      <td>203623.0</td>\n",
       "      <td>Europe</td>\n",
       "    </tr>\n",
       "    <tr>\n",
       "      <th>4</th>\n",
       "      <td>South Africa</td>\n",
       "      <td>Africa</td>\n",
       "      <td>5.938157e+07</td>\n",
       "      <td>538184</td>\n",
       "      <td>NaN</td>\n",
       "      <td>9604.0</td>\n",
       "      <td>NaN</td>\n",
       "      <td>387316.0</td>\n",
       "      <td>NaN</td>\n",
       "      <td>141264.0</td>\n",
       "      <td>539.0</td>\n",
       "      <td>9063.0</td>\n",
       "      <td>162.0</td>\n",
       "      <td>3149807.0</td>\n",
       "      <td>53044.0</td>\n",
       "      <td>Africa</td>\n",
       "    </tr>\n",
       "  </tbody>\n",
       "</table>\n",
       "</div>"
      ],
      "text/plain": [
       "  Country/Region      Continent    Population  TotalCases  NewCases  \\\n",
       "0            USA  North America  3.311981e+08     5032179       NaN   \n",
       "1         Brazil  South America  2.127107e+08     2917562       NaN   \n",
       "2          India           Asia  1.381345e+09     2025409       NaN   \n",
       "3         Russia         Europe  1.459409e+08      871894       NaN   \n",
       "4   South Africa         Africa  5.938157e+07      538184       NaN   \n",
       "\n",
       "   TotalDeaths  NewDeaths  TotalRecovered  NewRecovered  ActiveCases  \\\n",
       "0     162804.0        NaN       2576668.0           NaN    2292707.0   \n",
       "1      98644.0        NaN       2047660.0           NaN     771258.0   \n",
       "2      41638.0        NaN       1377384.0           NaN     606387.0   \n",
       "3      14606.0        NaN        676357.0           NaN     180931.0   \n",
       "4       9604.0        NaN        387316.0           NaN     141264.0   \n",
       "\n",
       "   Serious,Critical  Tot Cases/1M pop  Deaths/1M pop  TotalTests  \\\n",
       "0           18296.0           15194.0          492.0  63139605.0   \n",
       "1            8318.0           13716.0          464.0  13206188.0   \n",
       "2            8944.0            1466.0           30.0  22149351.0   \n",
       "3            2300.0            5974.0          100.0  29716907.0   \n",
       "4             539.0            9063.0          162.0   3149807.0   \n",
       "\n",
       "   Tests/1M pop      WHO Region  \n",
       "0      190640.0        Americas  \n",
       "1       62085.0        Americas  \n",
       "2       16035.0  South-EastAsia  \n",
       "3      203623.0          Europe  \n",
       "4       53044.0          Africa  "
      ]
     },
     "execution_count": 65,
     "metadata": {},
     "output_type": "execute_result"
    }
   ],
   "source": [
    "world_data.head()"
   ]
  },
  {
   "cell_type": "code",
   "execution_count": 66,
   "metadata": {},
   "outputs": [
    {
     "data": {
      "text/plain": [
       "Index(['Country/Region', 'Continent', 'Population', 'TotalCases', 'NewCases',\n",
       "       'TotalDeaths', 'NewDeaths', 'TotalRecovered', 'NewRecovered',\n",
       "       'ActiveCases', 'Serious,Critical', 'Tot Cases/1M pop', 'Deaths/1M pop',\n",
       "       'TotalTests', 'Tests/1M pop', 'WHO Region'],\n",
       "      dtype='object')"
      ]
     },
     "execution_count": 66,
     "metadata": {},
     "output_type": "execute_result"
    }
   ],
   "source": [
    "world_data.columns"
   ]
  },
  {
   "cell_type": "code",
   "execution_count": 73,
   "metadata": {},
   "outputs": [
    {
     "data": {
      "image/png": "[encoded data removed]",
      "text/plain": [
       "<Figure size 2000x600 with 1 Axes>"
      ]
     },
     "metadata": {},
     "output_type": "display_data"
    },
    {
     "data": {
      "image/png": "[encoded data removed]",
      "text/plain": [
       "<Figure size 2000x600 with 1 Axes>"
      ]
     },
     "metadata": {},
     "output_type": "display_data"
    },
    {
     "data": {
      "image/png": "[encoded data removed]",
      "text/plain": [
       "<Figure size 2000x600 with 1 Axes>"
      ]
     },
     "metadata": {},
     "output_type": "display_data"
    },
    {
     "data": {
      "image/png": "[encoded data removed]",
      "text/plain": [
       "<Figure size 2000x600 with 1 Axes>"
      ]
     },
     "metadata": {},
     "output_type": "display_data"
    }
   ],
   "source": [
    "columns = ['TotalCases','TotalDeaths', 'TotalRecovered', 'ActiveCases']\n",
    "\n",
    "for col in columns:\n",
    "    # Sort the dataset by the current column and select the top 20 countries\n",
    "    top_countries = world_data.sort_values(by=col, ascending=False).iloc[:20]\n",
    "    \n",
    "    # Plot the bar chart\n",
    "    plt.figure(figsize=(20, 6))\n",
    "    sns.barplot(x=top_countries[\"Country/Region\"], y=top_countries[col])  # palette='viridis'\n",
    "    plt.title(f\"Top 20 Countries by {col}\")\n",
    "    # plt.xlabel(\"Country/Region\")\n",
    "    plt.ylabel(col)\n",
    "    plt.xticks(rotation=90)  # Rotate country names for better readability\n",
    "    plt.show()"
   ]
  },
  {
   "cell_type": "code",
   "execution_count": 90,
   "metadata": {},
   "outputs": [
    {
     "ename": "ValueError",
     "evalue": "Mime type rendering requires nbformat>=4.2.0 but it is not installed",
     "output_type": "error",
     "traceback": [
      "\u001b[1;31m---------------------------------------------------------------------------\u001b[0m",
      "\u001b[1;31mValueError\u001b[0m                                Traceback (most recent call last)",
      "File \u001b[1;32me:\\ML-Bootcamp-Practical\\venv\\lib\\site-packages\\IPython\\core\\formatters.py:984\u001b[0m, in \u001b[0;36mIPythonDisplayFormatter.__call__\u001b[1;34m(self, obj)\u001b[0m\n\u001b[0;32m    982\u001b[0m method \u001b[38;5;241m=\u001b[39m get_real_method(obj, \u001b[38;5;28mself\u001b[39m\u001b[38;5;241m.\u001b[39mprint_method)\n\u001b[0;32m    983\u001b[0m \u001b[38;5;28;01mif\u001b[39;00m method \u001b[38;5;129;01mis\u001b[39;00m \u001b[38;5;129;01mnot\u001b[39;00m \u001b[38;5;28;01mNone\u001b[39;00m:\n\u001b[1;32m--> 984\u001b[0m     \u001b[43mmethod\u001b[49m\u001b[43m(\u001b[49m\u001b[43m)\u001b[49m\n\u001b[0;32m    985\u001b[0m     \u001b[38;5;28;01mreturn\u001b[39;00m \u001b[38;5;28;01mTrue\u001b[39;00m\n",
      "File \u001b[1;32me:\\ML-Bootcamp-Practical\\venv\\lib\\site-packages\\plotly\\basedatatypes.py:832\u001b[0m, in \u001b[0;36mBaseFigure._ipython_display_\u001b[1;34m(self)\u001b[0m\n\u001b[0;32m    829\u001b[0m \u001b[38;5;28;01mimport\u001b[39;00m\u001b[38;5;250m \u001b[39m\u001b[38;5;21;01mplotly\u001b[39;00m\u001b[38;5;21;01m.\u001b[39;00m\u001b[38;5;21;01mio\u001b[39;00m\u001b[38;5;250m \u001b[39m\u001b[38;5;28;01mas\u001b[39;00m\u001b[38;5;250m \u001b[39m\u001b[38;5;21;01mpio\u001b[39;00m\n\u001b[0;32m    831\u001b[0m \u001b[38;5;28;01mif\u001b[39;00m pio\u001b[38;5;241m.\u001b[39mrenderers\u001b[38;5;241m.\u001b[39mrender_on_display \u001b[38;5;129;01mand\u001b[39;00m pio\u001b[38;5;241m.\u001b[39mrenderers\u001b[38;5;241m.\u001b[39mdefault:\n\u001b[1;32m--> 832\u001b[0m     \u001b[43mpio\u001b[49m\u001b[38;5;241;43m.\u001b[39;49m\u001b[43mshow\u001b[49m\u001b[43m(\u001b[49m\u001b[38;5;28;43mself\u001b[39;49m\u001b[43m)\u001b[49m\n\u001b[0;32m    833\u001b[0m \u001b[38;5;28;01melse\u001b[39;00m:\n\u001b[0;32m    834\u001b[0m     \u001b[38;5;28mprint\u001b[39m(\u001b[38;5;28mrepr\u001b[39m(\u001b[38;5;28mself\u001b[39m))\n",
      "File \u001b[1;32me:\\ML-Bootcamp-Practical\\venv\\lib\\site-packages\\plotly\\io\\_renderers.py:394\u001b[0m, in \u001b[0;36mshow\u001b[1;34m(fig, renderer, validate, **kwargs)\u001b[0m\n\u001b[0;32m    389\u001b[0m         \u001b[38;5;28;01mraise\u001b[39;00m \u001b[38;5;167;01mValueError\u001b[39;00m(\n\u001b[0;32m    390\u001b[0m             \u001b[38;5;124m\"\u001b[39m\u001b[38;5;124mMime type rendering requires ipython but it is not installed\u001b[39m\u001b[38;5;124m\"\u001b[39m\n\u001b[0;32m    391\u001b[0m         )\n\u001b[0;32m    393\u001b[0m     \u001b[38;5;28;01mif\u001b[39;00m \u001b[38;5;129;01mnot\u001b[39;00m nbformat \u001b[38;5;129;01mor\u001b[39;00m Version(nbformat\u001b[38;5;241m.\u001b[39m__version__) \u001b[38;5;241m<\u001b[39m Version(\u001b[38;5;124m\"\u001b[39m\u001b[38;5;124m4.2.0\u001b[39m\u001b[38;5;124m\"\u001b[39m):\n\u001b[1;32m--> 394\u001b[0m         \u001b[38;5;28;01mraise\u001b[39;00m \u001b[38;5;167;01mValueError\u001b[39;00m(\n\u001b[0;32m    395\u001b[0m             \u001b[38;5;124m\"\u001b[39m\u001b[38;5;124mMime type rendering requires nbformat>=4.2.0 but it is not installed\u001b[39m\u001b[38;5;124m\"\u001b[39m\n\u001b[0;32m    396\u001b[0m         )\n\u001b[0;32m    398\u001b[0m     ipython_display\u001b[38;5;241m.\u001b[39mdisplay(bundle, raw\u001b[38;5;241m=\u001b[39m\u001b[38;5;28;01mTrue\u001b[39;00m)\n\u001b[0;32m    400\u001b[0m \u001b[38;5;66;03m# external renderers\u001b[39;00m\n",
      "\u001b[1;31mValueError\u001b[0m: Mime type rendering requires nbformat>=4.2.0 but it is not installed"
     ]
    },
    {
     "data": {
      "application/vnd.plotly.v1+json": {
       "config": {
        "plotlyServerURL": "https://plot.ly"
       },
       "data": [
        {
         "hovertemplate": "variable=Confirmed<br>Date=%{x}<br>value=%{y}<extra></extra>",
         "legendgroup": "Confirmed",
         "line": {
          "color": "#636efa",
          "dash": "solid"
         },
         "marker": {
          "symbol": "circle"
         },
         "mode": "lines",
         "name": "Confirmed",
         "orientation": "v",
         "showlegend": true,
         "type": "scatter",
         "x": [
          "2020-01-22",
          "2020-01-23",
          "2020-01-24",
          "2020-01-25",
          "2020-01-26",
          "2020-01-27",
          "2020-01-28",
          "2020-01-29",
          "2020-01-30",
          "2020-01-31",
          "2020-02-01",
          "2020-02-02",
          "2020-02-03",
          "2020-02-04",
          "2020-02-05",
          "2020-02-06",
          "2020-02-07",
          "2020-02-08",
          "2020-02-09",
          "2020-02-10",
          "2020-02-11",
          "2020-02-12",
          "2020-02-13",
          "2020-02-14",
          "2020-02-15",
          "2020-02-16",
          "2020-02-17",
          "2020-02-18",
          "2020-02-19",
          "2020-02-20",
          "2020-02-21",
          "2020-02-22",
          "2020-02-23",
          "2020-02-24",
          "2020-02-25",
          "2020-02-26",
          "2020-02-27",
          "2020-02-28",
          "2020-02-29",
          "2020-03-01",
          "2020-03-02",
          "2020-03-03",
          "2020-03-04",
          "2020-03-05",
          "2020-03-06",
          "2020-03-07",
          "2020-03-08",
          "2020-03-09",
          "2020-03-10",
          "2020-03-11",
          "2020-03-12",
          "2020-03-13",
          "2020-03-14",
          "2020-03-15",
          "2020-03-16",
          "2020-03-17",
          "2020-03-18",
          "2020-03-19",
          "2020-03-20",
          "2020-03-21",
          "2020-03-22",
          "2020-03-23",
          "2020-03-24",
          "2020-03-25",
          "2020-03-26",
          "2020-03-27",
          "2020-03-28",
          "2020-03-29",
          "2020-03-30",
          "2020-03-31",
          "2020-04-01",
          "2020-04-02",
          "2020-04-03",
          "2020-04-04",
          "2020-04-05",
          "2020-04-06",
          "2020-04-07",
          "2020-04-08",
          "2020-04-09",
          "2020-04-10",
          "2020-04-11",
          "2020-04-12",
          "2020-04-13",
          "2020-04-14",
          "2020-04-15",
          "2020-04-16",
          "2020-04-17",
          "2020-04-18",
          "2020-04-19",
          "2020-04-20",
          "2020-04-21",
          "2020-04-22",
          "2020-04-23",
          "2020-04-24",
          "2020-04-25",
          "2020-04-26",
          "2020-04-27",
          "2020-04-28",
          "2020-04-29",
          "2020-04-30",
          "2020-05-01",
          "2020-05-02",
          "2020-05-03",
          "2020-05-04",
          "2020-05-05",
          "2020-05-06",
          "2020-05-07",
          "2020-05-08",
          "2020-05-09",
          "2020-05-10",
          "2020-05-11",
          "2020-05-12",
          "2020-05-13",
          "2020-05-14",
          "2020-05-15",
          "2020-05-16",
          "2020-05-17",
          "2020-05-18",
          "2020-05-19",
          "2020-05-20",
          "2020-05-21",
          "2020-05-22",
          "2020-05-23",
          "2020-05-24",
          "2020-05-25",
          "2020-05-26",
          "2020-05-27",
          "2020-05-28",
          "2020-05-29",
          "2020-05-30",
          "2020-05-31",
          "2020-06-01",
          "2020-06-02",
          "2020-06-03",
          "2020-06-04",
          "2020-06-05",
          "2020-06-06",
          "2020-06-07",
          "2020-06-08",
          "2020-06-09",
          "2020-06-10",
          "2020-06-11",
          "2020-06-12",
          "2020-06-13",
          "2020-06-14",
          "2020-06-15",
          "2020-06-16",
          "2020-06-17",
          "2020-06-18",
          "2020-06-19",
          "2020-06-20",
          "2020-06-21",
          "2020-06-22",
          "2020-06-23",
          "2020-06-24",
          "2020-06-25",
          "2020-06-26",
          "2020-06-27",
          "2020-06-28",
          "2020-06-29",
          "2020-06-30",
          "2020-07-01",
          "2020-07-02",
          "2020-07-03",
          "2020-07-04",
          "2020-07-05",
          "2020-07-06",
          "2020-07-07",
          "2020-07-08",
          "2020-07-09",
          "2020-07-10",
          "2020-07-11",
          "2020-07-12",
          "2020-07-13",
          "2020-07-14",
          "2020-07-15",
          "2020-07-16",
          "2020-07-17",
          "2020-07-18",
          "2020-07-19",
          "2020-07-20",
          "2020-07-21",
          "2020-07-22",
          "2020-07-23",
          "2020-07-24",
          "2020-07-25",
          "2020-07-26",
          "2020-07-27"
         ],
         "xaxis": "x",
         "y": [
          555,
          654,
          941,
          1434,
          2118,
          2927,
          5578,
          6166,
          8234,
          9927,
          12038,
          16787,
          19887,
          23898,
          27643,
          30802,
          34334,
          37068,
          40095,
          42633,
          44675,
          46561,
          60206,
          66690,
          68765,
          70879,
          72815,
          74609,
          75030,
          75577,
          76206,
          77967,
          78290,
          78854,
          79707,
          80670,
          82034,
          83411,
          85306,
          87690,
          89664,
          92241,
          94540,
          97331,
          101274,
          105312,
          109266,
          113166,
          118190,
          125853,
          131603,
          146008,
          157114,
          168260,
          182919,
          198757,
          218343,
          246261,
          275869,
          308175,
          341585,
          383750,
          424889,
          475706,
          538666,
          603066,
          670723,
          730300,
          794939,
          871355,
          947569,
          1028968,
          1112123,
          1192586,
          1264304,
          1336976,
          1413849,
          1497624,
          1584249,
          1671907,
          1748872,
          1845653,
          1915247,
          1985174,
          2066003,
          2162715,
          2250439,
          2324396,
          2404919,
          2478258,
          2553508,
          2630314,
          2719327,
          2806267,
          2891199,
          2964146,
          3032850,
          3108149,
          3185195,
          3268876,
          3355922,
          3437608,
          3515244,
          3591321,
          3671310,
          3761332,
          3850418,
          3941935,
          4027781,
          4104027,
          4180268,
          4263867,
          4348619,
          4445724,
          4542073,
          4637485,
          4715994,
          4804278,
          4900702,
          5003730,
          5110064,
          5216964,
          5322253,
          5417579,
          5504542,
          5597064,
          5699664,
          5818978,
          5940145,
          6077978,
          6185530,
          6280725,
          6401536,
          6520924,
          6647861,
          6778724,
          6914666,
          7026925,
          7129150,
          7253492,
          7387517,
          7525631,
          7654725,
          7790735,
          7924156,
          8043794,
          8185197,
          8327050,
          8466978,
          8647784,
          8805336,
          8933875,
          9071733,
          9237071,
          9408254,
          9586141,
          9777487,
          9955597,
          10117227,
          10275799,
          10449697,
          10667386,
          10875091,
          11078585,
          11272152,
          11454847,
          11622190,
          11833034,
          12044836,
          12273063,
          12505640,
          12721968,
          12914636,
          13107415,
          13328867,
          13559984,
          13812525,
          14054563,
          14292198,
          14506845,
          14713623,
          14947078,
          15227725,
          15510481,
          15791645,
          16047190,
          16251796,
          16480485
         ],
         "yaxis": "y"
        },
        {
         "hovertemplate": "variable=Deaths<br>Date=%{x}<br>value=%{y}<extra></extra>",
         "legendgroup": "Deaths",
         "line": {
          "color": "#EF553B",
          "dash": "solid"
         },
         "marker": {
          "symbol": "circle"
         },
         "mode": "lines",
         "name": "Deaths",
         "orientation": "v",
         "showlegend": true,
         "type": "scatter",
         "x": [
          "2020-01-22",
          "2020-01-23",
          "2020-01-24",
          "2020-01-25",
          "2020-01-26",
          "2020-01-27",
          "2020-01-28",
          "2020-01-29",
          "2020-01-30",
          "2020-01-31",
          "2020-02-01",
          "2020-02-02",
          "2020-02-03",
          "2020-02-04",
          "2020-02-05",
          "2020-02-06",
          "2020-02-07",
          "2020-02-08",
          "2020-02-09",
          "2020-02-10",
          "2020-02-11",
          "2020-02-12",
          "2020-02-13",
          "2020-02-14",
          "2020-02-15",
          "2020-02-16",
          "2020-02-17",
          "2020-02-18",
          "2020-02-19",
          "2020-02-20",
          "2020-02-21",
          "2020-02-22",
          "2020-02-23",
          "2020-02-24",
          "2020-02-25",
          "2020-02-26",
          "2020-02-27",
          "2020-02-28",
          "2020-02-29",
          "2020-03-01",
          "2020-03-02",
          "2020-03-03",
          "2020-03-04",
          "2020-03-05",
          "2020-03-06",
          "2020-03-07",
          "2020-03-08",
          "2020-03-09",
          "2020-03-10",
          "2020-03-11",
          "2020-03-12",
          "2020-03-13",
          "2020-03-14",
          "2020-03-15",
          "2020-03-16",
          "2020-03-17",
          "2020-03-18",
          "2020-03-19",
          "2020-03-20",
          "2020-03-21",
          "2020-03-22",
          "2020-03-23",
          "2020-03-24",
          "2020-03-25",
          "2020-03-26",
          "2020-03-27",
          "2020-03-28",
          "2020-03-29",
          "2020-03-30",
          "2020-03-31",
          "2020-04-01",
          "2020-04-02",
          "2020-04-03",
          "2020-04-04",
          "2020-04-05",
          "2020-04-06",
          "2020-04-07",
          "2020-04-08",
          "2020-04-09",
          "2020-04-10",
          "2020-04-11",
          "2020-04-12",
          "2020-04-13",
          "2020-04-14",
          "2020-04-15",
          "2020-04-16",
          "2020-04-17",
          "2020-04-18",
          "2020-04-19",
          "2020-04-20",
          "2020-04-21",
          "2020-04-22",
          "2020-04-23",
          "2020-04-24",
          "2020-04-25",
          "2020-04-26",
          "2020-04-27",
          "2020-04-28",
          "2020-04-29",
          "2020-04-30",
          "2020-05-01",
          "2020-05-02",
          "2020-05-03",
          "2020-05-04",
          "2020-05-05",
          "2020-05-06",
          "2020-05-07",
          "2020-05-08",
          "2020-05-09",
          "2020-05-10",
          "2020-05-11",
          "2020-05-12",
          "2020-05-13",
          "2020-05-14",
          "2020-05-15",
          "2020-05-16",
          "2020-05-17",
          "2020-05-18",
          "2020-05-19",
          "2020-05-20",
          "2020-05-21",
          "2020-05-22",
          "2020-05-23",
          "2020-05-24",
          "2020-05-25",
          "2020-05-26",
          "2020-05-27",
          "2020-05-28",
          "2020-05-29",
          "2020-05-30",
          "2020-05-31",
          "2020-06-01",
          "2020-06-02",
          "2020-06-03",
          "2020-06-04",
          "2020-06-05",
          "2020-06-06",
          "2020-06-07",
          "2020-06-08",
          "2020-06-09",
          "2020-06-10",
          "2020-06-11",
          "2020-06-12",
          "2020-06-13",
          "2020-06-14",
          "2020-06-15",
          "2020-06-16",
          "2020-06-17",
          "2020-06-18",
          "2020-06-19",
          "2020-06-20",
          "2020-06-21",
          "2020-06-22",
          "2020-06-23",
          "2020-06-24",
          "2020-06-25",
          "2020-06-26",
          "2020-06-27",
          "2020-06-28",
          "2020-06-29",
          "2020-06-30",
          "2020-07-01",
          "2020-07-02",
          "2020-07-03",
          "2020-07-04",
          "2020-07-05",
          "2020-07-06",
          "2020-07-07",
          "2020-07-08",
          "2020-07-09",
          "2020-07-10",
          "2020-07-11",
          "2020-07-12",
          "2020-07-13",
          "2020-07-14",
          "2020-07-15",
          "2020-07-16",
          "2020-07-17",
          "2020-07-18",
          "2020-07-19",
          "2020-07-20",
          "2020-07-21",
          "2020-07-22",
          "2020-07-23",
          "2020-07-24",
          "2020-07-25",
          "2020-07-26",
          "2020-07-27"
         ],
         "xaxis": "x",
         "y": [
          17,
          18,
          26,
          42,
          56,
          82,
          131,
          133,
          171,
          213,
          259,
          362,
          426,
          492,
          564,
          634,
          719,
          806,
          906,
          1013,
          1113,
          1118,
          1371,
          1523,
          1666,
          1770,
          1868,
          2008,
          2123,
          2246,
          2250,
          2457,
          2467,
          2627,
          2707,
          2767,
          2810,
          2867,
          2936,
          2990,
          3079,
          3154,
          3249,
          3342,
          3454,
          3553,
          3797,
          3981,
          4260,
          4604,
          4909,
          5406,
          5823,
          6464,
          7144,
          7948,
          8845,
          9951,
          11429,
          13134,
          14831,
          16748,
          19016,
          21793,
          24800,
          28318,
          31997,
          35470,
          39634,
          44478,
          50029,
          56334,
          62319,
          68160,
          73181,
          79013,
          86915,
          93650,
          101279,
          108551,
          114620,
          120351,
          126098,
          132996,
          141308,
          148591,
          157481,
          163952,
          168522,
          173965,
          181122,
          187877,
          194727,
          201401,
          206979,
          210862,
          215511,
          221974,
          228742,
          234704,
          239881,
          245206,
          248659,
          252787,
          258658,
          265327,
          270736,
          276304,
          280569,
          284135,
          287608,
          293155,
          298383,
          303651,
          308866,
          313037,
          316366,
          319657,
          324441,
          329326,
          334112,
          339396,
          343385,
          346525,
          347703,
          351906,
          357119,
          361820,
          366562,
          370718,
          373606,
          376674,
          381497,
          387069,
          392218,
          396994,
          400875,
          403617,
          407314,
          412236,
          417441,
          422215,
          426512,
          430750,
          434124,
          437549,
          444416,
          449671,
          454700,
          460973,
          465222,
          469185,
          472756,
          478067,
          483328,
          489955,
          494782,
          499268,
          502357,
          506078,
          511210,
          516221,
          521341,
          526336,
          530705,
          534150,
          537947,
          544054,
          549373,
          554831,
          560142,
          565039,
          568993,
          572808,
          578468,
          583961,
          589760,
          596503,
          602130,
          606159,
          610319,
          616557,
          623540,
          633506,
          639650,
          644517,
          648621,
          654036
         ],
         "yaxis": "y"
        },
        {
         "hovertemplate": "variable=Recovered<br>Date=%{x}<br>value=%{y}<extra></extra>",
         "legendgroup": "Recovered",
         "line": {
          "color": "#00cc96",
          "dash": "solid"
         },
         "marker": {
          "symbol": "circle"
         },
         "mode": "lines",
         "name": "Recovered",
         "orientation": "v",
         "showlegend": true,
         "type": "scatter",
         "x": [
          "2020-01-22",
          "2020-01-23",
          "2020-01-24",
          "2020-01-25",
          "2020-01-26",
          "2020-01-27",
          "2020-01-28",
          "2020-01-29",
          "2020-01-30",
          "2020-01-31",
          "2020-02-01",
          "2020-02-02",
          "2020-02-03",
          "2020-02-04",
          "2020-02-05",
          "2020-02-06",
          "2020-02-07",
          "2020-02-08",
          "2020-02-09",
          "2020-02-10",
          "2020-02-11",
          "2020-02-12",
          "2020-02-13",
          "2020-02-14",
          "2020-02-15",
          "2020-02-16",
          "2020-02-17",
          "2020-02-18",
          "2020-02-19",
          "2020-02-20",
          "2020-02-21",
          "2020-02-22",
          "2020-02-23",
          "2020-02-24",
          "2020-02-25",
          "2020-02-26",
          "2020-02-27",
          "2020-02-28",
          "2020-02-29",
          "2020-03-01",
          "2020-03-02",
          "2020-03-03",
          "2020-03-04",
          "2020-03-05",
          "2020-03-06",
          "2020-03-07",
          "2020-03-08",
          "2020-03-09",
          "2020-03-10",
          "2020-03-11",
          "2020-03-12",
          "2020-03-13",
          "2020-03-14",
          "2020-03-15",
          "2020-03-16",
          "2020-03-17",
          "2020-03-18",
          "2020-03-19",
          "2020-03-20",
          "2020-03-21",
          "2020-03-22",
          "2020-03-23",
          "2020-03-24",
          "2020-03-25",
          "2020-03-26",
          "2020-03-27",
          "2020-03-28",
          "2020-03-29",
          "2020-03-30",
          "2020-03-31",
          "2020-04-01",
          "2020-04-02",
          "2020-04-03",
          "2020-04-04",
          "2020-04-05",
          "2020-04-06",
          "2020-04-07",
          "2020-04-08",
          "2020-04-09",
          "2020-04-10",
          "2020-04-11",
          "2020-04-12",
          "2020-04-13",
          "2020-04-14",
          "2020-04-15",
          "2020-04-16",
          "2020-04-17",
          "2020-04-18",
          "2020-04-19",
          "2020-04-20",
          "2020-04-21",
          "2020-04-22",
          "2020-04-23",
          "2020-04-24",
          "2020-04-25",
          "2020-04-26",
          "2020-04-27",
          "2020-04-28",
          "2020-04-29",
          "2020-04-30",
          "2020-05-01",
          "2020-05-02",
          "2020-05-03",
          "2020-05-04",
          "2020-05-05",
          "2020-05-06",
          "2020-05-07",
          "2020-05-08",
          "2020-05-09",
          "2020-05-10",
          "2020-05-11",
          "2020-05-12",
          "2020-05-13",
          "2020-05-14",
          "2020-05-15",
          "2020-05-16",
          "2020-05-17",
          "2020-05-18",
          "2020-05-19",
          "2020-05-20",
          "2020-05-21",
          "2020-05-22",
          "2020-05-23",
          "2020-05-24",
          "2020-05-25",
          "2020-05-26",
          "2020-05-27",
          "2020-05-28",
          "2020-05-29",
          "2020-05-30",
          "2020-05-31",
          "2020-06-01",
          "2020-06-02",
          "2020-06-03",
          "2020-06-04",
          "2020-06-05",
          "2020-06-06",
          "2020-06-07",
          "2020-06-08",
          "2020-06-09",
          "2020-06-10",
          "2020-06-11",
          "2020-06-12",
          "2020-06-13",
          "2020-06-14",
          "2020-06-15",
          "2020-06-16",
          "2020-06-17",
          "2020-06-18",
          "2020-06-19",
          "2020-06-20",
          "2020-06-21",
          "2020-06-22",
          "2020-06-23",
          "2020-06-24",
          "2020-06-25",
          "2020-06-26",
          "2020-06-27",
          "2020-06-28",
          "2020-06-29",
          "2020-06-30",
          "2020-07-01",
          "2020-07-02",
          "2020-07-03",
          "2020-07-04",
          "2020-07-05",
          "2020-07-06",
          "2020-07-07",
          "2020-07-08",
          "2020-07-09",
          "2020-07-10",
          "2020-07-11",
          "2020-07-12",
          "2020-07-13",
          "2020-07-14",
          "2020-07-15",
          "2020-07-16",
          "2020-07-17",
          "2020-07-18",
          "2020-07-19",
          "2020-07-20",
          "2020-07-21",
          "2020-07-22",
          "2020-07-23",
          "2020-07-24",
          "2020-07-25",
          "2020-07-26",
          "2020-07-27"
         ],
         "xaxis": "x",
         "y": [
          28,
          30,
          36,
          39,
          52,
          61,
          107,
          125,
          141,
          219,
          281,
          459,
          604,
          821,
          1071,
          1418,
          1903,
          2470,
          3057,
          3714,
          4417,
          4849,
          5930,
          7613,
          8902,
          10319,
          11951,
          13693,
          15394,
          17369,
          17966,
          21849,
          22304,
          24047,
          26652,
          29077,
          31919,
          35306,
          38314,
          41208,
          44085,
          46681,
          49619,
          52237,
          54270,
          56760,
          59092,
          60891,
          62802,
          65113,
          66434,
          68359,
          70729,
          74139,
          76192,
          78944,
          81427,
          83064,
          85509,
          89775,
          95990,
          96456,
          105997,
          111445,
          119804,
          128508,
          136800,
          146261,
          161707,
          174074,
          189434,
          206052,
          221060,
          241072,
          254477,
          270812,
          293665,
          322017,
          346349,
          367477,
          392991,
          411864,
          438395,
          463014,
          498925,
          529015,
          554287,
          577789,
          608557,
          629862,
          664043,
          693207,
          721689,
          771329,
          798239,
          825969,
          852382,
          884680,
          925752,
          989616,
          1026501,
          1066362,
          1097577,
          1130526,
          1166155,
          1210894,
          1249311,
          1284849,
          1337367,
          1370108,
          1416204,
          1452191,
          1506905,
          1545712,
          1592880,
          1648546,
          1688699,
          1740909,
          1792256,
          1850441,
          1900768,
          2008541,
          2062802,
          2117555,
          2180605,
          2235118,
          2297613,
          2363746,
          2440127,
          2509981,
          2585589,
          2639599,
          2743083,
          2821430,
          2890776,
          2959037,
          3030214,
          3084718,
          3235640,
          3317121,
          3395154,
          3480121,
          3558933,
          3644048,
          3714006,
          3793406,
          3890800,
          4008201,
          4088826,
          4183298,
          4298603,
          4366875,
          4458093,
          4561696,
          4677005,
          4769458,
          4875774,
          4981808,
          5070592,
          5164494,
          5281459,
          5397083,
          5681477,
          5790942,
          5986375,
          6105546,
          6228768,
          6373513,
          6531016,
          6665237,
          6804254,
          6929711,
          7041174,
          7181139,
          7322897,
          7482320,
          7634241,
          7793760,
          7944550,
          8032235,
          8190777,
          8364986,
          8541255,
          8710969,
          8939705,
          9158743,
          9293464,
          9468087
         ],
         "yaxis": "y"
        },
        {
         "hovertemplate": "variable=Active<br>Date=%{x}<br>value=%{y}<extra></extra>",
         "legendgroup": "Active",
         "line": {
          "color": "#ab63fa",
          "dash": "solid"
         },
         "marker": {
          "symbol": "circle"
         },
         "mode": "lines",
         "name": "Active",
         "orientation": "v",
         "showlegend": true,
         "type": "scatter",
         "x": [
          "2020-01-22",
          "2020-01-23",
          "2020-01-24",
          "2020-01-25",
          "2020-01-26",
          "2020-01-27",
          "2020-01-28",
          "2020-01-29",
          "2020-01-30",
          "2020-01-31",
          "2020-02-01",
          "2020-02-02",
          "2020-02-03",
          "2020-02-04",
          "2020-02-05",
          "2020-02-06",
          "2020-02-07",
          "2020-02-08",
          "2020-02-09",
          "2020-02-10",
          "2020-02-11",
          "2020-02-12",
          "2020-02-13",
          "2020-02-14",
          "2020-02-15",
          "2020-02-16",
          "2020-02-17",
          "2020-02-18",
          "2020-02-19",
          "2020-02-20",
          "2020-02-21",
          "2020-02-22",
          "2020-02-23",
          "2020-02-24",
          "2020-02-25",
          "2020-02-26",
          "2020-02-27",
          "2020-02-28",
          "2020-02-29",
          "2020-03-01",
          "2020-03-02",
          "2020-03-03",
          "2020-03-04",
          "2020-03-05",
          "2020-03-06",
          "2020-03-07",
          "2020-03-08",
          "2020-03-09",
          "2020-03-10",
          "2020-03-11",
          "2020-03-12",
          "2020-03-13",
          "2020-03-14",
          "2020-03-15",
          "2020-03-16",
          "2020-03-17",
          "2020-03-18",
          "2020-03-19",
          "2020-03-20",
          "2020-03-21",
          "2020-03-22",
          "2020-03-23",
          "2020-03-24",
          "2020-03-25",
          "2020-03-26",
          "2020-03-27",
          "2020-03-28",
          "2020-03-29",
          "2020-03-30",
          "2020-03-31",
          "2020-04-01",
          "2020-04-02",
          "2020-04-03",
          "2020-04-04",
          "2020-04-05",
          "2020-04-06",
          "2020-04-07",
          "2020-04-08",
          "2020-04-09",
          "2020-04-10",
          "2020-04-11",
          "2020-04-12",
          "2020-04-13",
          "2020-04-14",
          "2020-04-15",
          "2020-04-16",
          "2020-04-17",
          "2020-04-18",
          "2020-04-19",
          "2020-04-20",
          "2020-04-21",
          "2020-04-22",
          "2020-04-23",
          "2020-04-24",
          "2020-04-25",
          "2020-04-26",
          "2020-04-27",
          "2020-04-28",
          "2020-04-29",
          "2020-04-30",
          "2020-05-01",
          "2020-05-02",
          "2020-05-03",
          "2020-05-04",
          "2020-05-05",
          "2020-05-06",
          "2020-05-07",
          "2020-05-08",
          "2020-05-09",
          "2020-05-10",
          "2020-05-11",
          "2020-05-12",
          "2020-05-13",
          "2020-05-14",
          "2020-05-15",
          "2020-05-16",
          "2020-05-17",
          "2020-05-18",
          "2020-05-19",
          "2020-05-20",
          "2020-05-21",
          "2020-05-22",
          "2020-05-23",
          "2020-05-24",
          "2020-05-25",
          "2020-05-26",
          "2020-05-27",
          "2020-05-28",
          "2020-05-29",
          "2020-05-30",
          "2020-05-31",
          "2020-06-01",
          "2020-06-02",
          "2020-06-03",
          "2020-06-04",
          "2020-06-05",
          "2020-06-06",
          "2020-06-07",
          "2020-06-08",
          "2020-06-09",
          "2020-06-10",
          "2020-06-11",
          "2020-06-12",
          "2020-06-13",
          "2020-06-14",
          "2020-06-15",
          "2020-06-16",
          "2020-06-17",
          "2020-06-18",
          "2020-06-19",
          "2020-06-20",
          "2020-06-21",
          "2020-06-22",
          "2020-06-23",
          "2020-06-24",
          "2020-06-25",
          "2020-06-26",
          "2020-06-27",
          "2020-06-28",
          "2020-06-29",
          "2020-06-30",
          "2020-07-01",
          "2020-07-02",
          "2020-07-03",
          "2020-07-04",
          "2020-07-05",
          "2020-07-06",
          "2020-07-07",
          "2020-07-08",
          "2020-07-09",
          "2020-07-10",
          "2020-07-11",
          "2020-07-12",
          "2020-07-13",
          "2020-07-14",
          "2020-07-15",
          "2020-07-16",
          "2020-07-17",
          "2020-07-18",
          "2020-07-19",
          "2020-07-20",
          "2020-07-21",
          "2020-07-22",
          "2020-07-23",
          "2020-07-24",
          "2020-07-25",
          "2020-07-26",
          "2020-07-27"
         ],
         "xaxis": "x",
         "y": [
          510,
          606,
          879,
          1353,
          2010,
          2784,
          5340,
          5908,
          7922,
          9495,
          11498,
          15966,
          18857,
          22585,
          26008,
          28750,
          31712,
          33792,
          36132,
          37906,
          39145,
          40594,
          52905,
          57554,
          58197,
          58790,
          58996,
          58908,
          57513,
          55962,
          55990,
          53661,
          53519,
          52180,
          50348,
          48826,
          47305,
          45238,
          44056,
          43492,
          42500,
          42406,
          41672,
          41752,
          43550,
          44999,
          46377,
          48294,
          51128,
          56136,
          60260,
          72243,
          80562,
          87657,
          99583,
          111865,
          128071,
          153246,
          178931,
          205266,
          230764,
          270546,
          299876,
          342468,
          394062,
          446240,
          501926,
          548569,
          593598,
          652803,
          708106,
          766582,
          828744,
          883354,
          936646,
          987151,
          1033269,
          1081957,
          1136621,
          1195879,
          1241261,
          1313438,
          1350754,
          1389164,
          1425770,
          1485109,
          1538671,
          1582655,
          1627840,
          1674431,
          1708343,
          1749230,
          1802911,
          1833537,
          1885981,
          1927315,
          1964957,
          2001495,
          2030701,
          2044556,
          2089540,
          2126040,
          2169008,
          2208008,
          2246497,
          2285111,
          2330371,
          2380782,
          2409845,
          2449784,
          2476456,
          2518521,
          2543331,
          2596361,
          2640327,
          2675902,
          2710929,
          2743712,
          2784005,
          2823963,
          2875184,
          2869027,
          2916066,
          2953499,
          2976234,
          3010040,
          3044932,
          3093412,
          3133456,
          3197279,
          3226335,
          3264452,
          3276956,
          3312425,
          3364867,
          3422693,
          3483577,
          3538590,
          3486196,
          3524135,
          3574922,
          3623295,
          3669280,
          3715937,
          3776026,
          3812839,
          3849981,
          3869178,
          3923452,
          4003513,
          4041511,
          4097815,
          4140884,
          4197308,
          4247921,
          4326728,
          4406931,
          4474521,
          4544278,
          4605227,
          4657028,
          4754082,
          4672273,
          4761307,
          4755072,
          4815151,
          4855475,
          4915467,
          4964447,
          5052995,
          5141244,
          5227218,
          5304469,
          5353468,
          5427502,
          5493703,
          5588524,
          5664300,
          5745518,
          5868451,
          5912527,
          5965535,
          6062930,
          6166006,
          6212290,
          6243930,
          6309711,
          6358362
         ],
         "yaxis": "y"
        }
       ],
       "layout": {
        "legend": {
         "title": {
          "text": "variable"
         },
         "tracegroupgap": 0
        },
        "template": {
         "data": {
          "bar": [
           {
            "error_x": {
             "color": "#f2f5fa"
            },
            "error_y": {
             "color": "#f2f5fa"
            },
            "marker": {
             "line": {
              "color": "rgb(17,17,17)",
              "width": 0.5
             },
             "pattern": {
              "fillmode": "overlay",
              "size": 10,
              "solidity": 0.2
             }
            },
            "type": "bar"
           }
          ],
          "barpolar": [
           {
            "marker": {
             "line": {
              "color": "rgb(17,17,17)",
              "width": 0.5
             },
             "pattern": {
              "fillmode": "overlay",
              "size": 10,
              "solidity": 0.2
             }
            },
            "type": "barpolar"
           }
          ],
          "carpet": [
           {
            "aaxis": {
             "endlinecolor": "#A2B1C6",
             "gridcolor": "#506784",
             "linecolor": "#506784",
             "minorgridcolor": "#506784",
             "startlinecolor": "#A2B1C6"
            },
            "baxis": {
             "endlinecolor": "#A2B1C6",
             "gridcolor": "#506784",
             "linecolor": "#506784",
             "minorgridcolor": "#506784",
             "startlinecolor": "#A2B1C6"
            },
            "type": "carpet"
           }
          ],
          "choropleth": [
           {
            "colorbar": {
             "outlinewidth": 0,
             "ticks": ""
            },
            "type": "choropleth"
           }
          ],
          "contour": [
           {
            "colorbar": {
             "outlinewidth": 0,
             "ticks": ""
            },
            "colorscale": [
             [
              0,
              "#0d0887"
             ],
             [
              0.1111111111111111,
              "#46039f"
             ],
             [
              0.2222222222222222,
              "#7201a8"
             ],
             [
              0.3333333333333333,
              "#9c179e"
             ],
             [
              0.4444444444444444,
              "#bd3786"
             ],
             [
              0.5555555555555556,
              "#d8576b"
             ],
             [
              0.6666666666666666,
              "#ed7953"
             ],
             [
              0.7777777777777778,
              "#fb9f3a"
             ],
             [
              0.8888888888888888,
              "#fdca26"
             ],
             [
              1,
              "#f0f921"
             ]
            ],
            "type": "contour"
           }
          ],
          "contourcarpet": [
           {
            "colorbar": {
             "outlinewidth": 0,
             "ticks": ""
            },
            "type": "contourcarpet"
           }
          ],
          "heatmap": [
           {
            "colorbar": {
             "outlinewidth": 0,
             "ticks": ""
            },
            "colorscale": [
             [
              0,
              "#0d0887"
             ],
             [
              0.1111111111111111,
              "#46039f"
             ],
             [
              0.2222222222222222,
              "#7201a8"
             ],
             [
              0.3333333333333333,
              "#9c179e"
             ],
             [
              0.4444444444444444,
              "#bd3786"
             ],
             [
              0.5555555555555556,
              "#d8576b"
             ],
             [
              0.6666666666666666,
              "#ed7953"
             ],
             [
              0.7777777777777778,
              "#fb9f3a"
             ],
             [
              0.8888888888888888,
              "#fdca26"
             ],
             [
              1,
              "#f0f921"
             ]
            ],
            "type": "heatmap"
           }
          ],
          "heatmapgl": [
           {
            "colorbar": {
             "outlinewidth": 0,
             "ticks": ""
            },
            "colorscale": [
             [
              0,
              "#0d0887"
             ],
             [
              0.1111111111111111,
              "#46039f"
             ],
             [
              0.2222222222222222,
              "#7201a8"
             ],
             [
              0.3333333333333333,
              "#9c179e"
             ],
             [
              0.4444444444444444,
              "#bd3786"
             ],
             [
              0.5555555555555556,
              "#d8576b"
             ],
             [
              0.6666666666666666,
              "#ed7953"
             ],
             [
              0.7777777777777778,
              "#fb9f3a"
             ],
             [
              0.8888888888888888,
              "#fdca26"
             ],
             [
              1,
              "#f0f921"
             ]
            ],
            "type": "heatmapgl"
           }
          ],
          "histogram": [
           {
            "marker": {
             "pattern": {
              "fillmode": "overlay",
              "size": 10,
              "solidity": 0.2
             }
            },
            "type": "histogram"
           }
          ],
          "histogram2d": [
           {
            "colorbar": {
             "outlinewidth": 0,
             "ticks": ""
            },
            "colorscale": [
             [
              0,
              "#0d0887"
             ],
             [
              0.1111111111111111,
              "#46039f"
             ],
             [
              0.2222222222222222,
              "#7201a8"
             ],
             [
              0.3333333333333333,
              "#9c179e"
             ],
             [
              0.4444444444444444,
              "#bd3786"
             ],
             [
              0.5555555555555556,
              "#d8576b"
             ],
             [
              0.6666666666666666,
              "#ed7953"
             ],
             [
              0.7777777777777778,
              "#fb9f3a"
             ],
             [
              0.8888888888888888,
              "#fdca26"
             ],
             [
              1,
              "#f0f921"
             ]
            ],
            "type": "histogram2d"
           }
          ],
          "histogram2dcontour": [
           {
            "colorbar": {
             "outlinewidth": 0,
             "ticks": ""
            },
            "colorscale": [
             [
              0,
              "#0d0887"
             ],
             [
              0.1111111111111111,
              "#46039f"
             ],
             [
              0.2222222222222222,
              "#7201a8"
             ],
             [
              0.3333333333333333,
              "#9c179e"
             ],
             [
              0.4444444444444444,
              "#bd3786"
             ],
             [
              0.5555555555555556,
              "#d8576b"
             ],
             [
              0.6666666666666666,
              "#ed7953"
             ],
             [
              0.7777777777777778,
              "#fb9f3a"
             ],
             [
              0.8888888888888888,
              "#fdca26"
             ],
             [
              1,
              "#f0f921"
             ]
            ],
            "type": "histogram2dcontour"
           }
          ],
          "mesh3d": [
           {
            "colorbar": {
             "outlinewidth": 0,
             "ticks": ""
            },
            "type": "mesh3d"
           }
          ],
          "parcoords": [
           {
            "line": {
             "colorbar": {
              "outlinewidth": 0,
              "ticks": ""
             }
            },
            "type": "parcoords"
           }
          ],
          "pie": [
           {
            "automargin": true,
            "type": "pie"
           }
          ],
          "scatter": [
           {
            "marker": {
             "line": {
              "color": "#283442"
             }
            },
            "type": "scatter"
           }
          ],
          "scatter3d": [
           {
            "line": {
             "colorbar": {
              "outlinewidth": 0,
              "ticks": ""
             }
            },
            "marker": {
             "colorbar": {
              "outlinewidth": 0,
              "ticks": ""
             }
            },
            "type": "scatter3d"
           }
          ],
          "scattercarpet": [
           {
            "marker": {
             "colorbar": {
              "outlinewidth": 0,
              "ticks": ""
             }
            },
            "type": "scattercarpet"
           }
          ],
          "scattergeo": [
           {
            "marker": {
             "colorbar": {
              "outlinewidth": 0,
              "ticks": ""
             }
            },
            "type": "scattergeo"
           }
          ],
          "scattergl": [
           {
            "marker": {
             "line": {
              "color": "#283442"
             }
            },
            "type": "scattergl"
           }
          ],
          "scattermapbox": [
           {
            "marker": {
             "colorbar": {
              "outlinewidth": 0,
              "ticks": ""
             }
            },
            "type": "scattermapbox"
           }
          ],
          "scatterpolar": [
           {
            "marker": {
             "colorbar": {
              "outlinewidth": 0,
              "ticks": ""
             }
            },
            "type": "scatterpolar"
           }
          ],
          "scatterpolargl": [
           {
            "marker": {
             "colorbar": {
              "outlinewidth": 0,
              "ticks": ""
             }
            },
            "type": "scatterpolargl"
           }
          ],
          "scatterternary": [
           {
            "marker": {
             "colorbar": {
              "outlinewidth": 0,
              "ticks": ""
             }
            },
            "type": "scatterternary"
           }
          ],
          "surface": [
           {
            "colorbar": {
             "outlinewidth": 0,
             "ticks": ""
            },
            "colorscale": [
             [
              0,
              "#0d0887"
             ],
             [
              0.1111111111111111,
              "#46039f"
             ],
             [
              0.2222222222222222,
              "#7201a8"
             ],
             [
              0.3333333333333333,
              "#9c179e"
             ],
             [
              0.4444444444444444,
              "#bd3786"
             ],
             [
              0.5555555555555556,
              "#d8576b"
             ],
             [
              0.6666666666666666,
              "#ed7953"
             ],
             [
              0.7777777777777778,
              "#fb9f3a"
             ],
             [
              0.8888888888888888,
              "#fdca26"
             ],
             [
              1,
              "#f0f921"
             ]
            ],
            "type": "surface"
           }
          ],
          "table": [
           {
            "cells": {
             "fill": {
              "color": "#506784"
             },
             "line": {
              "color": "rgb(17,17,17)"
             }
            },
            "header": {
             "fill": {
              "color": "#2a3f5f"
             },
             "line": {
              "color": "rgb(17,17,17)"
             }
            },
            "type": "table"
           }
          ]
         },
         "layout": {
          "annotationdefaults": {
           "arrowcolor": "#f2f5fa",
           "arrowhead": 0,
           "arrowwidth": 1
          },
          "autotypenumbers": "strict",
          "coloraxis": {
           "colorbar": {
            "outlinewidth": 0,
            "ticks": ""
           }
          },
          "colorscale": {
           "diverging": [
            [
             0,
             "#8e0152"
            ],
            [
             0.1,
             "#c51b7d"
            ],
            [
             0.2,
             "#de77ae"
            ],
            [
             0.3,
             "#f1b6da"
            ],
            [
             0.4,
             "#fde0ef"
            ],
            [
             0.5,
             "#f7f7f7"
            ],
            [
             0.6,
             "#e6f5d0"
            ],
            [
             0.7,
             "#b8e186"
            ],
            [
             0.8,
             "#7fbc41"
            ],
            [
             0.9,
             "#4d9221"
            ],
            [
             1,
             "#276419"
            ]
           ],
           "sequential": [
            [
             0,
             "#0d0887"
            ],
            [
             0.1111111111111111,
             "#46039f"
            ],
            [
             0.2222222222222222,
             "#7201a8"
            ],
            [
             0.3333333333333333,
             "#9c179e"
            ],
            [
             0.4444444444444444,
             "#bd3786"
            ],
            [
             0.5555555555555556,
             "#d8576b"
            ],
            [
             0.6666666666666666,
             "#ed7953"
            ],
            [
             0.7777777777777778,
             "#fb9f3a"
            ],
            [
             0.8888888888888888,
             "#fdca26"
            ],
            [
             1,
             "#f0f921"
            ]
           ],
           "sequentialminus": [
            [
             0,
             "#0d0887"
            ],
            [
             0.1111111111111111,
             "#46039f"
            ],
            [
             0.2222222222222222,
             "#7201a8"
            ],
            [
             0.3333333333333333,
             "#9c179e"
            ],
            [
             0.4444444444444444,
             "#bd3786"
            ],
            [
             0.5555555555555556,
             "#d8576b"
            ],
            [
             0.6666666666666666,
             "#ed7953"
            ],
            [
             0.7777777777777778,
             "#fb9f3a"
            ],
            [
             0.8888888888888888,
             "#fdca26"
            ],
            [
             1,
             "#f0f921"
            ]
           ]
          },
          "colorway": [
           "#636efa",
           "#EF553B",
           "#00cc96",
           "#ab63fa",
           "#FFA15A",
           "#19d3f3",
           "#FF6692",
           "#B6E880",
           "#FF97FF",
           "#FECB52"
          ],
          "font": {
           "color": "#f2f5fa"
          },
          "geo": {
           "bgcolor": "rgb(17,17,17)",
           "lakecolor": "rgb(17,17,17)",
           "landcolor": "rgb(17,17,17)",
           "showlakes": true,
           "showland": true,
           "subunitcolor": "#506784"
          },
          "hoverlabel": {
           "align": "left"
          },
          "hovermode": "closest",
          "mapbox": {
           "style": "dark"
          },
          "paper_bgcolor": "rgb(17,17,17)",
          "plot_bgcolor": "rgb(17,17,17)",
          "polar": {
           "angularaxis": {
            "gridcolor": "#506784",
            "linecolor": "#506784",
            "ticks": ""
           },
           "bgcolor": "rgb(17,17,17)",
           "radialaxis": {
            "gridcolor": "#506784",
            "linecolor": "#506784",
            "ticks": ""
           }
          },
          "scene": {
           "xaxis": {
            "backgroundcolor": "rgb(17,17,17)",
            "gridcolor": "#506784",
            "gridwidth": 2,
            "linecolor": "#506784",
            "showbackground": true,
            "ticks": "",
            "zerolinecolor": "#C8D4E3"
           },
           "yaxis": {
            "backgroundcolor": "rgb(17,17,17)",
            "gridcolor": "#506784",
            "gridwidth": 2,
            "linecolor": "#506784",
            "showbackground": true,
            "ticks": "",
            "zerolinecolor": "#C8D4E3"
           },
           "zaxis": {
            "backgroundcolor": "rgb(17,17,17)",
            "gridcolor": "#506784",
            "gridwidth": 2,
            "linecolor": "#506784",
            "showbackground": true,
            "ticks": "",
            "zerolinecolor": "#C8D4E3"
           }
          },
          "shapedefaults": {
           "line": {
            "color": "#f2f5fa"
           }
          },
          "sliderdefaults": {
           "bgcolor": "#C8D4E3",
           "bordercolor": "rgb(17,17,17)",
           "borderwidth": 1,
           "tickwidth": 0
          },
          "ternary": {
           "aaxis": {
            "gridcolor": "#506784",
            "linecolor": "#506784",
            "ticks": ""
           },
           "baxis": {
            "gridcolor": "#506784",
            "linecolor": "#506784",
            "ticks": ""
           },
           "bgcolor": "rgb(17,17,17)",
           "caxis": {
            "gridcolor": "#506784",
            "linecolor": "#506784",
            "ticks": ""
           }
          },
          "title": {
           "x": 0.05
          },
          "updatemenudefaults": {
           "bgcolor": "#506784",
           "borderwidth": 0
          },
          "xaxis": {
           "automargin": true,
           "gridcolor": "#283442",
           "linecolor": "#506784",
           "ticks": "",
           "title": {
            "standoff": 15
           },
           "zerolinecolor": "#283442",
           "zerolinewidth": 2
          },
          "yaxis": {
           "automargin": true,
           "gridcolor": "#283442",
           "linecolor": "#506784",
           "ticks": "",
           "title": {
            "standoff": 15
           },
           "zerolinecolor": "#283442",
           "zerolinewidth": 2
          }
         }
        },
        "title": {
         "text": "Covid caes wrt to date"
        },
        "xaxis": {
         "anchor": "y",
         "domain": [
          0,
          1
         ],
         "title": {
          "text": "Date"
         }
        },
        "yaxis": {
         "anchor": "x",
         "domain": [
          0,
          1
         ],
         "title": {
          "text": "value"
         }
        }
       }
      },
      "text/html": [
       "<div>                        <script type=\"text/javascript\">window.PlotlyConfig = {MathJaxConfig: 'local'};</script>\n",
       "        <script charset=\"utf-8\" src=\"https://cdn.plot.ly/plotly-2.35.2.min.js\"></script>                <div id=\"cec1685f-20c0-472b-95ce-a12eea380717\" class=\"plotly-graph-div\" style=\"height:100%; width:100%;\"></div>            <script type=\"text/javascript\">                                    window.PLOTLYENV=window.PLOTLYENV || {};                                    if (document.getElementById(\"cec1685f-20c0-472b-95ce-a12eea380717\")) {                    Plotly.newPlot(                        \"cec1685f-20c0-472b-95ce-a12eea380717\",                        [{\"hovertemplate\":\"variable=Confirmed\\u003cbr\\u003eDate=%{x}\\u003cbr\\u003evalue=%{y}\\u003cextra\\u003e\\u003c\\u002fextra\\u003e\",\"legendgroup\":\"Confirmed\",\"line\":{\"color\":\"#636efa\",\"dash\":\"solid\"},\"marker\":{\"symbol\":\"circle\"},\"mode\":\"lines\",\"name\":\"Confirmed\",\"orientation\":\"v\",\"showlegend\":true,\"x\":[\"2020-01-22\",\"2020-01-23\",\"2020-01-24\",\"2020-01-25\",\"2020-01-26\",\"2020-01-27\",\"2020-01-28\",\"2020-01-29\",\"2020-01-30\",\"2020-01-31\",\"2020-02-01\",\"2020-02-02\",\"2020-02-03\",\"2020-02-04\",\"2020-02-05\",\"2020-02-06\",\"2020-02-07\",\"2020-02-08\",\"2020-02-09\",\"2020-02-10\",\"2020-02-11\",\"2020-02-12\",\"2020-02-13\",\"2020-02-14\",\"2020-02-15\",\"2020-02-16\",\"2020-02-17\",\"2020-02-18\",\"2020-02-19\",\"2020-02-20\",\"2020-02-21\",\"2020-02-22\",\"2020-02-23\",\"2020-02-24\",\"2020-02-25\",\"2020-02-26\",\"2020-02-27\",\"2020-02-28\",\"2020-02-29\",\"2020-03-01\",\"2020-03-02\",\"2020-03-03\",\"2020-03-04\",\"2020-03-05\",\"2020-03-06\",\"2020-03-07\",\"2020-03-08\",\"2020-03-09\",\"2020-03-10\",\"2020-03-11\",\"2020-03-12\",\"2020-03-13\",\"2020-03-14\",\"2020-03-15\",\"2020-03-16\",\"2020-03-17\",\"2020-03-18\",\"2020-03-19\",\"2020-03-20\",\"2020-03-21\",\"2020-03-22\",\"2020-03-23\",\"2020-03-24\",\"2020-03-25\",\"2020-03-26\",\"2020-03-27\",\"2020-03-28\",\"2020-03-29\",\"2020-03-30\",\"2020-03-31\",\"2020-04-01\",\"2020-04-02\",\"2020-04-03\",\"2020-04-04\",\"2020-04-05\",\"2020-04-06\",\"2020-04-07\",\"2020-04-08\",\"2020-04-09\",\"2020-04-10\",\"2020-04-11\",\"2020-04-12\",\"2020-04-13\",\"2020-04-14\",\"2020-04-15\",\"2020-04-16\",\"2020-04-17\",\"2020-04-18\",\"2020-04-19\",\"2020-04-20\",\"2020-04-21\",\"2020-04-22\",\"2020-04-23\",\"2020-04-24\",\"2020-04-25\",\"2020-04-26\",\"2020-04-27\",\"2020-04-28\",\"2020-04-29\",\"2020-04-30\",\"2020-05-01\",\"2020-05-02\",\"2020-05-03\",\"2020-05-04\",\"2020-05-05\",\"2020-05-06\",\"2020-05-07\",\"2020-05-08\",\"2020-05-09\",\"2020-05-10\",\"2020-05-11\",\"2020-05-12\",\"2020-05-13\",\"2020-05-14\",\"2020-05-15\",\"2020-05-16\",\"2020-05-17\",\"2020-05-18\",\"2020-05-19\",\"2020-05-20\",\"2020-05-21\",\"2020-05-22\",\"2020-05-23\",\"2020-05-24\",\"2020-05-25\",\"2020-05-26\",\"2020-05-27\",\"2020-05-28\",\"2020-05-29\",\"2020-05-30\",\"2020-05-31\",\"2020-06-01\",\"2020-06-02\",\"2020-06-03\",\"2020-06-04\",\"2020-06-05\",\"2020-06-06\",\"2020-06-07\",\"2020-06-08\",\"2020-06-09\",\"2020-06-10\",\"2020-06-11\",\"2020-06-12\",\"2020-06-13\",\"2020-06-14\",\"2020-06-15\",\"2020-06-16\",\"2020-06-17\",\"2020-06-18\",\"2020-06-19\",\"2020-06-20\",\"2020-06-21\",\"2020-06-22\",\"2020-06-23\",\"2020-06-24\",\"2020-06-25\",\"2020-06-26\",\"2020-06-27\",\"2020-06-28\",\"2020-06-29\",\"2020-06-30\",\"2020-07-01\",\"2020-07-02\",\"2020-07-03\",\"2020-07-04\",\"2020-07-05\",\"2020-07-06\",\"2020-07-07\",\"2020-07-08\",\"2020-07-09\",\"2020-07-10\",\"2020-07-11\",\"2020-07-12\",\"2020-07-13\",\"2020-07-14\",\"2020-07-15\",\"2020-07-16\",\"2020-07-17\",\"2020-07-18\",\"2020-07-19\",\"2020-07-20\",\"2020-07-21\",\"2020-07-22\",\"2020-07-23\",\"2020-07-24\",\"2020-07-25\",\"2020-07-26\",\"2020-07-27\"],\"xaxis\":\"x\",\"y\":[555,654,941,1434,2118,2927,5578,6166,8234,9927,12038,16787,19887,23898,27643,30802,34334,37068,40095,42633,44675,46561,60206,66690,68765,70879,72815,74609,75030,75577,76206,77967,78290,78854,79707,80670,82034,83411,85306,87690,89664,92241,94540,97331,101274,105312,109266,113166,118190,125853,131603,146008,157114,168260,182919,198757,218343,246261,275869,308175,341585,383750,424889,475706,538666,603066,670723,730300,794939,871355,947569,1028968,1112123,1192586,1264304,1336976,1413849,1497624,1584249,1671907,1748872,1845653,1915247,1985174,2066003,2162715,2250439,2324396,2404919,2478258,2553508,2630314,2719327,2806267,2891199,2964146,3032850,3108149,3185195,3268876,3355922,3437608,3515244,3591321,3671310,3761332,3850418,3941935,4027781,4104027,4180268,4263867,4348619,4445724,4542073,4637485,4715994,4804278,4900702,5003730,5110064,5216964,5322253,5417579,5504542,5597064,5699664,5818978,5940145,6077978,6185530,6280725,6401536,6520924,6647861,6778724,6914666,7026925,7129150,7253492,7387517,7525631,7654725,7790735,7924156,8043794,8185197,8327050,8466978,8647784,8805336,8933875,9071733,9237071,9408254,9586141,9777487,9955597,10117227,10275799,10449697,10667386,10875091,11078585,11272152,11454847,11622190,11833034,12044836,12273063,12505640,12721968,12914636,13107415,13328867,13559984,13812525,14054563,14292198,14506845,14713623,14947078,15227725,15510481,15791645,16047190,16251796,16480485],\"yaxis\":\"y\",\"type\":\"scatter\"},{\"hovertemplate\":\"variable=Deaths\\u003cbr\\u003eDate=%{x}\\u003cbr\\u003evalue=%{y}\\u003cextra\\u003e\\u003c\\u002fextra\\u003e\",\"legendgroup\":\"Deaths\",\"line\":{\"color\":\"#EF553B\",\"dash\":\"solid\"},\"marker\":{\"symbol\":\"circle\"},\"mode\":\"lines\",\"name\":\"Deaths\",\"orientation\":\"v\",\"showlegend\":true,\"x\":[\"2020-01-22\",\"2020-01-23\",\"2020-01-24\",\"2020-01-25\",\"2020-01-26\",\"2020-01-27\",\"2020-01-28\",\"2020-01-29\",\"2020-01-30\",\"2020-01-31\",\"2020-02-01\",\"2020-02-02\",\"2020-02-03\",\"2020-02-04\",\"2020-02-05\",\"2020-02-06\",\"2020-02-07\",\"2020-02-08\",\"2020-02-09\",\"2020-02-10\",\"2020-02-11\",\"2020-02-12\",\"2020-02-13\",\"2020-02-14\",\"2020-02-15\",\"2020-02-16\",\"2020-02-17\",\"2020-02-18\",\"2020-02-19\",\"2020-02-20\",\"2020-02-21\",\"2020-02-22\",\"2020-02-23\",\"2020-02-24\",\"2020-02-25\",\"2020-02-26\",\"2020-02-27\",\"2020-02-28\",\"2020-02-29\",\"2020-03-01\",\"2020-03-02\",\"2020-03-03\",\"2020-03-04\",\"2020-03-05\",\"2020-03-06\",\"2020-03-07\",\"2020-03-08\",\"2020-03-09\",\"2020-03-10\",\"2020-03-11\",\"2020-03-12\",\"2020-03-13\",\"2020-03-14\",\"2020-03-15\",\"2020-03-16\",\"2020-03-17\",\"2020-03-18\",\"2020-03-19\",\"2020-03-20\",\"2020-03-21\",\"2020-03-22\",\"2020-03-23\",\"2020-03-24\",\"2020-03-25\",\"2020-03-26\",\"2020-03-27\",\"2020-03-28\",\"2020-03-29\",\"2020-03-30\",\"2020-03-31\",\"2020-04-01\",\"2020-04-02\",\"2020-04-03\",\"2020-04-04\",\"2020-04-05\",\"2020-04-06\",\"2020-04-07\",\"2020-04-08\",\"2020-04-09\",\"2020-04-10\",\"2020-04-11\",\"2020-04-12\",\"2020-04-13\",\"2020-04-14\",\"2020-04-15\",\"2020-04-16\",\"2020-04-17\",\"2020-04-18\",\"2020-04-19\",\"2020-04-20\",\"2020-04-21\",\"2020-04-22\",\"2020-04-23\",\"2020-04-24\",\"2020-04-25\",\"2020-04-26\",\"2020-04-27\",\"2020-04-28\",\"2020-04-29\",\"2020-04-30\",\"2020-05-01\",\"2020-05-02\",\"2020-05-03\",\"2020-05-04\",\"2020-05-05\",\"2020-05-06\",\"2020-05-07\",\"2020-05-08\",\"2020-05-09\",\"2020-05-10\",\"2020-05-11\",\"2020-05-12\",\"2020-05-13\",\"2020-05-14\",\"2020-05-15\",\"2020-05-16\",\"2020-05-17\",\"2020-05-18\",\"2020-05-19\",\"2020-05-20\",\"2020-05-21\",\"2020-05-22\",\"2020-05-23\",\"2020-05-24\",\"2020-05-25\",\"2020-05-26\",\"2020-05-27\",\"2020-05-28\",\"2020-05-29\",\"2020-05-30\",\"2020-05-31\",\"2020-06-01\",\"2020-06-02\",\"2020-06-03\",\"2020-06-04\",\"2020-06-05\",\"2020-06-06\",\"2020-06-07\",\"2020-06-08\",\"2020-06-09\",\"2020-06-10\",\"2020-06-11\",\"2020-06-12\",\"2020-06-13\",\"2020-06-14\",\"2020-06-15\",\"2020-06-16\",\"2020-06-17\",\"2020-06-18\",\"2020-06-19\",\"2020-06-20\",\"2020-06-21\",\"2020-06-22\",\"2020-06-23\",\"2020-06-24\",\"2020-06-25\",\"2020-06-26\",\"2020-06-27\",\"2020-06-28\",\"2020-06-29\",\"2020-06-30\",\"2020-07-01\",\"2020-07-02\",\"2020-07-03\",\"2020-07-04\",\"2020-07-05\",\"2020-07-06\",\"2020-07-07\",\"2020-07-08\",\"2020-07-09\",\"2020-07-10\",\"2020-07-11\",\"2020-07-12\",\"2020-07-13\",\"2020-07-14\",\"2020-07-15\",\"2020-07-16\",\"2020-07-17\",\"2020-07-18\",\"2020-07-19\",\"2020-07-20\",\"2020-07-21\",\"2020-07-22\",\"2020-07-23\",\"2020-07-24\",\"2020-07-25\",\"2020-07-26\",\"2020-07-27\"],\"xaxis\":\"x\",\"y\":[17,18,26,42,56,82,131,133,171,213,259,362,426,492,564,634,719,806,906,1013,1113,1118,1371,1523,1666,1770,1868,2008,2123,2246,2250,2457,2467,2627,2707,2767,2810,2867,2936,2990,3079,3154,3249,3342,3454,3553,3797,3981,4260,4604,4909,5406,5823,6464,7144,7948,8845,9951,11429,13134,14831,16748,19016,21793,24800,28318,31997,35470,39634,44478,50029,56334,62319,68160,73181,79013,86915,93650,101279,108551,114620,120351,126098,132996,141308,148591,157481,163952,168522,173965,181122,187877,194727,201401,206979,210862,215511,221974,228742,234704,239881,245206,248659,252787,258658,265327,270736,276304,280569,284135,287608,293155,298383,303651,308866,313037,316366,319657,324441,329326,334112,339396,343385,346525,347703,351906,357119,361820,366562,370718,373606,376674,381497,387069,392218,396994,400875,403617,407314,412236,417441,422215,426512,430750,434124,437549,444416,449671,454700,460973,465222,469185,472756,478067,483328,489955,494782,499268,502357,506078,511210,516221,521341,526336,530705,534150,537947,544054,549373,554831,560142,565039,568993,572808,578468,583961,589760,596503,602130,606159,610319,616557,623540,633506,639650,644517,648621,654036],\"yaxis\":\"y\",\"type\":\"scatter\"},{\"hovertemplate\":\"variable=Recovered\\u003cbr\\u003eDate=%{x}\\u003cbr\\u003evalue=%{y}\\u003cextra\\u003e\\u003c\\u002fextra\\u003e\",\"legendgroup\":\"Recovered\",\"line\":{\"color\":\"#00cc96\",\"dash\":\"solid\"},\"marker\":{\"symbol\":\"circle\"},\"mode\":\"lines\",\"name\":\"Recovered\",\"orientation\":\"v\",\"showlegend\":true,\"x\":[\"2020-01-22\",\"2020-01-23\",\"2020-01-24\",\"2020-01-25\",\"2020-01-26\",\"2020-01-27\",\"2020-01-28\",\"2020-01-29\",\"2020-01-30\",\"2020-01-31\",\"2020-02-01\",\"2020-02-02\",\"2020-02-03\",\"2020-02-04\",\"2020-02-05\",\"2020-02-06\",\"2020-02-07\",\"2020-02-08\",\"2020-02-09\",\"2020-02-10\",\"2020-02-11\",\"2020-02-12\",\"2020-02-13\",\"2020-02-14\",\"2020-02-15\",\"2020-02-16\",\"2020-02-17\",\"2020-02-18\",\"2020-02-19\",\"2020-02-20\",\"2020-02-21\",\"2020-02-22\",\"2020-02-23\",\"2020-02-24\",\"2020-02-25\",\"2020-02-26\",\"2020-02-27\",\"2020-02-28\",\"2020-02-29\",\"2020-03-01\",\"2020-03-02\",\"2020-03-03\",\"2020-03-04\",\"2020-03-05\",\"2020-03-06\",\"2020-03-07\",\"2020-03-08\",\"2020-03-09\",\"2020-03-10\",\"2020-03-11\",\"2020-03-12\",\"2020-03-13\",\"2020-03-14\",\"2020-03-15\",\"2020-03-16\",\"2020-03-17\",\"2020-03-18\",\"2020-03-19\",\"2020-03-20\",\"2020-03-21\",\"2020-03-22\",\"2020-03-23\",\"2020-03-24\",\"2020-03-25\",\"2020-03-26\",\"2020-03-27\",\"2020-03-28\",\"2020-03-29\",\"2020-03-30\",\"2020-03-31\",\"2020-04-01\",\"2020-04-02\",\"2020-04-03\",\"2020-04-04\",\"2020-04-05\",\"2020-04-06\",\"2020-04-07\",\"2020-04-08\",\"2020-04-09\",\"2020-04-10\",\"2020-04-11\",\"2020-04-12\",\"2020-04-13\",\"2020-04-14\",\"2020-04-15\",\"2020-04-16\",\"2020-04-17\",\"2020-04-18\",\"2020-04-19\",\"2020-04-20\",\"2020-04-21\",\"2020-04-22\",\"2020-04-23\",\"2020-04-24\",\"2020-04-25\",\"2020-04-26\",\"2020-04-27\",\"2020-04-28\",\"2020-04-29\",\"2020-04-30\",\"2020-05-01\",\"2020-05-02\",\"2020-05-03\",\"2020-05-04\",\"2020-05-05\",\"2020-05-06\",\"2020-05-07\",\"2020-05-08\",\"2020-05-09\",\"2020-05-10\",\"2020-05-11\",\"2020-05-12\",\"2020-05-13\",\"2020-05-14\",\"2020-05-15\",\"2020-05-16\",\"2020-05-17\",\"2020-05-18\",\"2020-05-19\",\"2020-05-20\",\"2020-05-21\",\"2020-05-22\",\"2020-05-23\",\"2020-05-24\",\"2020-05-25\",\"2020-05-26\",\"2020-05-27\",\"2020-05-28\",\"2020-05-29\",\"2020-05-30\",\"2020-05-31\",\"2020-06-01\",\"2020-06-02\",\"2020-06-03\",\"2020-06-04\",\"2020-06-05\",\"2020-06-06\",\"2020-06-07\",\"2020-06-08\",\"2020-06-09\",\"2020-06-10\",\"2020-06-11\",\"2020-06-12\",\"2020-06-13\",\"2020-06-14\",\"2020-06-15\",\"2020-06-16\",\"2020-06-17\",\"2020-06-18\",\"2020-06-19\",\"2020-06-20\",\"2020-06-21\",\"2020-06-22\",\"2020-06-23\",\"2020-06-24\",\"2020-06-25\",\"2020-06-26\",\"2020-06-27\",\"2020-06-28\",\"2020-06-29\",\"2020-06-30\",\"2020-07-01\",\"2020-07-02\",\"2020-07-03\",\"2020-07-04\",\"2020-07-05\",\"2020-07-06\",\"2020-07-07\",\"2020-07-08\",\"2020-07-09\",\"2020-07-10\",\"2020-07-11\",\"2020-07-12\",\"2020-07-13\",\"2020-07-14\",\"2020-07-15\",\"2020-07-16\",\"2020-07-17\",\"2020-07-18\",\"2020-07-19\",\"2020-07-20\",\"2020-07-21\",\"2020-07-22\",\"2020-07-23\",\"2020-07-24\",\"2020-07-25\",\"2020-07-26\",\"2020-07-27\"],\"xaxis\":\"x\",\"y\":[28,30,36,39,52,61,107,125,141,219,281,459,604,821,1071,1418,1903,2470,3057,3714,4417,4849,5930,7613,8902,10319,11951,13693,15394,17369,17966,21849,22304,24047,26652,29077,31919,35306,38314,41208,44085,46681,49619,52237,54270,56760,59092,60891,62802,65113,66434,68359,70729,74139,76192,78944,81427,83064,85509,89775,95990,96456,105997,111445,119804,128508,136800,146261,161707,174074,189434,206052,221060,241072,254477,270812,293665,322017,346349,367477,392991,411864,438395,463014,498925,529015,554287,577789,608557,629862,664043,693207,721689,771329,798239,825969,852382,884680,925752,989616,1026501,1066362,1097577,1130526,1166155,1210894,1249311,1284849,1337367,1370108,1416204,1452191,1506905,1545712,1592880,1648546,1688699,1740909,1792256,1850441,1900768,2008541,2062802,2117555,2180605,2235118,2297613,2363746,2440127,2509981,2585589,2639599,2743083,2821430,2890776,2959037,3030214,3084718,3235640,3317121,3395154,3480121,3558933,3644048,3714006,3793406,3890800,4008201,4088826,4183298,4298603,4366875,4458093,4561696,4677005,4769458,4875774,4981808,5070592,5164494,5281459,5397083,5681477,5790942,5986375,6105546,6228768,6373513,6531016,6665237,6804254,6929711,7041174,7181139,7322897,7482320,7634241,7793760,7944550,8032235,8190777,8364986,8541255,8710969,8939705,9158743,9293464,9468087],\"yaxis\":\"y\",\"type\":\"scatter\"},{\"hovertemplate\":\"variable=Active\\u003cbr\\u003eDate=%{x}\\u003cbr\\u003evalue=%{y}\\u003cextra\\u003e\\u003c\\u002fextra\\u003e\",\"legendgroup\":\"Active\",\"line\":{\"color\":\"#ab63fa\",\"dash\":\"solid\"},\"marker\":{\"symbol\":\"circle\"},\"mode\":\"lines\",\"name\":\"Active\",\"orientation\":\"v\",\"showlegend\":true,\"x\":[\"2020-01-22\",\"2020-01-23\",\"2020-01-24\",\"2020-01-25\",\"2020-01-26\",\"2020-01-27\",\"2020-01-28\",\"2020-01-29\",\"2020-01-30\",\"2020-01-31\",\"2020-02-01\",\"2020-02-02\",\"2020-02-03\",\"2020-02-04\",\"2020-02-05\",\"2020-02-06\",\"2020-02-07\",\"2020-02-08\",\"2020-02-09\",\"2020-02-10\",\"2020-02-11\",\"2020-02-12\",\"2020-02-13\",\"2020-02-14\",\"2020-02-15\",\"2020-02-16\",\"2020-02-17\",\"2020-02-18\",\"2020-02-19\",\"2020-02-20\",\"2020-02-21\",\"2020-02-22\",\"2020-02-23\",\"2020-02-24\",\"2020-02-25\",\"2020-02-26\",\"2020-02-27\",\"2020-02-28\",\"2020-02-29\",\"2020-03-01\",\"2020-03-02\",\"2020-03-03\",\"2020-03-04\",\"2020-03-05\",\"2020-03-06\",\"2020-03-07\",\"2020-03-08\",\"2020-03-09\",\"2020-03-10\",\"2020-03-11\",\"2020-03-12\",\"2020-03-13\",\"2020-03-14\",\"2020-03-15\",\"2020-03-16\",\"2020-03-17\",\"2020-03-18\",\"2020-03-19\",\"2020-03-20\",\"2020-03-21\",\"2020-03-22\",\"2020-03-23\",\"2020-03-24\",\"2020-03-25\",\"2020-03-26\",\"2020-03-27\",\"2020-03-28\",\"2020-03-29\",\"2020-03-30\",\"2020-03-31\",\"2020-04-01\",\"2020-04-02\",\"2020-04-03\",\"2020-04-04\",\"2020-04-05\",\"2020-04-06\",\"2020-04-07\",\"2020-04-08\",\"2020-04-09\",\"2020-04-10\",\"2020-04-11\",\"2020-04-12\",\"2020-04-13\",\"2020-04-14\",\"2020-04-15\",\"2020-04-16\",\"2020-04-17\",\"2020-04-18\",\"2020-04-19\",\"2020-04-20\",\"2020-04-21\",\"2020-04-22\",\"2020-04-23\",\"2020-04-24\",\"2020-04-25\",\"2020-04-26\",\"2020-04-27\",\"2020-04-28\",\"2020-04-29\",\"2020-04-30\",\"2020-05-01\",\"2020-05-02\",\"2020-05-03\",\"2020-05-04\",\"2020-05-05\",\"2020-05-06\",\"2020-05-07\",\"2020-05-08\",\"2020-05-09\",\"2020-05-10\",\"2020-05-11\",\"2020-05-12\",\"2020-05-13\",\"2020-05-14\",\"2020-05-15\",\"2020-05-16\",\"2020-05-17\",\"2020-05-18\",\"2020-05-19\",\"2020-05-20\",\"2020-05-21\",\"2020-05-22\",\"2020-05-23\",\"2020-05-24\",\"2020-05-25\",\"2020-05-26\",\"2020-05-27\",\"2020-05-28\",\"2020-05-29\",\"2020-05-30\",\"2020-05-31\",\"2020-06-01\",\"2020-06-02\",\"2020-06-03\",\"2020-06-04\",\"2020-06-05\",\"2020-06-06\",\"2020-06-07\",\"2020-06-08\",\"2020-06-09\",\"2020-06-10\",\"2020-06-11\",\"2020-06-12\",\"2020-06-13\",\"2020-06-14\",\"2020-06-15\",\"2020-06-16\",\"2020-06-17\",\"2020-06-18\",\"2020-06-19\",\"2020-06-20\",\"2020-06-21\",\"2020-06-22\",\"2020-06-23\",\"2020-06-24\",\"2020-06-25\",\"2020-06-26\",\"2020-06-27\",\"2020-06-28\",\"2020-06-29\",\"2020-06-30\",\"2020-07-01\",\"2020-07-02\",\"2020-07-03\",\"2020-07-04\",\"2020-07-05\",\"2020-07-06\",\"2020-07-07\",\"2020-07-08\",\"2020-07-09\",\"2020-07-10\",\"2020-07-11\",\"2020-07-12\",\"2020-07-13\",\"2020-07-14\",\"2020-07-15\",\"2020-07-16\",\"2020-07-17\",\"2020-07-18\",\"2020-07-19\",\"2020-07-20\",\"2020-07-21\",\"2020-07-22\",\"2020-07-23\",\"2020-07-24\",\"2020-07-25\",\"2020-07-26\",\"2020-07-27\"],\"xaxis\":\"x\",\"y\":[510,606,879,1353,2010,2784,5340,5908,7922,9495,11498,15966,18857,22585,26008,28750,31712,33792,36132,37906,39145,40594,52905,57554,58197,58790,58996,58908,57513,55962,55990,53661,53519,52180,50348,48826,47305,45238,44056,43492,42500,42406,41672,41752,43550,44999,46377,48294,51128,56136,60260,72243,80562,87657,99583,111865,128071,153246,178931,205266,230764,270546,299876,342468,394062,446240,501926,548569,593598,652803,708106,766582,828744,883354,936646,987151,1033269,1081957,1136621,1195879,1241261,1313438,1350754,1389164,1425770,1485109,1538671,1582655,1627840,1674431,1708343,1749230,1802911,1833537,1885981,1927315,1964957,2001495,2030701,2044556,2089540,2126040,2169008,2208008,2246497,2285111,2330371,2380782,2409845,2449784,2476456,2518521,2543331,2596361,2640327,2675902,2710929,2743712,2784005,2823963,2875184,2869027,2916066,2953499,2976234,3010040,3044932,3093412,3133456,3197279,3226335,3264452,3276956,3312425,3364867,3422693,3483577,3538590,3486196,3524135,3574922,3623295,3669280,3715937,3776026,3812839,3849981,3869178,3923452,4003513,4041511,4097815,4140884,4197308,4247921,4326728,4406931,4474521,4544278,4605227,4657028,4754082,4672273,4761307,4755072,4815151,4855475,4915467,4964447,5052995,5141244,5227218,5304469,5353468,5427502,5493703,5588524,5664300,5745518,5868451,5912527,5965535,6062930,6166006,6212290,6243930,6309711,6358362],\"yaxis\":\"y\",\"type\":\"scatter\"}],                        {\"template\":{\"data\":{\"barpolar\":[{\"marker\":{\"line\":{\"color\":\"rgb(17,17,17)\",\"width\":0.5},\"pattern\":{\"fillmode\":\"overlay\",\"size\":10,\"solidity\":0.2}},\"type\":\"barpolar\"}],\"bar\":[{\"error_x\":{\"color\":\"#f2f5fa\"},\"error_y\":{\"color\":\"#f2f5fa\"},\"marker\":{\"line\":{\"color\":\"rgb(17,17,17)\",\"width\":0.5},\"pattern\":{\"fillmode\":\"overlay\",\"size\":10,\"solidity\":0.2}},\"type\":\"bar\"}],\"carpet\":[{\"aaxis\":{\"endlinecolor\":\"#A2B1C6\",\"gridcolor\":\"#506784\",\"linecolor\":\"#506784\",\"minorgridcolor\":\"#506784\",\"startlinecolor\":\"#A2B1C6\"},\"baxis\":{\"endlinecolor\":\"#A2B1C6\",\"gridcolor\":\"#506784\",\"linecolor\":\"#506784\",\"minorgridcolor\":\"#506784\",\"startlinecolor\":\"#A2B1C6\"},\"type\":\"carpet\"}],\"choropleth\":[{\"colorbar\":{\"outlinewidth\":0,\"ticks\":\"\"},\"type\":\"choropleth\"}],\"contourcarpet\":[{\"colorbar\":{\"outlinewidth\":0,\"ticks\":\"\"},\"type\":\"contourcarpet\"}],\"contour\":[{\"colorbar\":{\"outlinewidth\":0,\"ticks\":\"\"},\"colorscale\":[[0.0,\"#0d0887\"],[0.1111111111111111,\"#46039f\"],[0.2222222222222222,\"#7201a8\"],[0.3333333333333333,\"#9c179e\"],[0.4444444444444444,\"#bd3786\"],[0.5555555555555556,\"#d8576b\"],[0.6666666666666666,\"#ed7953\"],[0.7777777777777778,\"#fb9f3a\"],[0.8888888888888888,\"#fdca26\"],[1.0,\"#f0f921\"]],\"type\":\"contour\"}],\"heatmapgl\":[{\"colorbar\":{\"outlinewidth\":0,\"ticks\":\"\"},\"colorscale\":[[0.0,\"#0d0887\"],[0.1111111111111111,\"#46039f\"],[0.2222222222222222,\"#7201a8\"],[0.3333333333333333,\"#9c179e\"],[0.4444444444444444,\"#bd3786\"],[0.5555555555555556,\"#d8576b\"],[0.6666666666666666,\"#ed7953\"],[0.7777777777777778,\"#fb9f3a\"],[0.8888888888888888,\"#fdca26\"],[1.0,\"#f0f921\"]],\"type\":\"heatmapgl\"}],\"heatmap\":[{\"colorbar\":{\"outlinewidth\":0,\"ticks\":\"\"},\"colorscale\":[[0.0,\"#0d0887\"],[0.1111111111111111,\"#46039f\"],[0.2222222222222222,\"#7201a8\"],[0.3333333333333333,\"#9c179e\"],[0.4444444444444444,\"#bd3786\"],[0.5555555555555556,\"#d8576b\"],[0.6666666666666666,\"#ed7953\"],[0.7777777777777778,\"#fb9f3a\"],[0.8888888888888888,\"#fdca26\"],[1.0,\"#f0f921\"]],\"type\":\"heatmap\"}],\"histogram2dcontour\":[{\"colorbar\":{\"outlinewidth\":0,\"ticks\":\"\"},\"colorscale\":[[0.0,\"#0d0887\"],[0.1111111111111111,\"#46039f\"],[0.2222222222222222,\"#7201a8\"],[0.3333333333333333,\"#9c179e\"],[0.4444444444444444,\"#bd3786\"],[0.5555555555555556,\"#d8576b\"],[0.6666666666666666,\"#ed7953\"],[0.7777777777777778,\"#fb9f3a\"],[0.8888888888888888,\"#fdca26\"],[1.0,\"#f0f921\"]],\"type\":\"histogram2dcontour\"}],\"histogram2d\":[{\"colorbar\":{\"outlinewidth\":0,\"ticks\":\"\"},\"colorscale\":[[0.0,\"#0d0887\"],[0.1111111111111111,\"#46039f\"],[0.2222222222222222,\"#7201a8\"],[0.3333333333333333,\"#9c179e\"],[0.4444444444444444,\"#bd3786\"],[0.5555555555555556,\"#d8576b\"],[0.6666666666666666,\"#ed7953\"],[0.7777777777777778,\"#fb9f3a\"],[0.8888888888888888,\"#fdca26\"],[1.0,\"#f0f921\"]],\"type\":\"histogram2d\"}],\"histogram\":[{\"marker\":{\"pattern\":{\"fillmode\":\"overlay\",\"size\":10,\"solidity\":0.2}},\"type\":\"histogram\"}],\"mesh3d\":[{\"colorbar\":{\"outlinewidth\":0,\"ticks\":\"\"},\"type\":\"mesh3d\"}],\"parcoords\":[{\"line\":{\"colorbar\":{\"outlinewidth\":0,\"ticks\":\"\"}},\"type\":\"parcoords\"}],\"pie\":[{\"automargin\":true,\"type\":\"pie\"}],\"scatter3d\":[{\"line\":{\"colorbar\":{\"outlinewidth\":0,\"ticks\":\"\"}},\"marker\":{\"colorbar\":{\"outlinewidth\":0,\"ticks\":\"\"}},\"type\":\"scatter3d\"}],\"scattercarpet\":[{\"marker\":{\"colorbar\":{\"outlinewidth\":0,\"ticks\":\"\"}},\"type\":\"scattercarpet\"}],\"scattergeo\":[{\"marker\":{\"colorbar\":{\"outlinewidth\":0,\"ticks\":\"\"}},\"type\":\"scattergeo\"}],\"scattergl\":[{\"marker\":{\"line\":{\"color\":\"#283442\"}},\"type\":\"scattergl\"}],\"scattermapbox\":[{\"marker\":{\"colorbar\":{\"outlinewidth\":0,\"ticks\":\"\"}},\"type\":\"scattermapbox\"}],\"scatterpolargl\":[{\"marker\":{\"colorbar\":{\"outlinewidth\":0,\"ticks\":\"\"}},\"type\":\"scatterpolargl\"}],\"scatterpolar\":[{\"marker\":{\"colorbar\":{\"outlinewidth\":0,\"ticks\":\"\"}},\"type\":\"scatterpolar\"}],\"scatter\":[{\"marker\":{\"line\":{\"color\":\"#283442\"}},\"type\":\"scatter\"}],\"scatterternary\":[{\"marker\":{\"colorbar\":{\"outlinewidth\":0,\"ticks\":\"\"}},\"type\":\"scatterternary\"}],\"surface\":[{\"colorbar\":{\"outlinewidth\":0,\"ticks\":\"\"},\"colorscale\":[[0.0,\"#0d0887\"],[0.1111111111111111,\"#46039f\"],[0.2222222222222222,\"#7201a8\"],[0.3333333333333333,\"#9c179e\"],[0.4444444444444444,\"#bd3786\"],[0.5555555555555556,\"#d8576b\"],[0.6666666666666666,\"#ed7953\"],[0.7777777777777778,\"#fb9f3a\"],[0.8888888888888888,\"#fdca26\"],[1.0,\"#f0f921\"]],\"type\":\"surface\"}],\"table\":[{\"cells\":{\"fill\":{\"color\":\"#506784\"},\"line\":{\"color\":\"rgb(17,17,17)\"}},\"header\":{\"fill\":{\"color\":\"#2a3f5f\"},\"line\":{\"color\":\"rgb(17,17,17)\"}},\"type\":\"table\"}]},\"layout\":{\"annotationdefaults\":{\"arrowcolor\":\"#f2f5fa\",\"arrowhead\":0,\"arrowwidth\":1},\"autotypenumbers\":\"strict\",\"coloraxis\":{\"colorbar\":{\"outlinewidth\":0,\"ticks\":\"\"}},\"colorscale\":{\"diverging\":[[0,\"#8e0152\"],[0.1,\"#c51b7d\"],[0.2,\"#de77ae\"],[0.3,\"#f1b6da\"],[0.4,\"#fde0ef\"],[0.5,\"#f7f7f7\"],[0.6,\"#e6f5d0\"],[0.7,\"#b8e186\"],[0.8,\"#7fbc41\"],[0.9,\"#4d9221\"],[1,\"#276419\"]],\"sequential\":[[0.0,\"#0d0887\"],[0.1111111111111111,\"#46039f\"],[0.2222222222222222,\"#7201a8\"],[0.3333333333333333,\"#9c179e\"],[0.4444444444444444,\"#bd3786\"],[0.5555555555555556,\"#d8576b\"],[0.6666666666666666,\"#ed7953\"],[0.7777777777777778,\"#fb9f3a\"],[0.8888888888888888,\"#fdca26\"],[1.0,\"#f0f921\"]],\"sequentialminus\":[[0.0,\"#0d0887\"],[0.1111111111111111,\"#46039f\"],[0.2222222222222222,\"#7201a8\"],[0.3333333333333333,\"#9c179e\"],[0.4444444444444444,\"#bd3786\"],[0.5555555555555556,\"#d8576b\"],[0.6666666666666666,\"#ed7953\"],[0.7777777777777778,\"#fb9f3a\"],[0.8888888888888888,\"#fdca26\"],[1.0,\"#f0f921\"]]},\"colorway\":[\"#636efa\",\"#EF553B\",\"#00cc96\",\"#ab63fa\",\"#FFA15A\",\"#19d3f3\",\"#FF6692\",\"#B6E880\",\"#FF97FF\",\"#FECB52\"],\"font\":{\"color\":\"#f2f5fa\"},\"geo\":{\"bgcolor\":\"rgb(17,17,17)\",\"lakecolor\":\"rgb(17,17,17)\",\"landcolor\":\"rgb(17,17,17)\",\"showlakes\":true,\"showland\":true,\"subunitcolor\":\"#506784\"},\"hoverlabel\":{\"align\":\"left\"},\"hovermode\":\"closest\",\"mapbox\":{\"style\":\"dark\"},\"paper_bgcolor\":\"rgb(17,17,17)\",\"plot_bgcolor\":\"rgb(17,17,17)\",\"polar\":{\"angularaxis\":{\"gridcolor\":\"#506784\",\"linecolor\":\"#506784\",\"ticks\":\"\"},\"bgcolor\":\"rgb(17,17,17)\",\"radialaxis\":{\"gridcolor\":\"#506784\",\"linecolor\":\"#506784\",\"ticks\":\"\"}},\"scene\":{\"xaxis\":{\"backgroundcolor\":\"rgb(17,17,17)\",\"gridcolor\":\"#506784\",\"gridwidth\":2,\"linecolor\":\"#506784\",\"showbackground\":true,\"ticks\":\"\",\"zerolinecolor\":\"#C8D4E3\"},\"yaxis\":{\"backgroundcolor\":\"rgb(17,17,17)\",\"gridcolor\":\"#506784\",\"gridwidth\":2,\"linecolor\":\"#506784\",\"showbackground\":true,\"ticks\":\"\",\"zerolinecolor\":\"#C8D4E3\"},\"zaxis\":{\"backgroundcolor\":\"rgb(17,17,17)\",\"gridcolor\":\"#506784\",\"gridwidth\":2,\"linecolor\":\"#506784\",\"showbackground\":true,\"ticks\":\"\",\"zerolinecolor\":\"#C8D4E3\"}},\"shapedefaults\":{\"line\":{\"color\":\"#f2f5fa\"}},\"sliderdefaults\":{\"bgcolor\":\"#C8D4E3\",\"bordercolor\":\"rgb(17,17,17)\",\"borderwidth\":1,\"tickwidth\":0},\"ternary\":{\"aaxis\":{\"gridcolor\":\"#506784\",\"linecolor\":\"#506784\",\"ticks\":\"\"},\"baxis\":{\"gridcolor\":\"#506784\",\"linecolor\":\"#506784\",\"ticks\":\"\"},\"bgcolor\":\"rgb(17,17,17)\",\"caxis\":{\"gridcolor\":\"#506784\",\"linecolor\":\"#506784\",\"ticks\":\"\"}},\"title\":{\"x\":0.05},\"updatemenudefaults\":{\"bgcolor\":\"#506784\",\"borderwidth\":0},\"xaxis\":{\"automargin\":true,\"gridcolor\":\"#283442\",\"linecolor\":\"#506784\",\"ticks\":\"\",\"title\":{\"standoff\":15},\"zerolinecolor\":\"#283442\",\"zerolinewidth\":2},\"yaxis\":{\"automargin\":true,\"gridcolor\":\"#283442\",\"linecolor\":\"#506784\",\"ticks\":\"\",\"title\":{\"standoff\":15},\"zerolinecolor\":\"#283442\",\"zerolinewidth\":2}}},\"xaxis\":{\"anchor\":\"y\",\"domain\":[0.0,1.0],\"title\":{\"text\":\"Date\"}},\"yaxis\":{\"anchor\":\"x\",\"domain\":[0.0,1.0],\"title\":{\"text\":\"value\"}},\"legend\":{\"title\":{\"text\":\"variable\"},\"tracegroupgap\":0},\"title\":{\"text\":\"Covid caes wrt to date\"}},                        {\"responsive\": true}                    )                };                            </script>        </div>"
      ],
      "text/plain": [
       "Figure({\n",
       "    'data': [{'hovertemplate': 'variable=Confirmed<br>Date=%{x}<br>value=%{y}<extra></extra>',\n",
       "              'legendgroup': 'Confirmed',\n",
       "              'line': {'color': '#636efa', 'dash': 'solid'},\n",
       "              'marker': {'symbol': 'circle'},\n",
       "              'mode': 'lines',\n",
       "              'name': 'Confirmed',\n",
       "              'orientation': 'v',\n",
       "              'showlegend': True,\n",
       "              'type': 'scatter',\n",
       "              'x': array(['2020-01-22', '2020-01-23', '2020-01-24', '2020-01-25', '2020-01-26',\n",
       "                          '2020-01-27', '2020-01-28', '2020-01-29', '2020-01-30', '2020-01-31',\n",
       "                          '2020-02-01', '2020-02-02', '2020-02-03', '2020-02-04', '2020-02-05',\n",
       "                          '2020-02-06', '2020-02-07', '2020-02-08', '2020-02-09', '2020-02-10',\n",
       "                          '2020-02-11', '2020-02-12', '2020-02-13', '2020-02-14', '2020-02-15',\n",
       "                          '2020-02-16', '2020-02-17', '2020-02-18', '2020-02-19', '2020-02-20',\n",
       "                          '2020-02-21', '2020-02-22', '2020-02-23', '2020-02-24', '2020-02-25',\n",
       "                          '2020-02-26', '2020-02-27', '2020-02-28', '2020-02-29', '2020-03-01',\n",
       "                          '2020-03-02', '2020-03-03', '2020-03-04', '2020-03-05', '2020-03-06',\n",
       "                          '2020-03-07', '2020-03-08', '2020-03-09', '2020-03-10', '2020-03-11',\n",
       "                          '2020-03-12', '2020-03-13', '2020-03-14', '2020-03-15', '2020-03-16',\n",
       "                          '2020-03-17', '2020-03-18', '2020-03-19', '2020-03-20', '2020-03-21',\n",
       "                          '2020-03-22', '2020-03-23', '2020-03-24', '2020-03-25', '2020-03-26',\n",
       "                          '2020-03-27', '2020-03-28', '2020-03-29', '2020-03-30', '2020-03-31',\n",
       "                          '2020-04-01', '2020-04-02', '2020-04-03', '2020-04-04', '2020-04-05',\n",
       "                          '2020-04-06', '2020-04-07', '2020-04-08', '2020-04-09', '2020-04-10',\n",
       "                          '2020-04-11', '2020-04-12', '2020-04-13', '2020-04-14', '2020-04-15',\n",
       "                          '2020-04-16', '2020-04-17', '2020-04-18', '2020-04-19', '2020-04-20',\n",
       "                          '2020-04-21', '2020-04-22', '2020-04-23', '2020-04-24', '2020-04-25',\n",
       "                          '2020-04-26', '2020-04-27', '2020-04-28', '2020-04-29', '2020-04-30',\n",
       "                          '2020-05-01', '2020-05-02', '2020-05-03', '2020-05-04', '2020-05-05',\n",
       "                          '2020-05-06', '2020-05-07', '2020-05-08', '2020-05-09', '2020-05-10',\n",
       "                          '2020-05-11', '2020-05-12', '2020-05-13', '2020-05-14', '2020-05-15',\n",
       "                          '2020-05-16', '2020-05-17', '2020-05-18', '2020-05-19', '2020-05-20',\n",
       "                          '2020-05-21', '2020-05-22', '2020-05-23', '2020-05-24', '2020-05-25',\n",
       "                          '2020-05-26', '2020-05-27', '2020-05-28', '2020-05-29', '2020-05-30',\n",
       "                          '2020-05-31', '2020-06-01', '2020-06-02', '2020-06-03', '2020-06-04',\n",
       "                          '2020-06-05', '2020-06-06', '2020-06-07', '2020-06-08', '2020-06-09',\n",
       "                          '2020-06-10', '2020-06-11', '2020-06-12', '2020-06-13', '2020-06-14',\n",
       "                          '2020-06-15', '2020-06-16', '2020-06-17', '2020-06-18', '2020-06-19',\n",
       "                          '2020-06-20', '2020-06-21', '2020-06-22', '2020-06-23', '2020-06-24',\n",
       "                          '2020-06-25', '2020-06-26', '2020-06-27', '2020-06-28', '2020-06-29',\n",
       "                          '2020-06-30', '2020-07-01', '2020-07-02', '2020-07-03', '2020-07-04',\n",
       "                          '2020-07-05', '2020-07-06', '2020-07-07', '2020-07-08', '2020-07-09',\n",
       "                          '2020-07-10', '2020-07-11', '2020-07-12', '2020-07-13', '2020-07-14',\n",
       "                          '2020-07-15', '2020-07-16', '2020-07-17', '2020-07-18', '2020-07-19',\n",
       "                          '2020-07-20', '2020-07-21', '2020-07-22', '2020-07-23', '2020-07-24',\n",
       "                          '2020-07-25', '2020-07-26', '2020-07-27'], dtype=object),\n",
       "              'xaxis': 'x',\n",
       "              'y': array([     555,      654,      941,     1434,     2118,     2927,     5578,\n",
       "                              6166,     8234,     9927,    12038,    16787,    19887,    23898,\n",
       "                             27643,    30802,    34334,    37068,    40095,    42633,    44675,\n",
       "                             46561,    60206,    66690,    68765,    70879,    72815,    74609,\n",
       "                             75030,    75577,    76206,    77967,    78290,    78854,    79707,\n",
       "                             80670,    82034,    83411,    85306,    87690,    89664,    92241,\n",
       "                             94540,    97331,   101274,   105312,   109266,   113166,   118190,\n",
       "                            125853,   131603,   146008,   157114,   168260,   182919,   198757,\n",
       "                            218343,   246261,   275869,   308175,   341585,   383750,   424889,\n",
       "                            475706,   538666,   603066,   670723,   730300,   794939,   871355,\n",
       "                            947569,  1028968,  1112123,  1192586,  1264304,  1336976,  1413849,\n",
       "                           1497624,  1584249,  1671907,  1748872,  1845653,  1915247,  1985174,\n",
       "                           2066003,  2162715,  2250439,  2324396,  2404919,  2478258,  2553508,\n",
       "                           2630314,  2719327,  2806267,  2891199,  2964146,  3032850,  3108149,\n",
       "                           3185195,  3268876,  3355922,  3437608,  3515244,  3591321,  3671310,\n",
       "                           3761332,  3850418,  3941935,  4027781,  4104027,  4180268,  4263867,\n",
       "                           4348619,  4445724,  4542073,  4637485,  4715994,  4804278,  4900702,\n",
       "                           5003730,  5110064,  5216964,  5322253,  5417579,  5504542,  5597064,\n",
       "                           5699664,  5818978,  5940145,  6077978,  6185530,  6280725,  6401536,\n",
       "                           6520924,  6647861,  6778724,  6914666,  7026925,  7129150,  7253492,\n",
       "                           7387517,  7525631,  7654725,  7790735,  7924156,  8043794,  8185197,\n",
       "                           8327050,  8466978,  8647784,  8805336,  8933875,  9071733,  9237071,\n",
       "                           9408254,  9586141,  9777487,  9955597, 10117227, 10275799, 10449697,\n",
       "                          10667386, 10875091, 11078585, 11272152, 11454847, 11622190, 11833034,\n",
       "                          12044836, 12273063, 12505640, 12721968, 12914636, 13107415, 13328867,\n",
       "                          13559984, 13812525, 14054563, 14292198, 14506845, 14713623, 14947078,\n",
       "                          15227725, 15510481, 15791645, 16047190, 16251796, 16480485]),\n",
       "              'yaxis': 'y'},\n",
       "             {'hovertemplate': 'variable=Deaths<br>Date=%{x}<br>value=%{y}<extra></extra>',\n",
       "              'legendgroup': 'Deaths',\n",
       "              'line': {'color': '#EF553B', 'dash': 'solid'},\n",
       "              'marker': {'symbol': 'circle'},\n",
       "              'mode': 'lines',\n",
       "              'name': 'Deaths',\n",
       "              'orientation': 'v',\n",
       "              'showlegend': True,\n",
       "              'type': 'scatter',\n",
       "              'x': array(['2020-01-22', '2020-01-23', '2020-01-24', '2020-01-25', '2020-01-26',\n",
       "                          '2020-01-27', '2020-01-28', '2020-01-29', '2020-01-30', '2020-01-31',\n",
       "                          '2020-02-01', '2020-02-02', '2020-02-03', '2020-02-04', '2020-02-05',\n",
       "                          '2020-02-06', '2020-02-07', '2020-02-08', '2020-02-09', '2020-02-10',\n",
       "                          '2020-02-11', '2020-02-12', '2020-02-13', '2020-02-14', '2020-02-15',\n",
       "                          '2020-02-16', '2020-02-17', '2020-02-18', '2020-02-19', '2020-02-20',\n",
       "                          '2020-02-21', '2020-02-22', '2020-02-23', '2020-02-24', '2020-02-25',\n",
       "                          '2020-02-26', '2020-02-27', '2020-02-28', '2020-02-29', '2020-03-01',\n",
       "                          '2020-03-02', '2020-03-03', '2020-03-04', '2020-03-05', '2020-03-06',\n",
       "                          '2020-03-07', '2020-03-08', '2020-03-09', '2020-03-10', '2020-03-11',\n",
       "                          '2020-03-12', '2020-03-13', '2020-03-14', '2020-03-15', '2020-03-16',\n",
       "                          '2020-03-17', '2020-03-18', '2020-03-19', '2020-03-20', '2020-03-21',\n",
       "                          '2020-03-22', '2020-03-23', '2020-03-24', '2020-03-25', '2020-03-26',\n",
       "                          '2020-03-27', '2020-03-28', '2020-03-29', '2020-03-30', '2020-03-31',\n",
       "                          '2020-04-01', '2020-04-02', '2020-04-03', '2020-04-04', '2020-04-05',\n",
       "                          '2020-04-06', '2020-04-07', '2020-04-08', '2020-04-09', '2020-04-10',\n",
       "                          '2020-04-11', '2020-04-12', '2020-04-13', '2020-04-14', '2020-04-15',\n",
       "                          '2020-04-16', '2020-04-17', '2020-04-18', '2020-04-19', '2020-04-20',\n",
       "                          '2020-04-21', '2020-04-22', '2020-04-23', '2020-04-24', '2020-04-25',\n",
       "                          '2020-04-26', '2020-04-27', '2020-04-28', '2020-04-29', '2020-04-30',\n",
       "                          '2020-05-01', '2020-05-02', '2020-05-03', '2020-05-04', '2020-05-05',\n",
       "                          '2020-05-06', '2020-05-07', '2020-05-08', '2020-05-09', '2020-05-10',\n",
       "                          '2020-05-11', '2020-05-12', '2020-05-13', '2020-05-14', '2020-05-15',\n",
       "                          '2020-05-16', '2020-05-17', '2020-05-18', '2020-05-19', '2020-05-20',\n",
       "                          '2020-05-21', '2020-05-22', '2020-05-23', '2020-05-24', '2020-05-25',\n",
       "                          '2020-05-26', '2020-05-27', '2020-05-28', '2020-05-29', '2020-05-30',\n",
       "                          '2020-05-31', '2020-06-01', '2020-06-02', '2020-06-03', '2020-06-04',\n",
       "                          '2020-06-05', '2020-06-06', '2020-06-07', '2020-06-08', '2020-06-09',\n",
       "                          '2020-06-10', '2020-06-11', '2020-06-12', '2020-06-13', '2020-06-14',\n",
       "                          '2020-06-15', '2020-06-16', '2020-06-17', '2020-06-18', '2020-06-19',\n",
       "                          '2020-06-20', '2020-06-21', '2020-06-22', '2020-06-23', '2020-06-24',\n",
       "                          '2020-06-25', '2020-06-26', '2020-06-27', '2020-06-28', '2020-06-29',\n",
       "                          '2020-06-30', '2020-07-01', '2020-07-02', '2020-07-03', '2020-07-04',\n",
       "                          '2020-07-05', '2020-07-06', '2020-07-07', '2020-07-08', '2020-07-09',\n",
       "                          '2020-07-10', '2020-07-11', '2020-07-12', '2020-07-13', '2020-07-14',\n",
       "                          '2020-07-15', '2020-07-16', '2020-07-17', '2020-07-18', '2020-07-19',\n",
       "                          '2020-07-20', '2020-07-21', '2020-07-22', '2020-07-23', '2020-07-24',\n",
       "                          '2020-07-25', '2020-07-26', '2020-07-27'], dtype=object),\n",
       "              'xaxis': 'x',\n",
       "              'y': array([    17,     18,     26,     42,     56,     82,    131,    133,    171,\n",
       "                             213,    259,    362,    426,    492,    564,    634,    719,    806,\n",
       "                             906,   1013,   1113,   1118,   1371,   1523,   1666,   1770,   1868,\n",
       "                            2008,   2123,   2246,   2250,   2457,   2467,   2627,   2707,   2767,\n",
       "                            2810,   2867,   2936,   2990,   3079,   3154,   3249,   3342,   3454,\n",
       "                            3553,   3797,   3981,   4260,   4604,   4909,   5406,   5823,   6464,\n",
       "                            7144,   7948,   8845,   9951,  11429,  13134,  14831,  16748,  19016,\n",
       "                           21793,  24800,  28318,  31997,  35470,  39634,  44478,  50029,  56334,\n",
       "                           62319,  68160,  73181,  79013,  86915,  93650, 101279, 108551, 114620,\n",
       "                          120351, 126098, 132996, 141308, 148591, 157481, 163952, 168522, 173965,\n",
       "                          181122, 187877, 194727, 201401, 206979, 210862, 215511, 221974, 228742,\n",
       "                          234704, 239881, 245206, 248659, 252787, 258658, 265327, 270736, 276304,\n",
       "                          280569, 284135, 287608, 293155, 298383, 303651, 308866, 313037, 316366,\n",
       "                          319657, 324441, 329326, 334112, 339396, 343385, 346525, 347703, 351906,\n",
       "                          357119, 361820, 366562, 370718, 373606, 376674, 381497, 387069, 392218,\n",
       "                          396994, 400875, 403617, 407314, 412236, 417441, 422215, 426512, 430750,\n",
       "                          434124, 437549, 444416, 449671, 454700, 460973, 465222, 469185, 472756,\n",
       "                          478067, 483328, 489955, 494782, 499268, 502357, 506078, 511210, 516221,\n",
       "                          521341, 526336, 530705, 534150, 537947, 544054, 549373, 554831, 560142,\n",
       "                          565039, 568993, 572808, 578468, 583961, 589760, 596503, 602130, 606159,\n",
       "                          610319, 616557, 623540, 633506, 639650, 644517, 648621, 654036]),\n",
       "              'yaxis': 'y'},\n",
       "             {'hovertemplate': 'variable=Recovered<br>Date=%{x}<br>value=%{y}<extra></extra>',\n",
       "              'legendgroup': 'Recovered',\n",
       "              'line': {'color': '#00cc96', 'dash': 'solid'},\n",
       "              'marker': {'symbol': 'circle'},\n",
       "              'mode': 'lines',\n",
       "              'name': 'Recovered',\n",
       "              'orientation': 'v',\n",
       "              'showlegend': True,\n",
       "              'type': 'scatter',\n",
       "              'x': array(['2020-01-22', '2020-01-23', '2020-01-24', '2020-01-25', '2020-01-26',\n",
       "                          '2020-01-27', '2020-01-28', '2020-01-29', '2020-01-30', '2020-01-31',\n",
       "                          '2020-02-01', '2020-02-02', '2020-02-03', '2020-02-04', '2020-02-05',\n",
       "                          '2020-02-06', '2020-02-07', '2020-02-08', '2020-02-09', '2020-02-10',\n",
       "                          '2020-02-11', '2020-02-12', '2020-02-13', '2020-02-14', '2020-02-15',\n",
       "                          '2020-02-16', '2020-02-17', '2020-02-18', '2020-02-19', '2020-02-20',\n",
       "                          '2020-02-21', '2020-02-22', '2020-02-23', '2020-02-24', '2020-02-25',\n",
       "                          '2020-02-26', '2020-02-27', '2020-02-28', '2020-02-29', '2020-03-01',\n",
       "                          '2020-03-02', '2020-03-03', '2020-03-04', '2020-03-05', '2020-03-06',\n",
       "                          '2020-03-07', '2020-03-08', '2020-03-09', '2020-03-10', '2020-03-11',\n",
       "                          '2020-03-12', '2020-03-13', '2020-03-14', '2020-03-15', '2020-03-16',\n",
       "                          '2020-03-17', '2020-03-18', '2020-03-19', '2020-03-20', '2020-03-21',\n",
       "                          '2020-03-22', '2020-03-23', '2020-03-24', '2020-03-25', '2020-03-26',\n",
       "                          '2020-03-27', '2020-03-28', '2020-03-29', '2020-03-30', '2020-03-31',\n",
       "                          '2020-04-01', '2020-04-02', '2020-04-03', '2020-04-04', '2020-04-05',\n",
       "                          '2020-04-06', '2020-04-07', '2020-04-08', '2020-04-09', '2020-04-10',\n",
       "                          '2020-04-11', '2020-04-12', '2020-04-13', '2020-04-14', '2020-04-15',\n",
       "                          '2020-04-16', '2020-04-17', '2020-04-18', '2020-04-19', '2020-04-20',\n",
       "                          '2020-04-21', '2020-04-22', '2020-04-23', '2020-04-24', '2020-04-25',\n",
       "                          '2020-04-26', '2020-04-27', '2020-04-28', '2020-04-29', '2020-04-30',\n",
       "                          '2020-05-01', '2020-05-02', '2020-05-03', '2020-05-04', '2020-05-05',\n",
       "                          '2020-05-06', '2020-05-07', '2020-05-08', '2020-05-09', '2020-05-10',\n",
       "                          '2020-05-11', '2020-05-12', '2020-05-13', '2020-05-14', '2020-05-15',\n",
       "                          '2020-05-16', '2020-05-17', '2020-05-18', '2020-05-19', '2020-05-20',\n",
       "                          '2020-05-21', '2020-05-22', '2020-05-23', '2020-05-24', '2020-05-25',\n",
       "                          '2020-05-26', '2020-05-27', '2020-05-28', '2020-05-29', '2020-05-30',\n",
       "                          '2020-05-31', '2020-06-01', '2020-06-02', '2020-06-03', '2020-06-04',\n",
       "                          '2020-06-05', '2020-06-06', '2020-06-07', '2020-06-08', '2020-06-09',\n",
       "                          '2020-06-10', '2020-06-11', '2020-06-12', '2020-06-13', '2020-06-14',\n",
       "                          '2020-06-15', '2020-06-16', '2020-06-17', '2020-06-18', '2020-06-19',\n",
       "                          '2020-06-20', '2020-06-21', '2020-06-22', '2020-06-23', '2020-06-24',\n",
       "                          '2020-06-25', '2020-06-26', '2020-06-27', '2020-06-28', '2020-06-29',\n",
       "                          '2020-06-30', '2020-07-01', '2020-07-02', '2020-07-03', '2020-07-04',\n",
       "                          '2020-07-05', '2020-07-06', '2020-07-07', '2020-07-08', '2020-07-09',\n",
       "                          '2020-07-10', '2020-07-11', '2020-07-12', '2020-07-13', '2020-07-14',\n",
       "                          '2020-07-15', '2020-07-16', '2020-07-17', '2020-07-18', '2020-07-19',\n",
       "                          '2020-07-20', '2020-07-21', '2020-07-22', '2020-07-23', '2020-07-24',\n",
       "                          '2020-07-25', '2020-07-26', '2020-07-27'], dtype=object),\n",
       "              'xaxis': 'x',\n",
       "              'y': array([     28,      30,      36,      39,      52,      61,     107,     125,\n",
       "                              141,     219,     281,     459,     604,     821,    1071,    1418,\n",
       "                             1903,    2470,    3057,    3714,    4417,    4849,    5930,    7613,\n",
       "                             8902,   10319,   11951,   13693,   15394,   17369,   17966,   21849,\n",
       "                            22304,   24047,   26652,   29077,   31919,   35306,   38314,   41208,\n",
       "                            44085,   46681,   49619,   52237,   54270,   56760,   59092,   60891,\n",
       "                            62802,   65113,   66434,   68359,   70729,   74139,   76192,   78944,\n",
       "                            81427,   83064,   85509,   89775,   95990,   96456,  105997,  111445,\n",
       "                           119804,  128508,  136800,  146261,  161707,  174074,  189434,  206052,\n",
       "                           221060,  241072,  254477,  270812,  293665,  322017,  346349,  367477,\n",
       "                           392991,  411864,  438395,  463014,  498925,  529015,  554287,  577789,\n",
       "                           608557,  629862,  664043,  693207,  721689,  771329,  798239,  825969,\n",
       "                           852382,  884680,  925752,  989616, 1026501, 1066362, 1097577, 1130526,\n",
       "                          1166155, 1210894, 1249311, 1284849, 1337367, 1370108, 1416204, 1452191,\n",
       "                          1506905, 1545712, 1592880, 1648546, 1688699, 1740909, 1792256, 1850441,\n",
       "                          1900768, 2008541, 2062802, 2117555, 2180605, 2235118, 2297613, 2363746,\n",
       "                          2440127, 2509981, 2585589, 2639599, 2743083, 2821430, 2890776, 2959037,\n",
       "                          3030214, 3084718, 3235640, 3317121, 3395154, 3480121, 3558933, 3644048,\n",
       "                          3714006, 3793406, 3890800, 4008201, 4088826, 4183298, 4298603, 4366875,\n",
       "                          4458093, 4561696, 4677005, 4769458, 4875774, 4981808, 5070592, 5164494,\n",
       "                          5281459, 5397083, 5681477, 5790942, 5986375, 6105546, 6228768, 6373513,\n",
       "                          6531016, 6665237, 6804254, 6929711, 7041174, 7181139, 7322897, 7482320,\n",
       "                          7634241, 7793760, 7944550, 8032235, 8190777, 8364986, 8541255, 8710969,\n",
       "                          8939705, 9158743, 9293464, 9468087]),\n",
       "              'yaxis': 'y'},\n",
       "             {'hovertemplate': 'variable=Active<br>Date=%{x}<br>value=%{y}<extra></extra>',\n",
       "              'legendgroup': 'Active',\n",
       "              'line': {'color': '#ab63fa', 'dash': 'solid'},\n",
       "              'marker': {'symbol': 'circle'},\n",
       "              'mode': 'lines',\n",
       "              'name': 'Active',\n",
       "              'orientation': 'v',\n",
       "              'showlegend': True,\n",
       "              'type': 'scatter',\n",
       "              'x': array(['2020-01-22', '2020-01-23', '2020-01-24', '2020-01-25', '2020-01-26',\n",
       "                          '2020-01-27', '2020-01-28', '2020-01-29', '2020-01-30', '2020-01-31',\n",
       "                          '2020-02-01', '2020-02-02', '2020-02-03', '2020-02-04', '2020-02-05',\n",
       "                          '2020-02-06', '2020-02-07', '2020-02-08', '2020-02-09', '2020-02-10',\n",
       "                          '2020-02-11', '2020-02-12', '2020-02-13', '2020-02-14', '2020-02-15',\n",
       "                          '2020-02-16', '2020-02-17', '2020-02-18', '2020-02-19', '2020-02-20',\n",
       "                          '2020-02-21', '2020-02-22', '2020-02-23', '2020-02-24', '2020-02-25',\n",
       "                          '2020-02-26', '2020-02-27', '2020-02-28', '2020-02-29', '2020-03-01',\n",
       "                          '2020-03-02', '2020-03-03', '2020-03-04', '2020-03-05', '2020-03-06',\n",
       "                          '2020-03-07', '2020-03-08', '2020-03-09', '2020-03-10', '2020-03-11',\n",
       "                          '2020-03-12', '2020-03-13', '2020-03-14', '2020-03-15', '2020-03-16',\n",
       "                          '2020-03-17', '2020-03-18', '2020-03-19', '2020-03-20', '2020-03-21',\n",
       "                          '2020-03-22', '2020-03-23', '2020-03-24', '2020-03-25', '2020-03-26',\n",
       "                          '2020-03-27', '2020-03-28', '2020-03-29', '2020-03-30', '2020-03-31',\n",
       "                          '2020-04-01', '2020-04-02', '2020-04-03', '2020-04-04', '2020-04-05',\n",
       "                          '2020-04-06', '2020-04-07', '2020-04-08', '2020-04-09', '2020-04-10',\n",
       "                          '2020-04-11', '2020-04-12', '2020-04-13', '2020-04-14', '2020-04-15',\n",
       "                          '2020-04-16', '2020-04-17', '2020-04-18', '2020-04-19', '2020-04-20',\n",
       "                          '2020-04-21', '2020-04-22', '2020-04-23', '2020-04-24', '2020-04-25',\n",
       "                          '2020-04-26', '2020-04-27', '2020-04-28', '2020-04-29', '2020-04-30',\n",
       "                          '2020-05-01', '2020-05-02', '2020-05-03', '2020-05-04', '2020-05-05',\n",
       "                          '2020-05-06', '2020-05-07', '2020-05-08', '2020-05-09', '2020-05-10',\n",
       "                          '2020-05-11', '2020-05-12', '2020-05-13', '2020-05-14', '2020-05-15',\n",
       "                          '2020-05-16', '2020-05-17', '2020-05-18', '2020-05-19', '2020-05-20',\n",
       "                          '2020-05-21', '2020-05-22', '2020-05-23', '2020-05-24', '2020-05-25',\n",
       "                          '2020-05-26', '2020-05-27', '2020-05-28', '2020-05-29', '2020-05-30',\n",
       "                          '2020-05-31', '2020-06-01', '2020-06-02', '2020-06-03', '2020-06-04',\n",
       "                          '2020-06-05', '2020-06-06', '2020-06-07', '2020-06-08', '2020-06-09',\n",
       "                          '2020-06-10', '2020-06-11', '2020-06-12', '2020-06-13', '2020-06-14',\n",
       "                          '2020-06-15', '2020-06-16', '2020-06-17', '2020-06-18', '2020-06-19',\n",
       "                          '2020-06-20', '2020-06-21', '2020-06-22', '2020-06-23', '2020-06-24',\n",
       "                          '2020-06-25', '2020-06-26', '2020-06-27', '2020-06-28', '2020-06-29',\n",
       "                          '2020-06-30', '2020-07-01', '2020-07-02', '2020-07-03', '2020-07-04',\n",
       "                          '2020-07-05', '2020-07-06', '2020-07-07', '2020-07-08', '2020-07-09',\n",
       "                          '2020-07-10', '2020-07-11', '2020-07-12', '2020-07-13', '2020-07-14',\n",
       "                          '2020-07-15', '2020-07-16', '2020-07-17', '2020-07-18', '2020-07-19',\n",
       "                          '2020-07-20', '2020-07-21', '2020-07-22', '2020-07-23', '2020-07-24',\n",
       "                          '2020-07-25', '2020-07-26', '2020-07-27'], dtype=object),\n",
       "              'xaxis': 'x',\n",
       "              'y': array([    510,     606,     879,    1353,    2010,    2784,    5340,    5908,\n",
       "                             7922,    9495,   11498,   15966,   18857,   22585,   26008,   28750,\n",
       "                            31712,   33792,   36132,   37906,   39145,   40594,   52905,   57554,\n",
       "                            58197,   58790,   58996,   58908,   57513,   55962,   55990,   53661,\n",
       "                            53519,   52180,   50348,   48826,   47305,   45238,   44056,   43492,\n",
       "                            42500,   42406,   41672,   41752,   43550,   44999,   46377,   48294,\n",
       "                            51128,   56136,   60260,   72243,   80562,   87657,   99583,  111865,\n",
       "                           128071,  153246,  178931,  205266,  230764,  270546,  299876,  342468,\n",
       "                           394062,  446240,  501926,  548569,  593598,  652803,  708106,  766582,\n",
       "                           828744,  883354,  936646,  987151, 1033269, 1081957, 1136621, 1195879,\n",
       "                          1241261, 1313438, 1350754, 1389164, 1425770, 1485109, 1538671, 1582655,\n",
       "                          1627840, 1674431, 1708343, 1749230, 1802911, 1833537, 1885981, 1927315,\n",
       "                          1964957, 2001495, 2030701, 2044556, 2089540, 2126040, 2169008, 2208008,\n",
       "                          2246497, 2285111, 2330371, 2380782, 2409845, 2449784, 2476456, 2518521,\n",
       "                          2543331, 2596361, 2640327, 2675902, 2710929, 2743712, 2784005, 2823963,\n",
       "                          2875184, 2869027, 2916066, 2953499, 2976234, 3010040, 3044932, 3093412,\n",
       "                          3133456, 3197279, 3226335, 3264452, 3276956, 3312425, 3364867, 3422693,\n",
       "                          3483577, 3538590, 3486196, 3524135, 3574922, 3623295, 3669280, 3715937,\n",
       "                          3776026, 3812839, 3849981, 3869178, 3923452, 4003513, 4041511, 4097815,\n",
       "                          4140884, 4197308, 4247921, 4326728, 4406931, 4474521, 4544278, 4605227,\n",
       "                          4657028, 4754082, 4672273, 4761307, 4755072, 4815151, 4855475, 4915467,\n",
       "                          4964447, 5052995, 5141244, 5227218, 5304469, 5353468, 5427502, 5493703,\n",
       "                          5588524, 5664300, 5745518, 5868451, 5912527, 5965535, 6062930, 6166006,\n",
       "                          6212290, 6243930, 6309711, 6358362]),\n",
       "              'yaxis': 'y'}],\n",
       "    'layout': {'legend': {'title': {'text': 'variable'}, 'tracegroupgap': 0},\n",
       "               'template': '...',\n",
       "               'title': {'text': 'Covid caes wrt to date'},\n",
       "               'xaxis': {'anchor': 'y', 'domain': [0.0, 1.0], 'title': {'text': 'Date'}},\n",
       "               'yaxis': {'anchor': 'x', 'domain': [0.0, 1.0], 'title': {'text': 'value'}}}\n",
       "})"
      ]
     },
     "execution_count": 90,
     "metadata": {},
     "output_type": "execute_result"
    }
   ],
   "source": [
    "# time series\n",
    "px.line(day_wise_data, x='Date', y=['Confirmed', 'Deaths', 'Recovered','Active'],\n",
    "        title='Covid caes wrt to date', template='plotly_dark')"
   ]
  },
  {
   "cell_type": "code",
   "execution_count": 78,
   "metadata": {},
   "outputs": [
    {
     "data": {
      "text/plain": [
       "Index(['Date', 'Confirmed', 'Deaths', 'Recovered', 'Active', 'New cases',\n",
       "       'New deaths', 'New recovered', 'Deaths / 100 Cases',\n",
       "       'Recovered / 100 Cases', 'Deaths / 100 Recovered', 'No. of countries'],\n",
       "      dtype='object')"
      ]
     },
     "execution_count": 78,
     "metadata": {},
     "output_type": "execute_result"
    }
   ],
   "source": [
    "day_wise_data.columns"
   ]
  },
  {
   "cell_type": "code",
   "execution_count": 88,
   "metadata": {},
   "outputs": [
    {
     "name": "stdout",
     "output_type": "stream",
     "text": [
      "<class 'pandas.core.frame.DataFrame'>\n",
      "RangeIndex: 188 entries, 0 to 187\n",
      "Data columns (total 12 columns):\n",
      " #   Column                  Non-Null Count  Dtype  \n",
      "---  ------                  --------------  -----  \n",
      " 0   Date                    188 non-null    object \n",
      " 1   Confirmed               188 non-null    int64  \n",
      " 2   Deaths                  188 non-null    int64  \n",
      " 3   Recovered               188 non-null    int64  \n",
      " 4   Active                  188 non-null    int64  \n",
      " 5   New cases               188 non-null    int64  \n",
      " 6   New deaths              188 non-null    int64  \n",
      " 7   New recovered           188 non-null    int64  \n",
      " 8   Deaths / 100 Cases      188 non-null    float64\n",
      " 9   Recovered / 100 Cases   188 non-null    float64\n",
      " 10  Deaths / 100 Recovered  188 non-null    float64\n",
      " 11  No. of countries        188 non-null    int64  \n",
      "dtypes: float64(3), int64(8), object(1)\n",
      "memory usage: 17.8+ KB\n"
     ]
    }
   ],
   "source": [
    "day_wise_data.info()"
   ]
  },
  {
   "cell_type": "code",
   "execution_count": null,
   "metadata": {},
   "outputs": [],
   "source": []
  },
  {
   "cell_type": "code",
   "execution_count": null,
   "metadata": {},
   "outputs": [],
   "source": []
  },
  {
   "cell_type": "code",
   "execution_count": null,
   "metadata": {},
   "outputs": [],
   "source": []
  }
 ],
 "metadata": {
  "kernelspec": {
   "display_name": "venv",
   "language": "python",
   "name": "python3"
  },
  "language_info": {
   "codemirror_mode": {
    "name": "ipython",
    "version": 3
   },
   "file_extension": ".py",
   "mimetype": "text/x-python",
   "name": "python",
   "nbconvert_exporter": "python",
   "pygments_lexer": "ipython3",
   "version": "3.10.0"
  }
 },
 "nbformat": 4,
 "nbformat_minor": 2
}
