{
 "cells": [
  {
   "cell_type": "markdown",
   "metadata": {},
   "source": [
    "# uber Data Analysis"
   ]
  },
  {
   "cell_type": "code",
   "execution_count": 1,
   "metadata": {},
   "outputs": [],
   "source": [
    "# Imports all the libraries\n",
    "import numpy as np\n",
    "import pandas as pd\n",
    "import matplotlib.pyplot as plt\n",
    "import plotly.express as px\n",
    "import seaborn as sns\n",
    "import os"
   ]
  },
  {
   "cell_type": "code",
   "execution_count": 2,
   "metadata": {},
   "outputs": [],
   "source": [
    "files = os.listdir(r'E:\\ML-Bootcamp-Practical\\Data Analysis Projects\\data\\uber')"
   ]
  },
  {
   "cell_type": "code",
   "execution_count": 5,
   "metadata": {},
   "outputs": [],
   "source": [
    "# import all the dataset and make a final data\n",
    "\n",
    "data = pd.DataFrame()\n",
    "for file in files:\n",
    "    single_data = pd.read_csv('./data/uber/' + file, encoding='utf-8')\n",
    "    data = pd.concat([single_data, data])"
   ]
  },
  {
   "cell_type": "code",
   "execution_count": 7,
   "metadata": {},
   "outputs": [],
   "source": [
    "data.to_csv('./data/uber/merged_data.csv', index=False, encoding='utf-8')"
   ]
  },
  {
   "cell_type": "markdown",
   "metadata": {},
   "source": [
    "# Now We Start Data analysis\n",
    "#### 1. Prepare out data"
   ]
  },
  {
   "cell_type": "code",
   "execution_count": 31,
   "metadata": {},
   "outputs": [
    {
     "data": {
      "text/html": [
       "<div>\n",
       "<style scoped>\n",
       "    .dataframe tbody tr th:only-of-type {\n",
       "        vertical-align: middle;\n",
       "    }\n",
       "\n",
       "    .dataframe tbody tr th {\n",
       "        vertical-align: top;\n",
       "    }\n",
       "\n",
       "    .dataframe thead th {\n",
       "        text-align: right;\n",
       "    }\n",
       "</style>\n",
       "<table border=\"1\" class=\"dataframe\">\n",
       "  <thead>\n",
       "    <tr style=\"text-align: right;\">\n",
       "      <th></th>\n",
       "      <th>Date/Time</th>\n",
       "      <th>Lat</th>\n",
       "      <th>Lon</th>\n",
       "      <th>Base</th>\n",
       "    </tr>\n",
       "  </thead>\n",
       "  <tbody>\n",
       "    <tr>\n",
       "      <th>0</th>\n",
       "      <td>9/1/2014 0:01:00</td>\n",
       "      <td>40.2201</td>\n",
       "      <td>-74.0021</td>\n",
       "      <td>B02512</td>\n",
       "    </tr>\n",
       "    <tr>\n",
       "      <th>1</th>\n",
       "      <td>9/1/2014 0:01:00</td>\n",
       "      <td>40.7500</td>\n",
       "      <td>-74.0027</td>\n",
       "      <td>B02512</td>\n",
       "    </tr>\n",
       "    <tr>\n",
       "      <th>2</th>\n",
       "      <td>9/1/2014 0:03:00</td>\n",
       "      <td>40.7559</td>\n",
       "      <td>-73.9864</td>\n",
       "      <td>B02512</td>\n",
       "    </tr>\n",
       "    <tr>\n",
       "      <th>3</th>\n",
       "      <td>9/1/2014 0:06:00</td>\n",
       "      <td>40.7450</td>\n",
       "      <td>-73.9889</td>\n",
       "      <td>B02512</td>\n",
       "    </tr>\n",
       "    <tr>\n",
       "      <th>4</th>\n",
       "      <td>9/1/2014 0:11:00</td>\n",
       "      <td>40.8145</td>\n",
       "      <td>-73.9444</td>\n",
       "      <td>B02512</td>\n",
       "    </tr>\n",
       "  </tbody>\n",
       "</table>\n",
       "</div>"
      ],
      "text/plain": [
       "          Date/Time      Lat      Lon    Base\n",
       "0  9/1/2014 0:01:00  40.2201 -74.0021  B02512\n",
       "1  9/1/2014 0:01:00  40.7500 -74.0027  B02512\n",
       "2  9/1/2014 0:03:00  40.7559 -73.9864  B02512\n",
       "3  9/1/2014 0:06:00  40.7450 -73.9889  B02512\n",
       "4  9/1/2014 0:11:00  40.8145 -73.9444  B02512"
      ]
     },
     "execution_count": 31,
     "metadata": {},
     "output_type": "execute_result"
    }
   ],
   "source": [
    "# import dataset\n",
    "\n",
    "data = pd.read_csv('./data/uber/merged_data.csv')\n",
    "data.head(5)"
   ]
  },
  {
   "cell_type": "code",
   "execution_count": 15,
   "metadata": {},
   "outputs": [
    {
     "data": {
      "text/plain": [
       "Date/Time     object\n",
       "Lat          float64\n",
       "Lon          float64\n",
       "Base          object\n",
       "dtype: object"
      ]
     },
     "execution_count": 15,
     "metadata": {},
     "output_type": "execute_result"
    }
   ],
   "source": [
    "# here all the infos of our datasets\n",
    "\n",
    "# data.head(5)\n",
    "# data.info()\n",
    "# data.isnull().sum()\n",
    "# data.describe()\n",
    "data.dtypes"
   ]
  },
  {
   "cell_type": "code",
   "execution_count": 32,
   "metadata": {},
   "outputs": [],
   "source": [
    "data['Date/Time'] = pd.to_datetime(data['Date/Time'], format='%m/%d/%Y %H:%M:%S', errors='coerce')"
   ]
  },
  {
   "cell_type": "code",
   "execution_count": 49,
   "metadata": {},
   "outputs": [
    {
     "data": {
      "text/plain": [
       "Date/Time    datetime64[ns]\n",
       "Lat                 float64\n",
       "Lon                 float64\n",
       "Base                 object\n",
       "Days                 object\n",
       "Day                   int32\n",
       "Hour                  int32\n",
       "Minute                int32\n",
       "Second                int32\n",
       "Month                 int32\n",
       "dtype: object"
      ]
     },
     "execution_count": 49,
     "metadata": {},
     "output_type": "execute_result"
    }
   ],
   "source": [
    "data.dtypes\n",
    "# data.head()"
   ]
  },
  {
   "cell_type": "code",
   "execution_count": 42,
   "metadata": {},
   "outputs": [],
   "source": [
    "# data['WeekDay'] = data['Date/Time'].dt.day_name()\n",
    "data['Day'] = data['Date/Time'].dt.day\n",
    "data['Hour'] = data['Date/Time'].dt.hour\n",
    "data['Minute'] = data['Date/Time'].dt.minute\n",
    "data['Second'] = data['Date/Time'].dt.second"
   ]
  },
  {
   "cell_type": "code",
   "execution_count": 48,
   "metadata": {},
   "outputs": [
    {
     "data": {
      "text/html": [
       "<div>\n",
       "<style scoped>\n",
       "    .dataframe tbody tr th:only-of-type {\n",
       "        vertical-align: middle;\n",
       "    }\n",
       "\n",
       "    .dataframe tbody tr th {\n",
       "        vertical-align: top;\n",
       "    }\n",
       "\n",
       "    .dataframe thead th {\n",
       "        text-align: right;\n",
       "    }\n",
       "</style>\n",
       "<table border=\"1\" class=\"dataframe\">\n",
       "  <thead>\n",
       "    <tr style=\"text-align: right;\">\n",
       "      <th></th>\n",
       "      <th>Date/Time</th>\n",
       "      <th>Lat</th>\n",
       "      <th>Lon</th>\n",
       "      <th>Base</th>\n",
       "      <th>Days</th>\n",
       "      <th>Day</th>\n",
       "      <th>Hour</th>\n",
       "      <th>Minute</th>\n",
       "      <th>Second</th>\n",
       "      <th>Month</th>\n",
       "    </tr>\n",
       "  </thead>\n",
       "  <tbody>\n",
       "    <tr>\n",
       "      <th>0</th>\n",
       "      <td>2014-09-01 00:01:00</td>\n",
       "      <td>40.2201</td>\n",
       "      <td>-74.0021</td>\n",
       "      <td>B02512</td>\n",
       "      <td>Monday</td>\n",
       "      <td>1</td>\n",
       "      <td>0</td>\n",
       "      <td>1</td>\n",
       "      <td>0</td>\n",
       "      <td>9</td>\n",
       "    </tr>\n",
       "    <tr>\n",
       "      <th>1</th>\n",
       "      <td>2014-09-01 00:01:00</td>\n",
       "      <td>40.7500</td>\n",
       "      <td>-74.0027</td>\n",
       "      <td>B02512</td>\n",
       "      <td>Monday</td>\n",
       "      <td>1</td>\n",
       "      <td>0</td>\n",
       "      <td>1</td>\n",
       "      <td>0</td>\n",
       "      <td>9</td>\n",
       "    </tr>\n",
       "    <tr>\n",
       "      <th>2</th>\n",
       "      <td>2014-09-01 00:03:00</td>\n",
       "      <td>40.7559</td>\n",
       "      <td>-73.9864</td>\n",
       "      <td>B02512</td>\n",
       "      <td>Monday</td>\n",
       "      <td>1</td>\n",
       "      <td>0</td>\n",
       "      <td>3</td>\n",
       "      <td>0</td>\n",
       "      <td>9</td>\n",
       "    </tr>\n",
       "    <tr>\n",
       "      <th>3</th>\n",
       "      <td>2014-09-01 00:06:00</td>\n",
       "      <td>40.7450</td>\n",
       "      <td>-73.9889</td>\n",
       "      <td>B02512</td>\n",
       "      <td>Monday</td>\n",
       "      <td>1</td>\n",
       "      <td>0</td>\n",
       "      <td>6</td>\n",
       "      <td>0</td>\n",
       "      <td>9</td>\n",
       "    </tr>\n",
       "    <tr>\n",
       "      <th>4</th>\n",
       "      <td>2014-09-01 00:11:00</td>\n",
       "      <td>40.8145</td>\n",
       "      <td>-73.9444</td>\n",
       "      <td>B02512</td>\n",
       "      <td>Monday</td>\n",
       "      <td>1</td>\n",
       "      <td>0</td>\n",
       "      <td>11</td>\n",
       "      <td>0</td>\n",
       "      <td>9</td>\n",
       "    </tr>\n",
       "  </tbody>\n",
       "</table>\n",
       "</div>"
      ],
      "text/plain": [
       "            Date/Time      Lat      Lon    Base    Days  Day  Hour  Minute  \\\n",
       "0 2014-09-01 00:01:00  40.2201 -74.0021  B02512  Monday    1     0       1   \n",
       "1 2014-09-01 00:01:00  40.7500 -74.0027  B02512  Monday    1     0       1   \n",
       "2 2014-09-01 00:03:00  40.7559 -73.9864  B02512  Monday    1     0       3   \n",
       "3 2014-09-01 00:06:00  40.7450 -73.9889  B02512  Monday    1     0       6   \n",
       "4 2014-09-01 00:11:00  40.8145 -73.9444  B02512  Monday    1     0      11   \n",
       "\n",
       "   Second  Month  \n",
       "0       0      9  \n",
       "1       0      9  \n",
       "2       0      9  \n",
       "3       0      9  \n",
       "4       0      9  "
      ]
     },
     "execution_count": 48,
     "metadata": {},
     "output_type": "execute_result"
    }
   ],
   "source": [
    "data.head()\n",
    "# data['Month'] = data['Date/Time'].dt.month"
   ]
  }
 ],
 "metadata": {
  "kernelspec": {
   "display_name": "venv",
   "language": "python",
   "name": "python3"
  },
  "language_info": {
   "codemirror_mode": {
    "name": "ipython",
    "version": 3
   },
   "file_extension": ".py",
   "mimetype": "text/x-python",
   "name": "python",
   "nbconvert_exporter": "python",
   "pygments_lexer": "ipython3",
   "version": "3.10.0"
  }
 },
 "nbformat": 4,
 "nbformat_minor": 2
}
