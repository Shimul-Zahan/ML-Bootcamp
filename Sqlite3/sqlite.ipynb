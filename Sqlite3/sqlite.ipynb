{
 "cells": [
  {
   "cell_type": "code",
   "execution_count": 1,
   "metadata": {},
   "outputs": [],
   "source": [
    "import sqlite3"
   ]
  },
  {
   "cell_type": "code",
   "execution_count": 3,
   "metadata": {},
   "outputs": [
    {
     "data": {
      "text/plain": [
       "<sqlite3.Connection at 0x2ae19f11540>"
      ]
     },
     "execution_count": 3,
     "metadata": {},
     "output_type": "execute_result"
    }
   ],
   "source": [
    "# connect to SQLite database\n",
    "conection = sqlite3.connect('example.db')"
   ]
  },
  {
   "cell_type": "code",
   "execution_count": 5,
   "metadata": {},
   "outputs": [
    {
     "data": {
      "text/plain": [
       "<sqlite3.Cursor at 0x2ae19fb9dc0>"
      ]
     },
     "execution_count": 5,
     "metadata": {},
     "output_type": "execute_result"
    }
   ],
   "source": [
    "# make a cursor for iterate table or row or columns\n",
    "cursor = conection.cursor()"
   ]
  },
  {
   "cell_type": "code",
   "execution_count": 8,
   "metadata": {},
   "outputs": [],
   "source": [
    "# Create a table\n",
    "cursor.execute('''\n",
    "    Create Table if Not Exists Students(\n",
    "        id Integer Primary Key,\n",
    "        name Text Not Null,\n",
    "        age Integer,\n",
    "        department text\n",
    "    )\n",
    "''')\n",
    "\n",
    "# commiting this changes\n",
    "conection.commit()"
   ]
  },
  {
   "cell_type": "code",
   "execution_count": 13,
   "metadata": {},
   "outputs": [
    {
     "data": {
      "text/plain": [
       "<sqlite3.Cursor at 0x2ae19fb9dc0>"
      ]
     },
     "execution_count": 13,
     "metadata": {},
     "output_type": "execute_result"
    }
   ],
   "source": [
    "# select all\n",
    "cursor.execute('''\n",
    "    select * from students\n",
    "''')\n",
    "\n"
   ]
  },
  {
   "cell_type": "code",
   "execution_count": 12,
   "metadata": {},
   "outputs": [],
   "source": [
    "# insert the data in sqlite3\n",
    "cursor.execute(\n",
    "'''\n",
    "    insert into students(name, age, department)  values\n",
    "    ('Shimul', 25, 'CSE'),\n",
    "    ('A. Rahman', 24, 'EEE'),\n",
    "    ('Eleush', 35, 'ETE'),\n",
    "    ('Zahan', 25, 'CSE')\n",
    "'''\n",
    ")\n",
    "\n",
    "conection.commit()\n"
   ]
  },
  {
   "cell_type": "code",
   "execution_count": 23,
   "metadata": {},
   "outputs": [
    {
     "data": {
      "text/plain": [
       "[(1, 'Shimul', 25, 'CSE'),\n",
       " (2, 'A. Rahman', 24, 'EEE'),\n",
       " (3, 'Eleush', 35, 'ETE'),\n",
       " (5, 'Alif', 23, 'MAT'),\n",
       " (6, 'Jim', 22, 'STA'),\n",
       " (7, 'Jamila', 35, 'CSE'),\n",
       " (8, 'Sohan', 25, 'ARC')]"
      ]
     },
     "execution_count": 23,
     "metadata": {},
     "output_type": "execute_result"
    }
   ],
   "source": [
    "# Query any data from the students table\n",
    "cursor.execute('select * from students')\n",
    "rows = cursor.fetchall()\n",
    "rows"
   ]
  },
  {
   "cell_type": "code",
   "execution_count": 20,
   "metadata": {},
   "outputs": [],
   "source": [
    "cursor.execute('''\n",
    "    UPDATE students \n",
    "    SET name = 'Alif', age = 23, department = 'MAT' \n",
    "    WHERE id = 5;\n",
    "''')\n",
    "\n",
    "cursor.execute('''\n",
    "    UPDATE students \n",
    "    SET name = 'Jim', age = 22, department = 'STA' \n",
    "    WHERE id = 6;\n",
    "''')\n",
    "\n",
    "cursor.execute('''\n",
    "    UPDATE students \n",
    "    SET name = 'Jamila', department = 'CSE' \n",
    "    WHERE id = 7;\n",
    "''')\n",
    "\n",
    "cursor.execute('''\n",
    "    UPDATE students \n",
    "    SET name = 'Sohan', department = 'ARC' \n",
    "    WHERE id = 8;\n",
    "''')\n",
    "\n",
    "# Commit the changes to the database\n",
    "conection.commit()\n"
   ]
  },
  {
   "cell_type": "code",
   "execution_count": 22,
   "metadata": {},
   "outputs": [],
   "source": [
    "# delete the aata from the table\n",
    "cursor.execute('''\n",
    "    delete from students\n",
    "    where id=4\n",
    "''')\n",
    "\n",
    "# Commit the changes to the database\n",
    "conection.commit()\n"
   ]
  },
  {
   "cell_type": "code",
   "execution_count": 27,
   "metadata": {},
   "outputs": [
    {
     "name": "stdout",
     "output_type": "stream",
     "text": [
      "(1, 'Shimul', 25, 'CSE')\n",
      "(2, 'A. Rahman', 24, 'EEE')\n",
      "(3, 'Eleush', 35, 'ETE')\n",
      "(5, 'Alif', 23, 'MAT')\n",
      "(6, 'Jim', 22, 'STA')\n",
      "(7, 'Jamila', 35, 'CSE')\n",
      "(8, 'Sohan', 25, 'ARC')\n"
     ]
    }
   ],
   "source": [
    "rows\n",
    "\n",
    "for row in rows:\n",
    "    print(row)"
   ]
  }
 ],
 "metadata": {
  "kernelspec": {
   "display_name": "venv",
   "language": "python",
   "name": "python3"
  },
  "language_info": {
   "codemirror_mode": {
    "name": "ipython",
    "version": 3
   },
   "file_extension": ".py",
   "mimetype": "text/x-python",
   "name": "python",
   "nbconvert_exporter": "python",
   "pygments_lexer": "ipython3",
   "version": "3.10.0"
  }
 },
 "nbformat": 4,
 "nbformat_minor": 2
}
