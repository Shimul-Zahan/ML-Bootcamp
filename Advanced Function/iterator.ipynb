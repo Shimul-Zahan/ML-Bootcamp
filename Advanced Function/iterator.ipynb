{
 "cells": [
  {
   "cell_type": "code",
   "execution_count": 15,
   "metadata": {},
   "outputs": [],
   "source": [
    "# Here is iterato\n",
    "temp_list = list(range( 1, 6))"
   ]
  },
  {
   "cell_type": "code",
   "execution_count": 16,
   "metadata": {},
   "outputs": [
    {
     "name": "stdout",
     "output_type": "stream",
     "text": [
      "<list_iterator object at 0x000001AB7ABA8D60>\n"
     ]
    }
   ],
   "source": [
    "iterator = iter(temp_list)\n",
    "print(iterator)"
   ]
  },
  {
   "cell_type": "code",
   "execution_count": 23,
   "metadata": {},
   "outputs": [
    {
     "name": "stdout",
     "output_type": "stream",
     "text": [
      "No more item in the list\n",
      "No more item in the list\n",
      "No more item in the list\n",
      "No more item in the list\n",
      "No more item in the list\n"
     ]
    }
   ],
   "source": [
    "for _ in temp_list:\n",
    "    try:\n",
    "        print(next(iterator))\n",
    "    except:\n",
    "        print(\"No more item in the list\")"
   ]
  }
 ],
 "metadata": {
  "kernelspec": {
   "display_name": "venv",
   "language": "python",
   "name": "python3"
  },
  "language_info": {
   "codemirror_mode": {
    "name": "ipython",
    "version": 3
   },
   "file_extension": ".py",
   "mimetype": "text/x-python",
   "name": "python",
   "nbconvert_exporter": "python",
   "pygments_lexer": "ipython3",
   "version": "3.10.0"
  }
 },
 "nbformat": 4,
 "nbformat_minor": 2
}
