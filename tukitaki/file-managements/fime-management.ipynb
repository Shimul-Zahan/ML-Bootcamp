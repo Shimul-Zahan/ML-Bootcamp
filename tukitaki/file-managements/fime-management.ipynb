{
 "cells": [
  {
   "cell_type": "code",
   "execution_count": 5,
   "metadata": {},
   "outputs": [
    {
     "name": "stdout",
     "output_type": "stream",
     "text": [
      "['Hello', 'world,', 'how', 'are', 'you?']\n",
      "['come', 'and', 'meet', 'with', 'me.']\n",
      "['Ok,', 'Hello', 'World....']\n"
     ]
    }
   ],
   "source": [
    "# read whole file\n",
    "with open('../read-file-and-count-word/words.txt', 'r') as file:\n",
    "    content = file.read()\n",
    "    for c in content:\n",
    "        print(c)\n"
   ]
  },
  {
   "cell_type": "code",
   "execution_count": 8,
   "metadata": {},
   "outputs": [
    {
     "name": "stdout",
     "output_type": "stream",
     "text": [
      "Hello world, how are you?\n",
      "come and meet with me.\n",
      "Ok, Hello World....\n"
     ]
    }
   ],
   "source": [
    "with open('../read-file-and-count-word/words.txt', 'r') as file:\n",
    "    for row in file:\n",
    "        print(row.strip())  # for remove the new line"
   ]
  },
  {
   "cell_type": "code",
   "execution_count": 19,
   "metadata": {},
   "outputs": [],
   "source": [
    "# Wriiring in a file (overwritting)\n",
    "with open('../read-file-and-count-word/words.txt', 'w') as file: # w for write mode and r for read mode\n",
    "    file.write(\"Here is the new line one \\n\")\n",
    "    file.write(\"Here is the new line two \\n\")"
   ]
  },
  {
   "cell_type": "code",
   "execution_count": 18,
   "metadata": {},
   "outputs": [],
   "source": [
    "# Wriiring in a file (without overwritting)\n",
    "with open('../read-file-and-count-word/words.txt', 'a') as file: # a for append mode \n",
    "    file.write(\" Here is the new line one.\")"
   ]
  },
  {
   "cell_type": "code",
   "execution_count": 20,
   "metadata": {},
   "outputs": [],
   "source": [
    "# Writing list of lines in a file\n",
    "lines = [\n",
    "    \"Learn SQL basics\\n\",\n",
    "    \"Practice recursive queries\\n\",\n",
    "    \"Master SQL joins\\n\",\n",
    "    \"Understand window functions\\n\",\n",
    "    \"Review common interview questions\\n\"\n",
    "]\n",
    "\n",
    "# Writing the list of lines to a file\n",
    "\n",
    "with open('../read-file-and-count-word/words.txt', 'a') as file: # a for append mode \n",
    "    file.writelines(lines)"
   ]
  },
  {
   "cell_type": "code",
   "execution_count": 23,
   "metadata": {},
   "outputs": [],
   "source": [
    "# bninry file\n",
    "data = b\"Hello, this is binary data.\\nAnother line in binary format.\"\n",
    "\n",
    "# Writing binary data to a file\n",
    "with open('./test.bin', 'wb') as file:\n",
    "    file.write(data)\n"
   ]
  },
  {
   "cell_type": "code",
   "execution_count": 26,
   "metadata": {},
   "outputs": [],
   "source": [
    "with open('../read-file-and-count-word/words.txt', 'r') as source_file:\n",
    "    content = source_file.read()\n",
    "    \n",
    "with open('../read-file-and-count-word/destination.txt', 'w') as dest:\n",
    "    dest.write(content)"
   ]
  }
 ],
 "metadata": {
  "kernelspec": {
   "display_name": "venv",
   "language": "python",
   "name": "python3"
  },
  "language_info": {
   "codemirror_mode": {
    "name": "ipython",
    "version": 3
   },
   "file_extension": ".py",
   "mimetype": "text/x-python",
   "name": "python",
   "nbconvert_exporter": "python",
   "pygments_lexer": "ipython3",
   "version": "3.10.0"
  }
 },
 "nbformat": 4,
 "nbformat_minor": 2
}
