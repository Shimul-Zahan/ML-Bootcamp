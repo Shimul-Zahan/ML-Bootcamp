{
 "cells": [
  {
   "cell_type": "code",
   "execution_count": 6,
   "metadata": {},
   "outputs": [
    {
     "name": "stdout",
     "output_type": "stream",
     "text": [
      "Current Directory: e:\\ML-Bootcamp-Practical\\tukitaki\\file-managements\n",
      "Directory : packages created\n"
     ]
    }
   ],
   "source": [
    "# create a new directory\n",
    "\n",
    "import os\n",
    "\n",
    "# Get current working directory\n",
    "current_directory = os.getcwd()\n",
    "print(\"Current Directory:\", current_directory)\n",
    "\n",
    "new_dir = 'packages'\n",
    "os.mkdir(new_dir)\n",
    "print(f\"Directory : {new_dir} created\")"
   ]
  },
  {
   "cell_type": "code",
   "execution_count": 9,
   "metadata": {},
   "outputs": [
    {
     "name": "stdout",
     "output_type": "stream",
     "text": [
      "basic.ipynb\n",
      "comment.py\n",
      "datatypes.ipynb\n",
      "excersize.ipynb\n",
      "greetings.ipynb\n",
      "operators.ipynb\n",
      "variables.ipynb\n"
     ]
    }
   ],
   "source": [
    "# list all the files from a directory\n",
    "dirs = os.listdir('../../1-Python Basic')  # (.) means current directory\n",
    "for dir in dirs:\n",
    "    print(dir)"
   ]
  },
  {
   "cell_type": "code",
   "execution_count": 11,
   "metadata": {},
   "outputs": [
    {
     "name": "stdout",
     "output_type": "stream",
     "text": [
      "folder\\file.txt\n"
     ]
    }
   ],
   "source": [
    "# joining paths\n",
    "\n",
    "dir_name = 'folder'\n",
    "file_name = 'file.txt'\n",
    "full_path = os.path.join(dir_name, file_name)\n",
    "print(full_path)"
   ]
  },
  {
   "cell_type": "code",
   "execution_count": 14,
   "metadata": {},
   "outputs": [
    {
     "name": "stdout",
     "output_type": "stream",
     "text": [
      "e:\\ML-Bootcamp-Practical\\tukitaki\\file-managements\\folder\\file1.txt\n"
     ]
    }
   ],
   "source": [
    "dir_name = 'folder'\n",
    "file_name = 'file1.txt'\n",
    "full_path = os.path.join(os.getcwd(), dir_name, file_name)\n",
    "# if we want to create and new filder that parent folder doesn't exist\n",
    "os.makedirs(full_path, exist_ok=True)\n",
    "print(full_path)"
   ]
  },
  {
   "cell_type": "code",
   "execution_count": 16,
   "metadata": {},
   "outputs": [
    {
     "name": "stdout",
     "output_type": "stream",
     "text": [
      "File created at: e:\\ML-Bootcamp-Practical\\tukitaki\\file-managements\\folder\\file1.txt\n"
     ]
    }
   ],
   "source": [
    "dir_name = 'folder'\n",
    "file_name = 'file1.txt'\n",
    "folder_path = os.path.join(os.getcwd(), dir_name)\n",
    "# if we want to create and new filder that parent folder doesn't exist\n",
    "os.makedirs(folder_path, exist_ok=True)\n",
    "\n",
    "full_path = os.path.join(folder_path, file_name)\n",
    "\n",
    "# Create or open the file to ensure it exists\n",
    "with open(full_path, 'w') as file:\n",
    "    file.write(\"This is a sample text file.\")  # Writing some content to the file\n",
    "\n",
    "print(f\"File created at: {full_path}\")"
   ]
  },
  {
   "cell_type": "code",
   "execution_count": 17,
   "metadata": {},
   "outputs": [
    {
     "name": "stdout",
     "output_type": "stream",
     "text": [
      "e:\\ML-Bootcamp-Practical\\tukitaki\\file-managements\\test.bin\n"
     ]
    }
   ],
   "source": [
    "# get the absolute path\n",
    "\n",
    "relative_path = 'test.bin'\n",
    "abs_path = os.path.abspath(relative_path)\n",
    "print(abs_path)"
   ]
  }
 ],
 "metadata": {
  "kernelspec": {
   "display_name": "venv",
   "language": "python",
   "name": "python3"
  },
  "language_info": {
   "codemirror_mode": {
    "name": "ipython",
    "version": 3
   },
   "file_extension": ".py",
   "mimetype": "text/x-python",
   "name": "python",
   "nbconvert_exporter": "python",
   "pygments_lexer": "ipython3",
   "version": "3.10.0"
  }
 },
 "nbformat": 4,
 "nbformat_minor": 2
}
