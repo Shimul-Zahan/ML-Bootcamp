{
 "cells": [
  {
   "cell_type": "code",
   "execution_count": 16,
   "metadata": {},
   "outputs": [
    {
     "name": "stdout",
     "output_type": "stream",
     "text": [
      "{'hello': 2, 'world': 2, 'how': 1, 'are': 1, 'you': 1, 'come': 1, 'and': 1, 'meet': 1, 'with': 1, 'me': 1, 'ok': 1} length= 56\n"
     ]
    }
   ],
   "source": [
    "def count_word(path):\n",
    "    word_count = {}\n",
    "    total_number_of_char = 0\n",
    "    with open(path, 'r') as file:\n",
    "        for line in file:\n",
    "            words = line.split()\n",
    "            for word in words:\n",
    "                total_number_of_char += len(word)\n",
    "                word = word.lower().strip(',.!?')\n",
    "                word_count[word] = word_count.get(word, 0) + 1\n",
    "                \n",
    "    return word_count, total_number_of_char\n",
    "\n",
    "\n",
    "file_path = './words.txt'\n",
    "count = count_word(file_path)\n",
    "word_count, lenth = count\n",
    "print(f\"{word_count} length= {lenth}\")"
   ]
  }
 ],
 "metadata": {
  "kernelspec": {
   "display_name": "venv",
   "language": "python",
   "name": "python3"
  },
  "language_info": {
   "codemirror_mode": {
    "name": "ipython",
    "version": 3
   },
   "file_extension": ".py",
   "mimetype": "text/x-python",
   "name": "python",
   "nbconvert_exporter": "python",
   "pygments_lexer": "ipython3",
   "version": "3.10.0"
  }
 },
 "nbformat": 4,
 "nbformat_minor": 2
}
